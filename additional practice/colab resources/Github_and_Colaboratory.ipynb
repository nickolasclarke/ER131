{
  "nbformat": 4,
  "nbformat_minor": 0,
  "metadata": {
    "colab": {
      "name": "Github_and_Colaboratory.ipynb",
      "provenance": [],
      "collapsed_sections": []
    },
    "kernelspec": {
      "name": "python3",
      "display_name": "Python 3"
    }
  },
  "cells": [
    {
      "cell_type": "markdown",
      "metadata": {
        "id": "vnNXGZ6_MGQa",
        "colab_type": "text"
      },
      "source": [
        "# GitHub - Colaboratory Connectivity\n",
        "Yes, you can directly integrate GitHub with your Colab notebooks!"
      ]
    },
    {
      "cell_type": "markdown",
      "metadata": {
        "id": "fidXhl_NKRbm",
        "colab_type": "text"
      },
      "source": [
        "1. Make sure you have Terminal/GitBash open and ready\n",
        "\n",
        "2. Make sure you have the correct access permissions to your group's github repository\n",
        "\n",
        "3. Open Google Colab (http://colab.research.google.com) and select\n",
        " \t\tFile > Open Notebook > select Github tab > type your github username, or the owner of the group repo > \n",
        "\t\tsearch > select your group repo > select the notebook you want to edit\n",
        "\n",
        "4. Make changes to the notebook in Colab\n",
        "\n",
        "5. To commit this change back to the group Github repo, select: \n",
        "\t\tFiles > Save a Copy in Github > your group repo > \n",
        "\t\tenter a commit message explaining your changes succinctly > Click OK. \n",
        "\t(This is effectively the same as a normal commit.)\n",
        "\n",
        "6. To access the changed file on your local machine, simply git pull. \n",
        "\t\n",
        "7. To push changes to a file on your local machine and push it to Github:\n",
        "\t\tgit add <filename>\n",
        "\t\tgit commit –m “Commit Message”\n",
        "\t\tgit push <remote_name> <branch_name> \n",
        "\tTo access it in Colab, reopen the notebook the same way we did in step 6. This is effectively Colab’s version of a pull.\n",
        "\n",
        "If you make changes but don't want to save it back into your group repo, you can fork your personal repo and go through the same general steps above.\n"
      ]
    },
    {
      "cell_type": "markdown",
      "metadata": {
        "id": "UQKYc40DMhqC",
        "colab_type": "text"
      },
      "source": [
        "### Alternatively,\n",
        "You can use !git clone repo_url to give your notebook direct access to your repo."
      ]
    },
    {
      "cell_type": "code",
      "metadata": {
        "id": "cLxG4yy5NXsP",
        "colab_type": "code",
        "colab": {}
      },
      "source": [
        "# it would look something like\n",
        "!pip install -q xlrd \n",
        "\n",
        "!git clone https://github.com/your_username/my_repo # clone your repo \"locally\"\n",
        "\n",
        "!ls my_repo # view all files in the current directory\n",
        "\n",
        "!cd somewhere # change directory, if necessary\n",
        "\n",
        "\n",
        "import pandas as po\n",
        "po.read_csv(\"my_repo/data.csv\")"
      ],
      "execution_count": 0,
      "outputs": []
    },
    {
      "cell_type": "markdown",
      "metadata": {
        "id": "8w4rnD0yS8W2",
        "colab_type": "text"
      },
      "source": [
        "Feel free to contact me at popo@berkeley.edu for any questions on setting this up, or any Google Colab questions in general :)"
      ]
    }
  ]
}