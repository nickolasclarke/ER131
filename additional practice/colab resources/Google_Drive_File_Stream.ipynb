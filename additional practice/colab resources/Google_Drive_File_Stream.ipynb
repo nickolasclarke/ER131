{
  "nbformat": 4,
  "nbformat_minor": 0,
  "metadata": {
    "colab": {
      "name": "Google Drive File Stream.ipynb",
      "provenance": []
    },
    "kernelspec": {
      "name": "python3",
      "display_name": "Python 3"
    }
  },
  "cells": [
    {
      "cell_type": "markdown",
      "metadata": {
        "id": "56yxfYqjACW0",
        "colab_type": "text"
      },
      "source": [
        "# Sharing data on Google Drive\n",
        "This was created to facilitate data loading on shared notebooks. The script works great if everyone is working on this same notebook, avoiding the trouble of having all group members keep/upload a local copy.\n"
      ]
    },
    {
      "cell_type": "code",
      "metadata": {
        "id": "NOEruIzT53ez",
        "colab_type": "code",
        "colab": {
          "base_uri": "https://localhost:8080/",
          "height": 677
        },
        "outputId": "3141e003-4ade-444c-8b4f-40fc7351cfcb"
      },
      "source": [
        "# hello world\n",
        "\n",
        "### THE OWNER OF THE FOLDER SHOULD SET THIS UP ###\n",
        "folder_name = \"Cal Hacks Stuff\"\n",
        "folder_url = \"15cPBpJXILiKWNrB5weXDcY3XlQnNLFJE\"\n",
        "file_name = \"image_data (1).csv\"\n",
        "###################################################\n",
        "\n",
        "# Now, owner, make sure you share this folder with your peers!\n",
        "\n",
        "\n",
        "\n",
        "\n",
        "\n",
        "\n",
        "def connect_and_load(folder_name, folder_url, file_name, is_csv = True):\n",
        "  \"\"\"\n",
        "  Makes all files in a specified Google Drive folder readily accessible from this notebook,\n",
        "  and explicitly loads the file into a Pandas DataFrame if it is a .CSV.\n",
        "\n",
        "  Arguments:\n",
        "    folder_name* - path to folder (omit My Drive/)\n",
        "    folder_url* - URL encoding of the target folder\n",
        "    file_name - name of the file you would like to load\n",
        "    is_csv - True or False\n",
        "  \n",
        "    *set up by the owner of the Google Drive folder\n",
        "\n",
        "\n",
        "  Returns: data (if is_csv), \"Done!\" otherwise\n",
        "\n",
        "  \"\"\"\n",
        "\n",
        "  # Package installation\n",
        "  !pip install -U -q PyDrive\n",
        "  from pydrive.auth import GoogleAuth\n",
        "  from pydrive.drive import GoogleDrive\n",
        "  from google.colab import auth\n",
        "  from oauth2client.client import GoogleCredentials\n",
        "  from google.colab import drive as dr\n",
        "\n",
        "  # Authenticate and create the PyDrive client\n",
        "  auth.authenticate_user()\n",
        "  gauth = GoogleAuth()\n",
        "  gauth.credentials = GoogleCredentials.get_application_default()\n",
        "  drive = GoogleDrive(gauth)\n",
        "\n",
        "  # Fix directory\n",
        "  dr.mount('/content/gdrive', force_remount=True)\n",
        "\n",
        "  root_dir = \"/content/gdrive/My Drive/\"\n",
        "  base_dir = root_dir + folder_name + '/'\n",
        "\n",
        "  # Print directory content\n",
        "  encoding_from_url = \"'\"+folder_url+\"'\"\n",
        "\n",
        "  file_list = drive.ListFile({'q': encoding_from_url + \" in parents and trashed=false\"}).GetList()\n",
        "  print(\"Here's what's in your directory:\")\n",
        "  for file1 in file_list:\n",
        "    print('title: %s, id: %s' % (file1['title'], file1['id']))\n",
        "\n",
        "  # Find the file id corresponding to file name\n",
        "  file_id = ''\n",
        "  for file_i in file_list:\n",
        "    if(file_i['title'] == file_name): # assumes unique filenames\n",
        "      file_id = file_i['id']\n",
        "\n",
        "  data=drive.CreateFile({'id':file_id})\n",
        "  data.GetContentFile(file_name)\n",
        "\n",
        "  if(is_CSV):\n",
        "    import pandas as po\n",
        "    data = po.read_csv(file_name)\n",
        "    return data\n",
        "\n",
        "  return \"Done!\"\n",
        "    \n",
        "### Run it ###\n",
        "connect_and_load(folder_name, folder_url, file_name)"
      ],
      "execution_count": 2,
      "outputs": [
        {
          "output_type": "stream",
          "text": [
            "Mounted at /content/gdrive\n",
            "Here's what's in your directory:\n",
            "title: DATA.csv, id: 1NxDxQ2N5m6d0g9TcP1nrmo7UXP_OGsIF\n",
            "title: image_data (1), id: 1VNxYd42PNiCnBtmD-9_yR33340ylHiLcZRDu8zVqCv8\n",
            "title: user_inputted_images, id: 19xcEw1RoJa8RbJlgu09ssCbrapz8XnF5\n",
            "title: Cal_Hacks(1) (2).ipynb, id: 1usT-tWG8g7m4W0iQhJzcjpWuEQPRikdi\n",
            "title: _CalHacks Google Model.ipynb, id: 1G6Tw8qLTcGc4EbQ9TnOk66gWJVAn1_T4\n",
            "title: instafoody-3a8750af0e73.json, id: 16aVSBB1pOprvoaqHarnV2-dkBCvA9rq3\n",
            "title: hi.jpg, id: 1MHIS7OQfpixeXEIw5bkQswcPjKmMug7k\n",
            "title: food pics, id: 11wt6EDoz8BVN78VpzPaJgdcTX3IXzW_d\n",
            "title: test_image (1).jpg, id: 1L5TRm_Kg4umKFvfymQ0oEvYkqNo278ps\n",
            "title: dict_file (1).csv, id: 1ECiGQXsiqE2EAt8Z8HSfgSyONr3y9VrZ\n",
            "title: image_data (1).csv, id: 1Q8fQooI_icS3axZjGo-2ocm7pIBx_L7e\n",
            "title: instafoody-b79d5fb4c0a5 (1).json, id: 1CHzmNCSXDhE0NWXUybJRMDjDN4wdaCqu\n",
            "title: Untitled0.ipynb, id: 12Ql7I_mzXgVQvrnIsOQWMbu_CTsqvEqF\n"
          ],
          "name": "stdout"
        },
        {
          "output_type": "execute_result",
          "data": {
            "text/html": [
              "<div>\n",
              "<style scoped>\n",
              "    .dataframe tbody tr th:only-of-type {\n",
              "        vertical-align: middle;\n",
              "    }\n",
              "\n",
              "    .dataframe tbody tr th {\n",
              "        vertical-align: top;\n",
              "    }\n",
              "\n",
              "    .dataframe thead th {\n",
              "        text-align: right;\n",
              "    }\n",
              "</style>\n",
              "<table border=\"1\" class=\"dataframe\">\n",
              "  <thead>\n",
              "    <tr style=\"text-align: right;\">\n",
              "      <th></th>\n",
              "      <th>0</th>\n",
              "    </tr>\n",
              "  </thead>\n",
              "  <tbody>\n",
              "    <tr>\n",
              "      <th>0</th>\n",
              "      <td>https://s3-media2.fl.yelpcdn.com/bphoto/QpXekb...</td>\n",
              "    </tr>\n",
              "    <tr>\n",
              "      <th>1</th>\n",
              "      <td>https://s3-media2.fl.yelpcdn.com/bphoto/QpXekb...</td>\n",
              "    </tr>\n",
              "    <tr>\n",
              "      <th>2</th>\n",
              "      <td>https://s3-media3.fl.yelpcdn.com/bphoto/7VlQSH...</td>\n",
              "    </tr>\n",
              "    <tr>\n",
              "      <th>3</th>\n",
              "      <td>https://s3-media1.fl.yelpcdn.com/bphoto/ffKCGF...</td>\n",
              "    </tr>\n",
              "    <tr>\n",
              "      <th>4</th>\n",
              "      <td>https://s3-media3.fl.yelpcdn.com/bphoto/T-8Nlt...</td>\n",
              "    </tr>\n",
              "    <tr>\n",
              "      <th>...</th>\n",
              "      <td>...</td>\n",
              "    </tr>\n",
              "    <tr>\n",
              "      <th>9636</th>\n",
              "      <td>https://s3-media1.fl.yelpcdn.com/bphoto/ikWuN9...</td>\n",
              "    </tr>\n",
              "    <tr>\n",
              "      <th>9637</th>\n",
              "      <td>https://s3-media1.fl.yelpcdn.com/bphoto/cOv1we...</td>\n",
              "    </tr>\n",
              "    <tr>\n",
              "      <th>9638</th>\n",
              "      <td>https://s3-media4.fl.yelpcdn.com/bphoto/HI9Gkg...</td>\n",
              "    </tr>\n",
              "    <tr>\n",
              "      <th>9639</th>\n",
              "      <td>https://s3-media1.fl.yelpcdn.com/bphoto/CvGSkt...</td>\n",
              "    </tr>\n",
              "    <tr>\n",
              "      <th>9640</th>\n",
              "      <td>https://s3-media4.fl.yelpcdn.com/bphoto/LtAN_o...</td>\n",
              "    </tr>\n",
              "  </tbody>\n",
              "</table>\n",
              "<p>9641 rows × 1 columns</p>\n",
              "</div>"
            ],
            "text/plain": [
              "                                                      0\n",
              "0     https://s3-media2.fl.yelpcdn.com/bphoto/QpXekb...\n",
              "1     https://s3-media2.fl.yelpcdn.com/bphoto/QpXekb...\n",
              "2     https://s3-media3.fl.yelpcdn.com/bphoto/7VlQSH...\n",
              "3     https://s3-media1.fl.yelpcdn.com/bphoto/ffKCGF...\n",
              "4     https://s3-media3.fl.yelpcdn.com/bphoto/T-8Nlt...\n",
              "...                                                 ...\n",
              "9636  https://s3-media1.fl.yelpcdn.com/bphoto/ikWuN9...\n",
              "9637  https://s3-media1.fl.yelpcdn.com/bphoto/cOv1we...\n",
              "9638  https://s3-media4.fl.yelpcdn.com/bphoto/HI9Gkg...\n",
              "9639  https://s3-media1.fl.yelpcdn.com/bphoto/CvGSkt...\n",
              "9640  https://s3-media4.fl.yelpcdn.com/bphoto/LtAN_o...\n",
              "\n",
              "[9641 rows x 1 columns]"
            ]
          },
          "metadata": {
            "tags": []
          },
          "execution_count": 2
        }
      ]
    },
    {
      "cell_type": "markdown",
      "metadata": {
        "id": "1PpMmxoBAJ33",
        "colab_type": "text"
      },
      "source": [
        "# Manually uploading a local file\n",
        "If you've done any offline work, this might come in handy, too; and yes, everyone will have access to the file.\n",
        "\n",
        "(One caveat: I don't think the uploaded file is saved between kernel instances, but I'm not 100% certain)."
      ]
    },
    {
      "cell_type": "code",
      "metadata": {
        "id": "FqWqIcJZAJEi",
        "colab_type": "code",
        "colab": {}
      },
      "source": [
        "from google.colab import files\n",
        "files.upload()\n",
        "\n",
        "# the file will automatically be placed in your working directory\n",
        "# e.g. if it was a CSV, you can immediately call pd.read_csv(\"filename.csv\")"
      ],
      "execution_count": 0,
      "outputs": []
    },
    {
      "cell_type": "markdown",
      "metadata": {
        "id": "E5VukjsEH0O4",
        "colab_type": "text"
      },
      "source": [
        "Feel free to contact me at popo@berkeley.edu for any questions on setting this up, or any Google Colab questions in general :)"
      ]
    }
  ]
}