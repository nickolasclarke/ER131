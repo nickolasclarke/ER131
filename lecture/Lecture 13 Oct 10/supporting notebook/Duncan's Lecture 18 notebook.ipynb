{
 "cells": [
  {
   "cell_type": "markdown",
   "metadata": {},
   "source": [
    "# Lecture 18 in-class notebook\n",
    "\n",
    "Duncan Callaway\n",
    "\n",
    "October 23 2018"
   ]
  },
  {
   "cell_type": "markdown",
   "metadata": {},
   "source": [
    "## Introduction.\n",
    "This notebook will take us through some of the basics of cross-validation.  Along the way we'll learn a little about how to *resample* data.  \n",
    "\n",
    "And from an applied perspective, we'll explore the differences between indoor and outdoor PM concentrations."
   ]
  },
  {
   "cell_type": "code",
   "execution_count": 1,
   "metadata": {},
   "outputs": [],
   "source": [
    "import pandas as pd\n",
    "import matplotlib.pyplot as plt\n",
    "import numpy as np\n",
    "import os"
   ]
  },
  {
   "cell_type": "code",
   "execution_count": 2,
   "metadata": {},
   "outputs": [
    {
     "data": {
      "text/plain": [
       "['My Lecture 18 notebook.ipynb',\n",
       " '.DS_Store',\n",
       " 'parkside.csv',\n",
       " 'westoak.csv',\n",
       " 'sensor_map.pdf',\n",
       " 'sensor_map.png',\n",
       " 'hilltop.csv',\n",
       " 'kirchy.csv',\n",
       " \"Duncan's Lecture 18 notebook.ipynb\",\n",
       " 'blaster.csv',\n",
       " '.ipynb_checkpoints',\n",
       " 'Lecture 18 notebook.ipynb']"
      ]
     },
     "execution_count": 2,
     "metadata": {},
     "output_type": "execute_result"
    }
   ],
   "source": [
    "os.listdir()"
   ]
  },
  {
   "cell_type": "markdown",
   "metadata": {},
   "source": [
    "In this directory are five data files.  These are taken from PM sensors in the East Bay.  Two are indoor air sensors:\n",
    "- parkside\n",
    "- kirchy\n",
    "\n",
    "The three others are outdoor sensors:\n",
    "\n",
    "- westoak\n",
    "- hilltop\n",
    "- blaster\n",
    "\n",
    "Here's a map:\n",
    "![alt text](sensor_map.png \"Title\")"
   ]
  },
  {
   "cell_type": "markdown",
   "metadata": {},
   "source": [
    "## Loading the data.\n",
    "Let's create a list of strings that name each sensor -- this will help automate the loading and processing of the data:"
   ]
  },
  {
   "cell_type": "code",
   "execution_count": 3,
   "metadata": {},
   "outputs": [],
   "source": [
    "places = ['parkside', 'westoak', 'blaster', 'hilltop', 'kirchy']"
   ]
  },
  {
   "cell_type": "markdown",
   "metadata": {},
   "source": [
    "The next loop will go through each of the strings in `places` and \n",
    "- load the data, \n",
    "- create a datetime vector from the time *string* in the csv files (this takes a while computationally)\n",
    "- filter out data points before Sept 23rd (this is when I installed my sensor)\n",
    "- create a Series from the PM2.5 data only"
   ]
  },
  {
   "cell_type": "code",
   "execution_count": 5,
   "metadata": {},
   "outputs": [],
   "source": [
    "for i in range(len(places)):\n",
    "\n",
    "    # load the data:\n",
    "    df = pd.read_csv(places[i] + '.csv')\n",
    "    \n",
    "    # create a datetime column\n",
    "    df['time'] = pd.to_datetime(df['created_at'], utc=True)\n",
    "    \n",
    "    # filter out early measurements\n",
    "    bool = df['time'] > '2018-09-23'\n",
    "    df = df.loc[bool,:]\n",
    "    \n",
    "    # create the series\n",
    "    df_series = pd.Series(df.loc[:,'PM2.5_CF_ATM_ug/m3'])\n",
    "    df_series.index = df['time']\n",
    "    \n",
    "    # The `exec` function below allows me to create variables from the strings in `places`\n",
    "    exec (places[i] + \"= df_series\")"
   ]
  },
  {
   "cell_type": "code",
   "execution_count": 6,
   "metadata": {},
   "outputs": [
    {
     "data": {
      "text/html": [
       "<div>\n",
       "<style scoped>\n",
       "    .dataframe tbody tr th:only-of-type {\n",
       "        vertical-align: middle;\n",
       "    }\n",
       "\n",
       "    .dataframe tbody tr th {\n",
       "        vertical-align: top;\n",
       "    }\n",
       "\n",
       "    .dataframe thead th {\n",
       "        text-align: right;\n",
       "    }\n",
       "</style>\n",
       "<table border=\"1\" class=\"dataframe\">\n",
       "  <thead>\n",
       "    <tr style=\"text-align: right;\">\n",
       "      <th></th>\n",
       "      <th>created_at</th>\n",
       "      <th>entry_id</th>\n",
       "      <th>PM1.0_CF_ATM_ug/m3</th>\n",
       "      <th>PM2.5_CF_ATM_ug/m3</th>\n",
       "      <th>PM10.0_CF_ATM_ug/m3</th>\n",
       "      <th>UptimeMinutes</th>\n",
       "      <th>RSSI_dbm</th>\n",
       "      <th>Temperature_F</th>\n",
       "      <th>Humidity_%</th>\n",
       "      <th>PM2.5_CF_1_ug/m3</th>\n",
       "      <th>Unnamed: 10</th>\n",
       "      <th>time</th>\n",
       "    </tr>\n",
       "  </thead>\n",
       "  <tbody>\n",
       "    <tr>\n",
       "      <th>2135</th>\n",
       "      <td>2018-09-23 00:00:49 UTC</td>\n",
       "      <td>10568</td>\n",
       "      <td>4.61</td>\n",
       "      <td>6.61</td>\n",
       "      <td>6.93</td>\n",
       "      <td>299.0</td>\n",
       "      <td>-64.0</td>\n",
       "      <td>89.0</td>\n",
       "      <td>31.0</td>\n",
       "      <td>6.61</td>\n",
       "      <td>NaN</td>\n",
       "      <td>2018-09-23 00:00:49+00:00</td>\n",
       "    </tr>\n",
       "    <tr>\n",
       "      <th>2136</th>\n",
       "      <td>2018-09-23 00:02:09 UTC</td>\n",
       "      <td>10569</td>\n",
       "      <td>4.35</td>\n",
       "      <td>5.37</td>\n",
       "      <td>5.70</td>\n",
       "      <td>300.0</td>\n",
       "      <td>-66.0</td>\n",
       "      <td>89.0</td>\n",
       "      <td>30.0</td>\n",
       "      <td>5.37</td>\n",
       "      <td>NaN</td>\n",
       "      <td>2018-09-23 00:02:09+00:00</td>\n",
       "    </tr>\n",
       "    <tr>\n",
       "      <th>2137</th>\n",
       "      <td>2018-09-23 00:03:29 UTC</td>\n",
       "      <td>10570</td>\n",
       "      <td>4.23</td>\n",
       "      <td>6.13</td>\n",
       "      <td>6.62</td>\n",
       "      <td>301.0</td>\n",
       "      <td>-59.0</td>\n",
       "      <td>89.0</td>\n",
       "      <td>30.0</td>\n",
       "      <td>6.13</td>\n",
       "      <td>NaN</td>\n",
       "      <td>2018-09-23 00:03:29+00:00</td>\n",
       "    </tr>\n",
       "    <tr>\n",
       "      <th>2138</th>\n",
       "      <td>2018-09-23 00:04:49 UTC</td>\n",
       "      <td>10571</td>\n",
       "      <td>3.54</td>\n",
       "      <td>4.33</td>\n",
       "      <td>5.30</td>\n",
       "      <td>303.0</td>\n",
       "      <td>-62.0</td>\n",
       "      <td>89.0</td>\n",
       "      <td>30.0</td>\n",
       "      <td>4.33</td>\n",
       "      <td>NaN</td>\n",
       "      <td>2018-09-23 00:04:49+00:00</td>\n",
       "    </tr>\n",
       "    <tr>\n",
       "      <th>2139</th>\n",
       "      <td>2018-09-23 00:06:09 UTC</td>\n",
       "      <td>10572</td>\n",
       "      <td>3.91</td>\n",
       "      <td>5.00</td>\n",
       "      <td>5.20</td>\n",
       "      <td>304.0</td>\n",
       "      <td>-62.0</td>\n",
       "      <td>89.0</td>\n",
       "      <td>30.0</td>\n",
       "      <td>5.00</td>\n",
       "      <td>NaN</td>\n",
       "      <td>2018-09-23 00:06:09+00:00</td>\n",
       "    </tr>\n",
       "  </tbody>\n",
       "</table>\n",
       "</div>"
      ],
      "text/plain": [
       "                   created_at  entry_id  PM1.0_CF_ATM_ug/m3  \\\n",
       "2135  2018-09-23 00:00:49 UTC     10568                4.61   \n",
       "2136  2018-09-23 00:02:09 UTC     10569                4.35   \n",
       "2137  2018-09-23 00:03:29 UTC     10570                4.23   \n",
       "2138  2018-09-23 00:04:49 UTC     10571                3.54   \n",
       "2139  2018-09-23 00:06:09 UTC     10572                3.91   \n",
       "\n",
       "      PM2.5_CF_ATM_ug/m3  PM10.0_CF_ATM_ug/m3  UptimeMinutes  RSSI_dbm  \\\n",
       "2135                6.61                 6.93          299.0     -64.0   \n",
       "2136                5.37                 5.70          300.0     -66.0   \n",
       "2137                6.13                 6.62          301.0     -59.0   \n",
       "2138                4.33                 5.30          303.0     -62.0   \n",
       "2139                5.00                 5.20          304.0     -62.0   \n",
       "\n",
       "      Temperature_F  Humidity_%  PM2.5_CF_1_ug/m3  Unnamed: 10  \\\n",
       "2135           89.0        31.0              6.61          NaN   \n",
       "2136           89.0        30.0              5.37          NaN   \n",
       "2137           89.0        30.0              6.13          NaN   \n",
       "2138           89.0        30.0              4.33          NaN   \n",
       "2139           89.0        30.0              5.00          NaN   \n",
       "\n",
       "                          time  \n",
       "2135 2018-09-23 00:00:49+00:00  \n",
       "2136 2018-09-23 00:02:09+00:00  \n",
       "2137 2018-09-23 00:03:29+00:00  \n",
       "2138 2018-09-23 00:04:49+00:00  \n",
       "2139 2018-09-23 00:06:09+00:00  "
      ]
     },
     "execution_count": 6,
     "metadata": {},
     "output_type": "execute_result"
    }
   ],
   "source": [
    "df.head()"
   ]
  },
  {
   "cell_type": "markdown",
   "metadata": {},
   "source": [
    "Let's look at the tops of these new series:"
   ]
  },
  {
   "cell_type": "code",
   "execution_count": 7,
   "metadata": {},
   "outputs": [
    {
     "data": {
      "text/plain": [
       "time\n",
       "2018-09-23 00:00:49+00:00    6.61\n",
       "2018-09-23 00:02:09+00:00    5.37\n",
       "2018-09-23 00:03:29+00:00    6.13\n",
       "2018-09-23 00:04:49+00:00    4.33\n",
       "2018-09-23 00:06:09+00:00    5.00\n",
       "Name: PM2.5_CF_ATM_ug/m3, dtype: float64"
      ]
     },
     "execution_count": 7,
     "metadata": {},
     "output_type": "execute_result"
    }
   ],
   "source": [
    "kirchy.head()"
   ]
  },
  {
   "cell_type": "code",
   "execution_count": 8,
   "metadata": {},
   "outputs": [
    {
     "data": {
      "text/plain": [
       "time\n",
       "2018-09-23 00:00:47+00:00    5.14\n",
       "2018-09-23 00:02:07+00:00    5.62\n",
       "2018-09-23 00:03:27+00:00    5.02\n",
       "2018-09-23 00:04:47+00:00    4.95\n",
       "2018-09-23 00:06:07+00:00    5.48\n",
       "Name: PM2.5_CF_ATM_ug/m3, dtype: float64"
      ]
     },
     "execution_count": 8,
     "metadata": {},
     "output_type": "execute_result"
    }
   ],
   "source": [
    "hilltop.head()"
   ]
  },
  {
   "cell_type": "markdown",
   "metadata": {},
   "source": [
    "**Some Questions**\n",
    "\n",
    "1. What's the granularity of the data in time?  \n",
    "2. What problems will we run into if we fit models relating one measurement to the other?"
   ]
  },
  {
   "cell_type": "markdown",
   "metadata": {},
   "source": [
    "**Some Answers:**\n",
    "\n",
    "1. About once per minute, but not exactly\n",
    "2. The measurements are not coincident. Therefore we can't faithfully relate one to the other.\n",
    "\n",
    "Now, note that we don't know that the clocks of these sensors are synchronized -- but they are internet-connected, so we're going to assume they're close.\n",
    "\n",
    "To address this we'll use pandas' `resample` method, which aggregates data situated in time into blocks of time of fixed length.  In our case we'll aggregate by averaging all data in a particular window."
   ]
  },
  {
   "cell_type": "code",
   "execution_count": 9,
   "metadata": {},
   "outputs": [
    {
     "data": {
      "text/plain": [
       "time\n",
       "2018-09-23 00:00:00+00:00    5.182500\n",
       "2018-09-23 00:05:00+00:00    5.916667\n",
       "2018-09-23 00:10:00+00:00    4.722500\n",
       "2018-09-23 00:15:00+00:00    5.367500\n",
       "2018-09-23 00:20:00+00:00    4.852500\n",
       "Freq: 5T, Name: PM2.5_CF_ATM_ug/m3, dtype: float64"
      ]
     },
     "execution_count": 9,
     "metadata": {},
     "output_type": "execute_result"
    }
   ],
   "source": [
    "agg = '5T' # this will create a five minute averaging window\n",
    "hilltop_5T = hilltop.resample(agg).mean()\n",
    "hilltop_5T.head()"
   ]
  },
  {
   "cell_type": "markdown",
   "metadata": {},
   "source": [
    "Now you can see that the time stamps are very regular.  \n",
    "\n",
    "Note the default is to put all data in the 0-5 minute window in the measurement marked 0, 5-10 minute window into the 5 minute measurement, and so on.\n",
    "\n",
    "There are a number of other things one can customize in the execution of the function.  Read the documentation...\n",
    "\n",
    "Now let's apply this to all the data:"
   ]
  },
  {
   "cell_type": "code",
   "execution_count": 10,
   "metadata": {},
   "outputs": [],
   "source": [
    "agg = '30T' # number of minutes into which to average data. Note that I experimented with smaller averaging windows and found some data to be missing\n",
    "\n",
    "# in what follows, bfill replaces any missing data with the data from the following interval.  \n",
    "for i in range(len(places)):\n",
    "    exec (places[i] + \"_resamp = \" + places[i] + \".resample(agg).mean().bfill()\")"
   ]
  },
  {
   "cell_type": "markdown",
   "metadata": {},
   "source": [
    "That just created five series that are \"resampled\", but let's try to call it \"aggregated\" since we're referring to resampling as the process of creating new data sets from your full data set.\n",
    "\n",
    "In this case, all the data in each 30 minute window are averaged to a single value representing the entire 30 minutes.\n",
    "\n",
    "There are missing data -- so I used the `.bfill()` method.  This way, times when data are missing are given the data point for the next time step.  \n",
    "\n",
    "For each series, no more than 2 values get backfilled. I chose 30T as the time window in part to reduce the number of backfill operations.  "
   ]
  },
  {
   "cell_type": "markdown",
   "metadata": {},
   "source": [
    "## Building the model\n",
    "Now let's build the KNN model.  "
   ]
  },
  {
   "cell_type": "code",
   "execution_count": 14,
   "metadata": {},
   "outputs": [],
   "source": [
    "from sklearn.neighbors import KNeighborsRegressor\n",
    "\n",
    "k = 25 # note, lower case will be number of neighbors, upper case (later) will be number of folds.\n",
    "neigh = KNeighborsRegressor(n_neighbors=k)"
   ]
  },
  {
   "cell_type": "markdown",
   "metadata": {},
   "source": [
    "Define X and y variables.  Note that we need to `reshape` the X variable to put it in the shape that sklearn asks for.  "
   ]
  },
  {
   "cell_type": "code",
   "execution_count": 15,
   "metadata": {},
   "outputs": [],
   "source": [
    "X = np.array(hilltop_resamp).reshape(-1,1)\n",
    "y = np.array(kirchy_resamp)"
   ]
  },
  {
   "cell_type": "markdown",
   "metadata": {},
   "source": [
    "...and fit the data!"
   ]
  },
  {
   "cell_type": "code",
   "execution_count": 16,
   "metadata": {},
   "outputs": [
    {
     "data": {
      "text/plain": [
       "KNeighborsRegressor(algorithm='auto', leaf_size=30, metric='minkowski',\n",
       "          metric_params=None, n_jobs=1, n_neighbors=25, p=2,\n",
       "          weights='uniform')"
      ]
     },
     "execution_count": 16,
     "metadata": {},
     "output_type": "execute_result"
    }
   ],
   "source": [
    "neigh.fit(X, y) "
   ]
  },
  {
   "cell_type": "markdown",
   "metadata": {},
   "source": [
    "Now `neigh` contains the KNN estimate of the y-data (kirchy, an indoor sensor) from the X-data (hilltop, an outdoor sensor)."
   ]
  },
  {
   "cell_type": "markdown",
   "metadata": {},
   "source": [
    "## Make predictions with the model\n",
    "Let's create a vector of predictions:"
   ]
  },
  {
   "cell_type": "code",
   "execution_count": 17,
   "metadata": {},
   "outputs": [],
   "source": [
    "X_pred = np.arange(0,100).reshape(-1,1)\n",
    "yhat = neigh.predict(X_pred)"
   ]
  },
  {
   "cell_type": "markdown",
   "metadata": {},
   "source": [
    "...and let's plot what we've created:"
   ]
  },
  {
   "cell_type": "code",
   "execution_count": 18,
   "metadata": {},
   "outputs": [
    {
     "data": {
      "image/png": "[encoded data removed]",
      "text/plain": [
       "<Figure size 432x288 with 1 Axes>"
      ]
     },
     "metadata": {},
     "output_type": "display_data"
    }
   ],
   "source": [
    "plt.scatter(X,y)\n",
    "plt.plot(X_pred,yhat, 'r-')\n",
    "\n",
    "plt.xlim([0,100])\n",
    "plt.ylim([0,100])\n",
    "\n",
    "plt.xlabel('X')\n",
    "plt.ylabel('y');"
   ]
  },
  {
   "cell_type": "markdown",
   "metadata": {},
   "source": [
    "From this we can see that we are probably over-fitting the data to the model.  K is too small, most likely.  \n",
    "\n",
    "Now, going forward we need a way to cross-validate."
   ]
  },
  {
   "cell_type": "markdown",
   "metadata": {},
   "source": [
    "## Partitioning the data for cross validation\n",
    "First, we need to create partitions of data\n",
    "\n",
    "If we just partitioned the data into $K$ folds in the order they occur, we might inadvertently pick up correlation between variables in their order of occurrence.  \n",
    "\n",
    "For example suppose you're predicting temperature for tomorrow based on today's temperatures.  If you sample just from the morning then you'll get a bias downward since temperatures are typically lower then.  \n",
    "\n",
    "But it's also important to use disjoint folds -- that is, no two folds should contain the same data.  Why?  Because we want to make sure that when we reserve a fold for testing data those data won't also appear in the training set.\n",
    "\n",
    "But how can we do this?  \n",
    "- draw random numbers without replacement\n",
    "- randomly \"shuffle\" the data, then make the first block (roughly $n/K$ data points)."
   ]
  },
  {
   "cell_type": "markdown",
   "metadata": {},
   "source": [
    "Let's try a shuffle.  Numpy has a built in command for that.  "
   ]
  },
  {
   "cell_type": "code",
   "execution_count": 22,
   "metadata": {},
   "outputs": [
    {
     "name": "stdout",
     "output_type": "stream",
     "text": [
      "[ 0  1  2  3  4  5  6  7  8  9 10 11 12 13 14]\n",
      "[ 4 11  7  0 13  5  2  6 10  1 12  8  3  9 14]\n"
     ]
    }
   ],
   "source": [
    "# enter code here\n",
    "x = np.arange(15)\n",
    "print(x)\n",
    "np.random.shuffle(x)\n",
    "print(x)"
   ]
  },
  {
   "cell_type": "markdown",
   "metadata": {},
   "source": [
    "If you run that over and over you'll see the order of the second array changes.  You can stop that with a seed, e.g. `np.random.seed(3)`."
   ]
  },
  {
   "cell_type": "markdown",
   "metadata": {},
   "source": [
    "What to do next?  We need to partition the data.  If we want $K$ folds, then we'll need to create $K$ partitions.  Let's try K = 4."
   ]
  },
  {
   "cell_type": "code",
   "execution_count": 23,
   "metadata": {},
   "outputs": [],
   "source": [
    "K = 4\n",
    "d1 = int(np.ceil(len(x)/K))\n",
    "d2 = K\n",
    "x_partitioned = np.full((d1, d2), np.nan)\n",
    "\n",
    "for i in range(K):\n",
    "    x_partitioned[0:len(x[i::K]),i] = x[i::K]"
   ]
  },
  {
   "cell_type": "code",
   "execution_count": 24,
   "metadata": {},
   "outputs": [
    {
     "data": {
      "text/plain": [
       "array([[ 4., 11.,  7.,  0.],\n",
       "       [13.,  5.,  2.,  6.],\n",
       "       [10.,  1., 12.,  8.],\n",
       "       [ 3.,  9., 14., nan]])"
      ]
     },
     "execution_count": 24,
     "metadata": {},
     "output_type": "execute_result"
    }
   ],
   "source": [
    "x_partitioned"
   ]
  },
  {
   "cell_type": "markdown",
   "metadata": {},
   "source": [
    "Now you can see we have an array with randomly placed entries from the original series.  Each of these can be thought of as a fold."
   ]
  },
  {
   "cell_type": "markdown",
   "metadata": {},
   "source": [
    "## Streamlining K-fold with scikit-learn:\n",
    "Now let's think about how to fit models and construct errors for each.\n",
    "\n",
    "Because we're going to be splitting both the input and response variables, I'm going to transition now to using a built-in class from scikit-learn: "
   ]
  },
  {
   "cell_type": "code",
   "execution_count": 25,
   "metadata": {},
   "outputs": [],
   "source": [
    "import sklearn.model_selection as skm\n",
    "from sklearn.metrics import mean_squared_error"
   ]
  },
  {
   "cell_type": "code",
   "execution_count": 26,
   "metadata": {},
   "outputs": [],
   "source": [
    "kf = skm.KFold(n_splits=K, shuffle=True, random_state=7) "
   ]
  },
  {
   "cell_type": "markdown",
   "metadata": {},
   "source": [
    "That makes an object that can put data into K splits.  \n",
    "\n",
    "Let's redefine $x$ so it's ordered.  This will allow us to see how it works:"
   ]
  },
  {
   "cell_type": "code",
   "execution_count": 28,
   "metadata": {},
   "outputs": [
    {
     "data": {
      "text/plain": [
       "array([ 0,  1,  2,  3,  4,  5,  6,  7,  8,  9, 10, 11, 12, 13, 14])"
      ]
     },
     "execution_count": 28,
     "metadata": {},
     "output_type": "execute_result"
    }
   ],
   "source": [
    "#enter code here\n",
    "x = np.arange(15)\n",
    "x"
   ]
  },
  {
   "cell_type": "code",
   "execution_count": 29,
   "metadata": {},
   "outputs": [
    {
     "name": "stdout",
     "output_type": "stream",
     "text": [
      "train is [ 0  1  3  4  6  7  9 11 12 13 14] test is  [ 2  5  8 10]\n",
      "train is [ 2  3  4  5  6  7  8  9 10 11 13] test is  [ 0  1 12 14]\n",
      "train is [ 0  1  2  4  5  6  8  9 10 12 14] test is  [ 3  7 11 13]\n",
      "train is [ 0  1  2  3  5  7  8 10 11 12 13 14] test is  [4 6 9]\n"
     ]
    }
   ],
   "source": [
    "#enter more code here \n",
    "for train, test in kf.split(x):\n",
    "    print('train is', train, 'test is ', test)"
   ]
  },
  {
   "cell_type": "markdown",
   "metadata": {},
   "source": [
    "Notice that if the number of data points is not divisible by $K$, KFold actually makes a number of folds that are one data point less in length, rather than one split that is a number of data points shorter."
   ]
  },
  {
   "cell_type": "code",
   "execution_count": 38,
   "metadata": {},
   "outputs": [],
   "source": [
    "K = 5\n",
    "kf = skm.KFold(n_splits=K, shuffle=True, random_state=8) "
   ]
  },
  {
   "cell_type": "code",
   "execution_count": 39,
   "metadata": {},
   "outputs": [],
   "source": [
    "X = np.array(hilltop_resamp).reshape(-1,1)\n",
    "y = np.array(kirchy_resamp)\n",
    "\n",
    "# set parameters\n",
    "k_min = 10\n",
    "k_max = 200\n",
    "step = 10\n",
    "\n",
    "# initialize k\n",
    "k_vect = np.arange(k_min, k_max, step)\n",
    "n_steps = len(k_vect)\n",
    "\n",
    "# initialize MSEs\n",
    "MSE_test = np.zeros(n_steps)\n",
    "MSE_train = np.zeros(n_steps)\n",
    "\n",
    "#loop on number of neighbors.  Inner loop takes us through each split of the data.\n",
    "for i in range(len(k_vect)):\n",
    "    MSE_test[i] = 0\n",
    "    MSE_train[i] = 0\n",
    "    neigh = KNeighborsRegressor(n_neighbors=k_vect[i])\n",
    "    for train, test in kf.split(X):  # test and train will be indices we can use to partition the data\n",
    "        neigh.fit(X[train], y[train]) \n",
    "        MSE_test[i] = MSE_test[i]+ 1/K * np.mean((neigh.predict(X[test]) - y[test])**2)\n",
    "        MSE_train[i] = MSE_train[i]+ 1/K * np.mean((neigh.predict(X[train]) - y[train])**2)\n",
    "        \n",
    "test_train = np.array([MSE_test, MSE_train]).transpose()"
   ]
  },
  {
   "cell_type": "code",
   "execution_count": 40,
   "metadata": {},
   "outputs": [
    {
     "data": {
      "image/png": "[encoded data removed]",
      "text/plain": [
       "<Figure size 432x288 with 1 Axes>"
      ]
     },
     "metadata": {},
     "output_type": "display_data"
    }
   ],
   "source": [
    "plt.plot(k_vect, test_train)\n",
    "plt.xlabel('$k$ for K-nearest neigbor model')\n",
    "plt.title('MSE versus number of neighbors')\n",
    "plt.ylabel('mean squared error');\n",
    "plt.legend(['test MSE', 'train MSE']);"
   ]
  },
  {
   "cell_type": "markdown",
   "metadata": {},
   "source": [
    "## Building the final model\n",
    "Now that we know the right flexibility for the model (50 neighbors), we can build the final model with *all* the data."
   ]
  },
  {
   "cell_type": "code",
   "execution_count": null,
   "metadata": {},
   "outputs": [],
   "source": [
    "k_opt = k_vect[MSE_test == np.min(MSE_test)][0]\n",
    "k_opt"
   ]
  },
  {
   "cell_type": "code",
   "execution_count": null,
   "metadata": {},
   "outputs": [],
   "source": [
    "final_knn = KNeighborsRegressor(n_neighbors=k_opt)\n",
    "final_knn.fit(X, y)"
   ]
  },
  {
   "cell_type": "markdown",
   "metadata": {},
   "source": [
    "## How well does outdoor air quality predict indoor air quality?\n",
    "Now let's come back to the question: how well does outdoor air quality predict indoor air quality?\n",
    "\n",
    "Let's do the following\n",
    "1. Build a model that predicts outdoor air at one location from outdoor air at another.\n",
    "2. Build a model that predicts indoor air at one location from outdoor air at another.\n",
    "3. Compare performance of the two.  "
   ]
  },
  {
   "cell_type": "code",
   "execution_count": null,
   "metadata": {},
   "outputs": [],
   "source": [
    "X = np.array(hilltop_resamp).reshape(-1,1)\n",
    "y_hilltop = np.array(kirchy_resamp)\n",
    "\n",
    "final_knn = KNeighborsRegressor(n_neighbors=k_opt)\n",
    "final_knn.fit(X, y_hilltop)\n",
    "\n",
    "kirchy_from_hilltop = final_knn \n",
    "kirchy_pred = kirchy_from_hilltop.predict(X_pred)"
   ]
  },
  {
   "cell_type": "code",
   "execution_count": null,
   "metadata": {},
   "outputs": [],
   "source": [
    "y_westoak = np.array(westoak_resamp)\n",
    "\n",
    "final_knn = KNeighborsRegressor(n_neighbors=k_opt)\n",
    "final_knn.fit(X, y_westoak)\n",
    "\n",
    "westoak_from_hilltop = final_knn\n",
    "westoak_pred = westoak_from_hilltop.predict(X_pred)"
   ]
  },
  {
   "cell_type": "code",
   "execution_count": null,
   "metadata": {},
   "outputs": [],
   "source": [
    "f = plt.figure(figsize=(6,6))\n",
    "ax1 = f.add_subplot(211)\n",
    "\n",
    "\n",
    "# first subplot -- vs indoor\n",
    "plt.scatter(X,y_hilltop)\n",
    "plt.plot(X_pred, kirchy_pred, 'r-')\n",
    "plt.plot(X_pred, X_pred, 'y')\n",
    "\n",
    "plt.xlim([0,100])\n",
    "plt.ylim([0,100])\n",
    "\n",
    "plt.xlabel('Hilltop Oakland (outdoor)')\n",
    "plt.ylabel('Kirchy (indoor)');\n",
    "plt.title('Indoor versus outdoor PM concentrations');\n",
    "\n",
    "plt.legend([ 'KNN model', 'data', 'y=x'])\n",
    "# second subplot -- vs outdoor\n",
    "ax2 = f.add_subplot(212)\n",
    "\n",
    "plt.scatter(X,y_westoak)\n",
    "plt.plot(X_pred, westoak_pred, 'r-')\n",
    "plt.plot(X_pred, X_pred, 'y')\n",
    "\n",
    "plt.xlim([0,100])\n",
    "plt.ylim([0,100])\n",
    "\n",
    "plt.ylabel('West Oakland (outdoor)')\n",
    "plt.xlabel('Hilltop (outdoor)');\n",
    "\n",
    "plt.title('Outdoor versus outdoor PM concentrations');\n",
    "\n",
    "# clean up sizing\n",
    "plt.tight_layout();"
   ]
  },
  {
   "cell_type": "markdown",
   "metadata": {},
   "source": [
    "What can we observe from the plots?\n",
    "1. Indoor appears to be *usually* lower than Hilltop outdoor\n",
    "2. West Oakland outdoor is on average higher than Hilltop outdoor\n",
    "3. But the indoor extremes are really extreme -- pull the estimates up.\n",
    "4. When the data \"run out\" the model is systematically high (high values of outdoor predictor)"
   ]
  },
  {
   "cell_type": "code",
   "execution_count": null,
   "metadata": {},
   "outputs": [],
   "source": []
  }
 ],
 "metadata": {
  "kernelspec": {
   "display_name": "Python 3",
   "language": "python",
   "name": "python3"
  },
  "language_info": {
   "codemirror_mode": {
    "name": "ipython",
    "version": 3
   },
   "file_extension": ".py",
   "mimetype": "text/x-python",
   "name": "python",
   "nbconvert_exporter": "python",
   "pygments_lexer": "ipython3",
   "version": "3.6.4"
  }
 },
 "nbformat": 4,
 "nbformat_minor": 2
}
