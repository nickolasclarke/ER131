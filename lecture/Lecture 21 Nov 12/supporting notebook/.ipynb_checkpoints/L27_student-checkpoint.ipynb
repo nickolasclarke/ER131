{
 "cells": [
  {
   "cell_type": "markdown",
   "metadata": {},
   "source": [
    "## Lecture 27 Notebook: SVM and Parameter Tuning\n",
    "Duncan Callaway\n",
    "November 27 2018"
   ]
  },
  {
   "cell_type": "code",
   "execution_count": null,
   "metadata": {},
   "outputs": [],
   "source": [
    "import pandas as pd\n",
    "import numpy as np\n",
    "from matplotlib import pyplot as plt"
   ]
  },
  {
   "cell_type": "code",
   "execution_count": null,
   "metadata": {},
   "outputs": [],
   "source": [
    "pd.options.display.max_columns = 100"
   ]
  },
  {
   "cell_type": "markdown",
   "metadata": {},
   "source": [
    "Let's import the environmental and demographic datasets from CES:"
   ]
  },
  {
   "cell_type": "code",
   "execution_count": null,
   "metadata": {},
   "outputs": [],
   "source": [
    "env = pd.read_csv('ces3results_environment.csv')\n",
    "demog = pd.read_csv('ces3results_demographics.csv')"
   ]
  },
  {
   "cell_type": "code",
   "execution_count": null,
   "metadata": {},
   "outputs": [],
   "source": [
    "env.head()"
   ]
  },
  {
   "cell_type": "code",
   "execution_count": null,
   "metadata": {},
   "outputs": [],
   "source": [
    "demog.head()"
   ]
  },
  {
   "cell_type": "code",
   "execution_count": null,
   "metadata": {},
   "outputs": [],
   "source": [
    "print('Enviro cols are ', env.columns)\n",
    "print('Demographics cols are ',demog.columns)"
   ]
  },
  {
   "cell_type": "markdown",
   "metadata": {},
   "source": [
    "Now merge them..."
   ]
  },
  {
   "cell_type": "code",
   "execution_count": null,
   "metadata": {},
   "outputs": [],
   "source": [
    "all = "
   ]
  },
  {
   "cell_type": "markdown",
   "metadata": {},
   "source": [
    "Let's look at the size of the new dataframe"
   ]
  },
  {
   "cell_type": "code",
   "execution_count": null,
   "metadata": {},
   "outputs": [],
   "source": []
  },
  {
   "cell_type": "markdown",
   "metadata": {},
   "source": [
    "There is a lot of data in this frame, much of which is correlated.  What kind of prediction exercises could we do?  Why would that be relevant as a resource allocation problem?\n",
    "\n",
    "\n",
    "\n",
    "\n",
    "\n",
    "\n",
    "\n"
   ]
  },
  {
   "cell_type": "markdown",
   "metadata": {},
   "source": [
    "For this demonstration we're going to look at impaired water bodies.  \n",
    "- CES documents how many pollutants are found in nearby water bodies.\n",
    "- Map (here)[https://oehha.ca.gov/calenviroscreen/indicator/impaired-water-bodies]\n",
    "- Hypothetical situation: suppose other indicators in the data set are updated more quickly than the impaired water body measures.  In this case we'd like to predict impaired water body statistics from the other CES data.  \n",
    "- Let's go a step further and see if we can do that prediction with only demographic and health measures for the communities."
   ]
  },
  {
   "cell_type": "code",
   "execution_count": null,
   "metadata": {},
   "outputs": [],
   "source": [
    "np.mean(all.loc[:,'Imp. Water Bodies']>=3)"
   ]
  },
  {
   "cell_type": "code",
   "execution_count": null,
   "metadata": {
    "collapsed": true
   },
   "outputs": [],
   "source": [
    "all = all.dropna()"
   ]
  },
  {
   "cell_type": "code",
   "execution_count": null,
   "metadata": {
    "collapsed": true
   },
   "outputs": [],
   "source": [
    "X = all.loc[:,'Asthma':]\n",
    "X = X.drop(['Census Tract ', ' CES 3.0 Score', 'CES 3.0 Percentile', ' CES 3.0 \\nPercentile Range', 'California \\nCounty'], axis = 1);\n",
    "X.columns"
   ]
  },
  {
   "cell_type": "code",
   "execution_count": null,
   "metadata": {},
   "outputs": [],
   "source": [
    "y_waste = all[['Solid Waste']]\n",
    "y_water = all[['Imp. Water Bodies']]!=0 "
   ]
  },
  {
   "cell_type": "markdown",
   "metadata": {},
   "source": [
    "## Predicting whether water bodies are contaminated\n",
    "\n",
    "In this section we'll run an SVM -- checking different parameter options by cross validation -- to predict whether or not water bodies near each community are contaminated on the basis of their socio-economic metrics. "
   ]
  },
  {
   "cell_type": "code",
   "execution_count": null,
   "metadata": {},
   "outputs": [],
   "source": [
    "from sklearn.model_selection import train_test_split"
   ]
  },
  {
   "cell_type": "code",
   "execution_count": null,
   "metadata": {},
   "outputs": [],
   "source": [
    "X_train, X_test, y_train, y_test = "
   ]
  },
  {
   "cell_type": "code",
   "execution_count": null,
   "metadata": {},
   "outputs": [],
   "source": [
    "from sklearn.svm import SVC\n",
    "from sklearn.model_selection import RandomizedSearchCV\n",
    "from scipy.stats import randint"
   ]
  },
  {
   "cell_type": "code",
   "execution_count": null,
   "metadata": {},
   "outputs": [],
   "source": [
    "SV_model = SVC()\n",
    "param_dist = {...}\n",
    "\n",
    "rnd_search = RandomizedSearchCV(SV_model, param_distributions=param_dist, \n",
    "                                cv=3, n_iter=4, n_jobs=4)\n",
    "\n",
    "rnd_search.fit(X_train, y_train['Imp. Water Bodies'])\n",
    "\n",
    "print(rnd_search.best_score_)\n",
    "print(rnd_search.best_params_)"
   ]
  },
  {
   "cell_type": "code",
   "execution_count": null,
   "metadata": {},
   "outputs": [],
   "source": [
    "tuned_train_score = rnd_search.score(X_train, y_train)\n",
    "tuned_test_score = rnd_search.score(X_test, y_test)\n",
    "\n",
    "print('Train Score: ', tuned_train_score)\n",
    "print('Test Score: ', tuned_test_score)"
   ]
  },
  {
   "cell_type": "code",
   "execution_count": null,
   "metadata": {},
   "outputs": [],
   "source": [
    "from sklearn.metrics import confusion_matrix"
   ]
  },
  {
   "cell_type": "code",
   "execution_count": null,
   "metadata": {},
   "outputs": [],
   "source": [
    "y_pred = rnd_search.predict(X_test)\n",
    "confusion_matrix(y_test, y_pred)"
   ]
  },
  {
   "cell_type": "markdown",
   "metadata": {},
   "source": [
    "## Let's try different classifiers"
   ]
  },
  {
   "cell_type": "markdown",
   "metadata": {},
   "source": [
    "### KNN"
   ]
  },
  {
   "cell_type": "code",
   "execution_count": null,
   "metadata": {},
   "outputs": [],
   "source": [
    "from sklearn.neighbors import KNeighborsClassifier as KNC"
   ]
  },
  {
   "cell_type": "code",
   "execution_count": null,
   "metadata": {},
   "outputs": [],
   "source": [
    "X_train, X_test, y_train, y_test = "
   ]
  },
  {
   "cell_type": "code",
   "execution_count": null,
   "metadata": {},
   "outputs": [],
   "source": [
    "KNC_model = ...\n",
    "param_dist = {...}\n",
    "\n",
    "KNC_search = RandomizedSearchCV(KNC_model, param_distributions=param_dist, \n",
    "                                cv=3, n_iter=100, n_jobs=4)\n",
    "\n",
    "KNC_search.fit(X_train, y_train['Imp. Water Bodies'])\n",
    "\n",
    "print(KNC_search.best_score_)\n",
    "print(KNC_search.best_params_)"
   ]
  },
  {
   "cell_type": "code",
   "execution_count": null,
   "metadata": {},
   "outputs": [],
   "source": [
    "KNC_train_score = KNC_search.score(X_train, y_train)\n",
    "KNC_test_score = KNC_search.score(X_test, y_test)\n",
    "\n",
    "print('Train Score: ', KNC_train_score)\n",
    "print('Test Score: ', KNC_test_score)\n",
    "\n",
    "y_pred = KNC_search.predict(X_test)\n",
    "confusion_matrix(y_test, y_pred)"
   ]
  },
  {
   "cell_type": "markdown",
   "metadata": {},
   "source": [
    "### Random forest"
   ]
  },
  {
   "cell_type": "code",
   "execution_count": null,
   "metadata": {},
   "outputs": [],
   "source": [
    "from sklearn.ensemble import RandomForestClassifier as RFC"
   ]
  },
  {
   "cell_type": "code",
   "execution_count": null,
   "metadata": {},
   "outputs": [],
   "source": [
    "RFC_model = ...\n",
    "\n",
    "RFC_model.fit(X_train, y_train['Imp. Water Bodies'])"
   ]
  },
  {
   "cell_type": "code",
   "execution_count": null,
   "metadata": {},
   "outputs": [],
   "source": [
    "RFC_train_score = RFC_model.score(X_train, y_train)\n",
    "RFC_test_score = RFC_model.score(X_test, y_test)\n",
    "\n",
    "print('Train Score: ', RFC_train_score)\n",
    "print('Test Score: ', RFC_test_score)\n",
    "\n",
    "y_pred = RFC_model.predict(X_test)\n",
    "confusion_matrix(y_test, y_pred)"
   ]
  },
  {
   "cell_type": "code",
   "execution_count": null,
   "metadata": {},
   "outputs": [],
   "source": []
  }
 ],
 "metadata": {
  "kernelspec": {
   "display_name": "Python 3",
   "language": "python",
   "name": "python3"
  },
  "language_info": {
   "codemirror_mode": {
    "name": "ipython",
    "version": 3
   },
   "file_extension": ".py",
   "mimetype": "text/x-python",
   "name": "python",
   "nbconvert_exporter": "python",
   "pygments_lexer": "ipython3",
   "version": "3.6.4"
  }
 },
 "nbformat": 4,
 "nbformat_minor": 2
}
