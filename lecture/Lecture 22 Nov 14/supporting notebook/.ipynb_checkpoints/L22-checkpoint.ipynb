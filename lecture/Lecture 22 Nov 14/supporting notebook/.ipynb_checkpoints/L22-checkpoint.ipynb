{
 "cells": [
  {
   "cell_type": "markdown",
   "metadata": {},
   "source": [
    "## Lecture 22 Notebook: SVM and Parameter Tuning\n",
    "Duncan Callaway\n",
    "November 14 2019"
   ]
  },
  {
   "cell_type": "code",
   "execution_count": 1,
   "metadata": {},
   "outputs": [],
   "source": [
    "import pandas as pd\n",
    "import numpy as np\n",
    "from matplotlib import pyplot as plt"
   ]
  },
  {
   "cell_type": "code",
   "execution_count": 2,
   "metadata": {},
   "outputs": [],
   "source": [
    "pd.options.display.max_columns = 100"
   ]
  },
  {
   "cell_type": "markdown",
   "metadata": {},
   "source": [
    "Let's import the environmental and demographic datasets from CES:"
   ]
  },
  {
   "cell_type": "code",
   "execution_count": 3,
   "metadata": {},
   "outputs": [
    {
     "name": "stdout",
     "output_type": "stream",
     "text": [
      "Enviro cols are  Index(['Census Tract', 'Total Population', 'California County', 'ZIP',\n",
      "       'Nearby City \\n(to help approximate location only)', 'Longitude',\n",
      "       'Latitude', 'CES 3.0 Score', ' CES 3.0 Percentile',\n",
      "       'CES 3.0 \\nPercentile Range', 'SB 535 Disadvantaged Community', 'Ozone',\n",
      "       'Ozone Pctl', 'PM2.5', 'PM2.5 Pctl', 'Diesel PM', 'Diesel PM Pctl',\n",
      "       'Drinking Water', 'Drinking Water Pctl', 'Pesticides',\n",
      "       'Pesticides Pctl', 'Tox. Release', 'Tox. Release Pctl', 'Traffic',\n",
      "       'Traffic Pctl', 'Cleanup Sites', 'Cleanup Sites Pctl',\n",
      "       'Groundwater Threats', 'Groundwater Threats Pctl', 'Haz. Waste',\n",
      "       'Haz. Waste Pctl', 'Imp. Water Bodies', 'Imp. Water Bodies Pctl',\n",
      "       'Solid Waste', 'Solid Waste Pctl', 'Pollution Burden',\n",
      "       'Pollution Burden Score', 'Pollution Burden Pctl', 'Asthma',\n",
      "       'Asthma Pctl', 'Low Birth Weight', 'Low Birth Weight Pctl',\n",
      "       'Cardiovascular Disease', 'Cardiovascular Disease Pctl', 'Education',\n",
      "       'Education Pctl', 'Linguistic Isolation', 'Linguistic Isolation Pctl',\n",
      "       'Poverty', 'Poverty Pctl', 'Unemployment', 'Unemployment Pctl',\n",
      "       'Housing Burden', 'Housing Burden Pctl', 'Pop. Char. ',\n",
      "       'Pop. Char. Score', 'Pop. Char. Pctl'],\n",
      "      dtype='object')\n",
      "Demographics cols are  Index(['Census Tract ', ' CES 3.0 Score', 'CES 3.0 Percentile',\n",
      "       ' CES 3.0 \\nPercentile Range', 'Total Population',\n",
      "       'California \\nCounty', 'Children < 10 (%)', 'Pop 11-64 years (%)',\n",
      "       'Elderly > 65 (%)', 'Hispanic (%)', 'White (%)', 'African American (%)',\n",
      "       'Native American (%)', 'Asian American (%)', 'Other (%)'],\n",
      "      dtype='object')\n"
     ]
    }
   ],
   "source": [
    "env = pd.read_csv('ces3results_environment.csv')\n",
    "demog = pd.read_csv('ces3results_demographics.csv')\n",
    "\n",
    "print('Enviro cols are ', env.columns)\n",
    "print('Demographics cols are ',demog.columns)"
   ]
  },
  {
   "cell_type": "markdown",
   "metadata": {},
   "source": [
    "Now merge them..."
   ]
  },
  {
   "cell_type": "code",
   "execution_count": 4,
   "metadata": {},
   "outputs": [
    {
     "data": {
      "text/html": [
       "<div>\n",
       "<style scoped>\n",
       "    .dataframe tbody tr th:only-of-type {\n",
       "        vertical-align: middle;\n",
       "    }\n",
       "\n",
       "    .dataframe tbody tr th {\n",
       "        vertical-align: top;\n",
       "    }\n",
       "\n",
       "    .dataframe thead th {\n",
       "        text-align: right;\n",
       "    }\n",
       "</style>\n",
       "<table border=\"1\" class=\"dataframe\">\n",
       "  <thead>\n",
       "    <tr style=\"text-align: right;\">\n",
       "      <th></th>\n",
       "      <th>Census Tract</th>\n",
       "      <th>Total Population_x</th>\n",
       "      <th>California County</th>\n",
       "      <th>ZIP</th>\n",
       "      <th>Nearby City \n",
       "(to help approximate location only)</th>\n",
       "      <th>Longitude</th>\n",
       "      <th>Latitude</th>\n",
       "      <th>CES 3.0 Score</th>\n",
       "      <th>CES 3.0 Percentile</th>\n",
       "      <th>CES 3.0 \n",
       "Percentile Range</th>\n",
       "      <th>SB 535 Disadvantaged Community</th>\n",
       "      <th>Ozone</th>\n",
       "      <th>Ozone Pctl</th>\n",
       "      <th>PM2.5</th>\n",
       "      <th>PM2.5 Pctl</th>\n",
       "      <th>Diesel PM</th>\n",
       "      <th>Diesel PM Pctl</th>\n",
       "      <th>Drinking Water</th>\n",
       "      <th>Drinking Water Pctl</th>\n",
       "      <th>Pesticides</th>\n",
       "      <th>Pesticides Pctl</th>\n",
       "      <th>Tox. Release</th>\n",
       "      <th>Tox. Release Pctl</th>\n",
       "      <th>Traffic</th>\n",
       "      <th>Traffic Pctl</th>\n",
       "      <th>Cleanup Sites</th>\n",
       "      <th>Cleanup Sites Pctl</th>\n",
       "      <th>Groundwater Threats</th>\n",
       "      <th>Groundwater Threats Pctl</th>\n",
       "      <th>Haz. Waste</th>\n",
       "      <th>Haz. Waste Pctl</th>\n",
       "      <th>Imp. Water Bodies</th>\n",
       "      <th>Imp. Water Bodies Pctl</th>\n",
       "      <th>Solid Waste</th>\n",
       "      <th>Solid Waste Pctl</th>\n",
       "      <th>Pollution Burden</th>\n",
       "      <th>Pollution Burden Score</th>\n",
       "      <th>Pollution Burden Pctl</th>\n",
       "      <th>Asthma</th>\n",
       "      <th>Asthma Pctl</th>\n",
       "      <th>Low Birth Weight</th>\n",
       "      <th>Low Birth Weight Pctl</th>\n",
       "      <th>Cardiovascular Disease</th>\n",
       "      <th>Cardiovascular Disease Pctl</th>\n",
       "      <th>Education</th>\n",
       "      <th>Education Pctl</th>\n",
       "      <th>Linguistic Isolation</th>\n",
       "      <th>Linguistic Isolation Pctl</th>\n",
       "      <th>Poverty</th>\n",
       "      <th>Poverty Pctl</th>\n",
       "      <th>Unemployment</th>\n",
       "      <th>Unemployment Pctl</th>\n",
       "      <th>Housing Burden</th>\n",
       "      <th>Housing Burden Pctl</th>\n",
       "      <th>Pop. Char.</th>\n",
       "      <th>Pop. Char. Score</th>\n",
       "      <th>Pop. Char. Pctl</th>\n",
       "      <th>Census Tract</th>\n",
       "      <th>CES 3.0 Score</th>\n",
       "      <th>CES 3.0 Percentile</th>\n",
       "      <th>CES 3.0 \n",
       "Percentile Range</th>\n",
       "      <th>Total Population_y</th>\n",
       "      <th>California \n",
       "County</th>\n",
       "      <th>Children &lt; 10 (%)</th>\n",
       "      <th>Pop 11-64 years (%)</th>\n",
       "      <th>Elderly &gt; 65 (%)</th>\n",
       "      <th>Hispanic (%)</th>\n",
       "      <th>White (%)</th>\n",
       "      <th>African American (%)</th>\n",
       "      <th>Native American (%)</th>\n",
       "      <th>Asian American (%)</th>\n",
       "      <th>Other (%)</th>\n",
       "    </tr>\n",
       "  </thead>\n",
       "  <tbody>\n",
       "    <tr>\n",
       "      <th>0</th>\n",
       "      <td>6019001100</td>\n",
       "      <td>3174</td>\n",
       "      <td>Fresno</td>\n",
       "      <td>93706</td>\n",
       "      <td>Fresno</td>\n",
       "      <td>-119.781696</td>\n",
       "      <td>36.709695</td>\n",
       "      <td>94.09</td>\n",
       "      <td>100.00</td>\n",
       "      <td>95-100% (highest scores)</td>\n",
       "      <td>Yes</td>\n",
       "      <td>0.065</td>\n",
       "      <td>98.18</td>\n",
       "      <td>15.40</td>\n",
       "      <td>97.22</td>\n",
       "      <td>48.524</td>\n",
       "      <td>95.54</td>\n",
       "      <td>681.20</td>\n",
       "      <td>80.92</td>\n",
       "      <td>2.75</td>\n",
       "      <td>47.82</td>\n",
       "      <td>18551.957190</td>\n",
       "      <td>97.46</td>\n",
       "      <td>909.14</td>\n",
       "      <td>62.98</td>\n",
       "      <td>80.5</td>\n",
       "      <td>98.67</td>\n",
       "      <td>45.75</td>\n",
       "      <td>89.85</td>\n",
       "      <td>0.795</td>\n",
       "      <td>84.32</td>\n",
       "      <td>0</td>\n",
       "      <td>0.00</td>\n",
       "      <td>21.75</td>\n",
       "      <td>97.81</td>\n",
       "      <td>79.96</td>\n",
       "      <td>9.85</td>\n",
       "      <td>99.95</td>\n",
       "      <td>131.64</td>\n",
       "      <td>97.67</td>\n",
       "      <td>7.44</td>\n",
       "      <td>93.84</td>\n",
       "      <td>14.13</td>\n",
       "      <td>96.31</td>\n",
       "      <td>53.3</td>\n",
       "      <td>95.76</td>\n",
       "      <td>16.2</td>\n",
       "      <td>77.51</td>\n",
       "      <td>76.3</td>\n",
       "      <td>97.12</td>\n",
       "      <td>17.6</td>\n",
       "      <td>91.72</td>\n",
       "      <td>26.0</td>\n",
       "      <td>79.40</td>\n",
       "      <td>92.12</td>\n",
       "      <td>9.55</td>\n",
       "      <td>99.70</td>\n",
       "      <td>6019001100</td>\n",
       "      <td>94.09</td>\n",
       "      <td>100.00</td>\n",
       "      <td>95-100% (highest scores)</td>\n",
       "      <td>3174</td>\n",
       "      <td>Fresno</td>\n",
       "      <td>18.8</td>\n",
       "      <td>73.6</td>\n",
       "      <td>7.6</td>\n",
       "      <td>65.3</td>\n",
       "      <td>4.2</td>\n",
       "      <td>24.6</td>\n",
       "      <td>0.5</td>\n",
       "      <td>3.5</td>\n",
       "      <td>1.8</td>\n",
       "    </tr>\n",
       "    <tr>\n",
       "      <th>1</th>\n",
       "      <td>6071001600</td>\n",
       "      <td>6133</td>\n",
       "      <td>San Bernardino</td>\n",
       "      <td>91761</td>\n",
       "      <td>Ontario</td>\n",
       "      <td>-117.618013</td>\n",
       "      <td>34.057780</td>\n",
       "      <td>90.68</td>\n",
       "      <td>99.99</td>\n",
       "      <td>95-100% (highest scores)</td>\n",
       "      <td>Yes</td>\n",
       "      <td>0.062</td>\n",
       "      <td>91.10</td>\n",
       "      <td>13.31</td>\n",
       "      <td>93.64</td>\n",
       "      <td>38.556</td>\n",
       "      <td>92.12</td>\n",
       "      <td>904.66</td>\n",
       "      <td>96.11</td>\n",
       "      <td>1.37</td>\n",
       "      <td>41.34</td>\n",
       "      <td>7494.236622</td>\n",
       "      <td>89.05</td>\n",
       "      <td>782.26</td>\n",
       "      <td>55.66</td>\n",
       "      <td>66.2</td>\n",
       "      <td>97.68</td>\n",
       "      <td>36.00</td>\n",
       "      <td>85.57</td>\n",
       "      <td>1.250</td>\n",
       "      <td>88.77</td>\n",
       "      <td>5</td>\n",
       "      <td>55.01</td>\n",
       "      <td>12.00</td>\n",
       "      <td>92.17</td>\n",
       "      <td>81.19</td>\n",
       "      <td>10.00</td>\n",
       "      <td>100.00</td>\n",
       "      <td>60.66</td>\n",
       "      <td>69.78</td>\n",
       "      <td>7.04</td>\n",
       "      <td>90.85</td>\n",
       "      <td>12.94</td>\n",
       "      <td>92.66</td>\n",
       "      <td>53.3</td>\n",
       "      <td>95.76</td>\n",
       "      <td>33.4</td>\n",
       "      <td>96.25</td>\n",
       "      <td>72.5</td>\n",
       "      <td>94.63</td>\n",
       "      <td>12.3</td>\n",
       "      <td>71.82</td>\n",
       "      <td>34.1</td>\n",
       "      <td>93.75</td>\n",
       "      <td>87.44</td>\n",
       "      <td>9.07</td>\n",
       "      <td>98.11</td>\n",
       "      <td>6071001600</td>\n",
       "      <td>90.68</td>\n",
       "      <td>99.99</td>\n",
       "      <td>95-100% (highest scores)</td>\n",
       "      <td>6133</td>\n",
       "      <td>San Bernardino</td>\n",
       "      <td>19.7</td>\n",
       "      <td>76.1</td>\n",
       "      <td>4.2</td>\n",
       "      <td>91.1</td>\n",
       "      <td>5.8</td>\n",
       "      <td>0.7</td>\n",
       "      <td>0.3</td>\n",
       "      <td>1.4</td>\n",
       "      <td>0.7</td>\n",
       "    </tr>\n",
       "    <tr>\n",
       "      <th>2</th>\n",
       "      <td>6019000200</td>\n",
       "      <td>3167</td>\n",
       "      <td>Fresno</td>\n",
       "      <td>93706</td>\n",
       "      <td>Fresno</td>\n",
       "      <td>-119.805504</td>\n",
       "      <td>36.735491</td>\n",
       "      <td>85.97</td>\n",
       "      <td>99.97</td>\n",
       "      <td>95-100% (highest scores)</td>\n",
       "      <td>Yes</td>\n",
       "      <td>0.062</td>\n",
       "      <td>91.10</td>\n",
       "      <td>15.40</td>\n",
       "      <td>97.22</td>\n",
       "      <td>47.445</td>\n",
       "      <td>95.42</td>\n",
       "      <td>681.20</td>\n",
       "      <td>80.92</td>\n",
       "      <td>3.03</td>\n",
       "      <td>48.75</td>\n",
       "      <td>12454.948410</td>\n",
       "      <td>95.42</td>\n",
       "      <td>576.52</td>\n",
       "      <td>39.00</td>\n",
       "      <td>22.0</td>\n",
       "      <td>85.13</td>\n",
       "      <td>30.25</td>\n",
       "      <td>81.93</td>\n",
       "      <td>0.200</td>\n",
       "      <td>60.50</td>\n",
       "      <td>0</td>\n",
       "      <td>0.00</td>\n",
       "      <td>2.50</td>\n",
       "      <td>57.18</td>\n",
       "      <td>71.16</td>\n",
       "      <td>8.76</td>\n",
       "      <td>99.00</td>\n",
       "      <td>142.12</td>\n",
       "      <td>98.33</td>\n",
       "      <td>10.16</td>\n",
       "      <td>99.78</td>\n",
       "      <td>14.96</td>\n",
       "      <td>97.67</td>\n",
       "      <td>42.3</td>\n",
       "      <td>89.06</td>\n",
       "      <td>16.7</td>\n",
       "      <td>78.39</td>\n",
       "      <td>86.8</td>\n",
       "      <td>99.56</td>\n",
       "      <td>16.1</td>\n",
       "      <td>87.98</td>\n",
       "      <td>40.1</td>\n",
       "      <td>97.85</td>\n",
       "      <td>94.58</td>\n",
       "      <td>9.81</td>\n",
       "      <td>99.99</td>\n",
       "      <td>6019000200</td>\n",
       "      <td>85.97</td>\n",
       "      <td>99.97</td>\n",
       "      <td>95-100% (highest scores)</td>\n",
       "      <td>3167</td>\n",
       "      <td>Fresno</td>\n",
       "      <td>21.5</td>\n",
       "      <td>72.5</td>\n",
       "      <td>6.0</td>\n",
       "      <td>63.6</td>\n",
       "      <td>5.3</td>\n",
       "      <td>18.9</td>\n",
       "      <td>0.6</td>\n",
       "      <td>9.8</td>\n",
       "      <td>1.8</td>\n",
       "    </tr>\n",
       "    <tr>\n",
       "      <th>3</th>\n",
       "      <td>6077000801</td>\n",
       "      <td>6692</td>\n",
       "      <td>San Joaquin</td>\n",
       "      <td>95203</td>\n",
       "      <td>Stockton</td>\n",
       "      <td>-121.314524</td>\n",
       "      <td>37.940517</td>\n",
       "      <td>82.49</td>\n",
       "      <td>99.96</td>\n",
       "      <td>95-100% (highest scores)</td>\n",
       "      <td>Yes</td>\n",
       "      <td>0.046</td>\n",
       "      <td>53.02</td>\n",
       "      <td>12.54</td>\n",
       "      <td>84.02</td>\n",
       "      <td>24.117</td>\n",
       "      <td>73.52</td>\n",
       "      <td>278.76</td>\n",
       "      <td>29.11</td>\n",
       "      <td>12.93</td>\n",
       "      <td>60.56</td>\n",
       "      <td>2387.782922</td>\n",
       "      <td>69.97</td>\n",
       "      <td>1305.01</td>\n",
       "      <td>78.29</td>\n",
       "      <td>50.1</td>\n",
       "      <td>96.10</td>\n",
       "      <td>132.10</td>\n",
       "      <td>98.41</td>\n",
       "      <td>0.795</td>\n",
       "      <td>84.32</td>\n",
       "      <td>19</td>\n",
       "      <td>98.63</td>\n",
       "      <td>27.00</td>\n",
       "      <td>99.10</td>\n",
       "      <td>74.48</td>\n",
       "      <td>9.17</td>\n",
       "      <td>99.59</td>\n",
       "      <td>142.17</td>\n",
       "      <td>98.34</td>\n",
       "      <td>6.23</td>\n",
       "      <td>80.65</td>\n",
       "      <td>14.72</td>\n",
       "      <td>97.17</td>\n",
       "      <td>40.8</td>\n",
       "      <td>87.52</td>\n",
       "      <td>15.3</td>\n",
       "      <td>75.14</td>\n",
       "      <td>61.3</td>\n",
       "      <td>85.57</td>\n",
       "      <td>19.6</td>\n",
       "      <td>94.97</td>\n",
       "      <td>21.1</td>\n",
       "      <td>63.54</td>\n",
       "      <td>86.70</td>\n",
       "      <td>8.99</td>\n",
       "      <td>97.72</td>\n",
       "      <td>6077000801</td>\n",
       "      <td>82.49</td>\n",
       "      <td>99.96</td>\n",
       "      <td>95-100% (highest scores)</td>\n",
       "      <td>6692</td>\n",
       "      <td>San Joaquin</td>\n",
       "      <td>18.7</td>\n",
       "      <td>74.5</td>\n",
       "      <td>6.8</td>\n",
       "      <td>57.4</td>\n",
       "      <td>6.0</td>\n",
       "      <td>12.5</td>\n",
       "      <td>0.3</td>\n",
       "      <td>20.9</td>\n",
       "      <td>2.8</td>\n",
       "    </tr>\n",
       "    <tr>\n",
       "      <th>4</th>\n",
       "      <td>6019001500</td>\n",
       "      <td>2206</td>\n",
       "      <td>Fresno</td>\n",
       "      <td>93725</td>\n",
       "      <td>Fresno</td>\n",
       "      <td>-119.717843</td>\n",
       "      <td>36.681600</td>\n",
       "      <td>82.03</td>\n",
       "      <td>99.95</td>\n",
       "      <td>95-100% (highest scores)</td>\n",
       "      <td>Yes</td>\n",
       "      <td>0.065</td>\n",
       "      <td>98.18</td>\n",
       "      <td>15.40</td>\n",
       "      <td>97.22</td>\n",
       "      <td>18.846</td>\n",
       "      <td>58.22</td>\n",
       "      <td>1000.24</td>\n",
       "      <td>98.64</td>\n",
       "      <td>3518.41</td>\n",
       "      <td>95.15</td>\n",
       "      <td>21790.706720</td>\n",
       "      <td>98.15</td>\n",
       "      <td>435.16</td>\n",
       "      <td>24.30</td>\n",
       "      <td>60.0</td>\n",
       "      <td>97.15</td>\n",
       "      <td>54.20</td>\n",
       "      <td>92.09</td>\n",
       "      <td>13.100</td>\n",
       "      <td>99.70</td>\n",
       "      <td>0</td>\n",
       "      <td>0.00</td>\n",
       "      <td>50.80</td>\n",
       "      <td>99.91</td>\n",
       "      <td>80.20</td>\n",
       "      <td>9.88</td>\n",
       "      <td>99.99</td>\n",
       "      <td>90.48</td>\n",
       "      <td>89.54</td>\n",
       "      <td>4.50</td>\n",
       "      <td>38.92</td>\n",
       "      <td>12.82</td>\n",
       "      <td>92.36</td>\n",
       "      <td>45.1</td>\n",
       "      <td>91.13</td>\n",
       "      <td>14.7</td>\n",
       "      <td>73.72</td>\n",
       "      <td>66.4</td>\n",
       "      <td>90.23</td>\n",
       "      <td>18.6</td>\n",
       "      <td>93.65</td>\n",
       "      <td>28.1</td>\n",
       "      <td>83.98</td>\n",
       "      <td>80.08</td>\n",
       "      <td>8.30</td>\n",
       "      <td>92.76</td>\n",
       "      <td>6019001500</td>\n",
       "      <td>82.03</td>\n",
       "      <td>99.95</td>\n",
       "      <td>95-100% (highest scores)</td>\n",
       "      <td>2206</td>\n",
       "      <td>Fresno</td>\n",
       "      <td>14.8</td>\n",
       "      <td>72.1</td>\n",
       "      <td>13.1</td>\n",
       "      <td>71.8</td>\n",
       "      <td>21.4</td>\n",
       "      <td>1.2</td>\n",
       "      <td>0.5</td>\n",
       "      <td>4.5</td>\n",
       "      <td>0.6</td>\n",
       "    </tr>\n",
       "  </tbody>\n",
       "</table>\n",
       "</div>"
      ],
      "text/plain": [
       "   Census Tract  Total Population_x California County    ZIP  \\\n",
       "0    6019001100                3174           Fresno   93706   \n",
       "1    6071001600                6133    San Bernardino  91761   \n",
       "2    6019000200                3167           Fresno   93706   \n",
       "3    6077000801                6692       San Joaquin  95203   \n",
       "4    6019001500                2206           Fresno   93725   \n",
       "\n",
       "  Nearby City \\n(to help approximate location only)   Longitude   Latitude  \\\n",
       "0                                            Fresno -119.781696  36.709695   \n",
       "1                                           Ontario -117.618013  34.057780   \n",
       "2                                            Fresno -119.805504  36.735491   \n",
       "3                                          Stockton -121.314524  37.940517   \n",
       "4                                            Fresno -119.717843  36.681600   \n",
       "\n",
       "   CES 3.0 Score   CES 3.0 Percentile CES 3.0 \\nPercentile Range  \\\n",
       "0          94.09               100.00   95-100% (highest scores)   \n",
       "1          90.68                99.99   95-100% (highest scores)   \n",
       "2          85.97                99.97   95-100% (highest scores)   \n",
       "3          82.49                99.96   95-100% (highest scores)   \n",
       "4          82.03                99.95   95-100% (highest scores)   \n",
       "\n",
       "  SB 535 Disadvantaged Community  Ozone  Ozone Pctl  PM2.5  PM2.5 Pctl  \\\n",
       "0                            Yes  0.065       98.18  15.40       97.22   \n",
       "1                            Yes  0.062       91.10  13.31       93.64   \n",
       "2                            Yes  0.062       91.10  15.40       97.22   \n",
       "3                            Yes  0.046       53.02  12.54       84.02   \n",
       "4                            Yes  0.065       98.18  15.40       97.22   \n",
       "\n",
       "   Diesel PM  Diesel PM Pctl  Drinking Water  Drinking Water Pctl  Pesticides  \\\n",
       "0     48.524           95.54          681.20                80.92        2.75   \n",
       "1     38.556           92.12          904.66                96.11        1.37   \n",
       "2     47.445           95.42          681.20                80.92        3.03   \n",
       "3     24.117           73.52          278.76                29.11       12.93   \n",
       "4     18.846           58.22         1000.24                98.64     3518.41   \n",
       "\n",
       "   Pesticides Pctl  Tox. Release  Tox. Release Pctl  Traffic  Traffic Pctl  \\\n",
       "0            47.82  18551.957190              97.46   909.14         62.98   \n",
       "1            41.34   7494.236622              89.05   782.26         55.66   \n",
       "2            48.75  12454.948410              95.42   576.52         39.00   \n",
       "3            60.56   2387.782922              69.97  1305.01         78.29   \n",
       "4            95.15  21790.706720              98.15   435.16         24.30   \n",
       "\n",
       "   Cleanup Sites  Cleanup Sites Pctl  Groundwater Threats  \\\n",
       "0           80.5               98.67                45.75   \n",
       "1           66.2               97.68                36.00   \n",
       "2           22.0               85.13                30.25   \n",
       "3           50.1               96.10               132.10   \n",
       "4           60.0               97.15                54.20   \n",
       "\n",
       "   Groundwater Threats Pctl  Haz. Waste  Haz. Waste Pctl  Imp. Water Bodies  \\\n",
       "0                     89.85       0.795            84.32                  0   \n",
       "1                     85.57       1.250            88.77                  5   \n",
       "2                     81.93       0.200            60.50                  0   \n",
       "3                     98.41       0.795            84.32                 19   \n",
       "4                     92.09      13.100            99.70                  0   \n",
       "\n",
       "   Imp. Water Bodies Pctl  Solid Waste  Solid Waste Pctl  Pollution Burden  \\\n",
       "0                    0.00        21.75             97.81             79.96   \n",
       "1                   55.01        12.00             92.17             81.19   \n",
       "2                    0.00         2.50             57.18             71.16   \n",
       "3                   98.63        27.00             99.10             74.48   \n",
       "4                    0.00        50.80             99.91             80.20   \n",
       "\n",
       "   Pollution Burden Score  Pollution Burden Pctl  Asthma  Asthma Pctl  \\\n",
       "0                    9.85                  99.95  131.64        97.67   \n",
       "1                   10.00                 100.00   60.66        69.78   \n",
       "2                    8.76                  99.00  142.12        98.33   \n",
       "3                    9.17                  99.59  142.17        98.34   \n",
       "4                    9.88                  99.99   90.48        89.54   \n",
       "\n",
       "   Low Birth Weight  Low Birth Weight Pctl  Cardiovascular Disease  \\\n",
       "0              7.44                  93.84                   14.13   \n",
       "1              7.04                  90.85                   12.94   \n",
       "2             10.16                  99.78                   14.96   \n",
       "3              6.23                  80.65                   14.72   \n",
       "4              4.50                  38.92                   12.82   \n",
       "\n",
       "   Cardiovascular Disease Pctl  Education  Education Pctl  \\\n",
       "0                        96.31       53.3           95.76   \n",
       "1                        92.66       53.3           95.76   \n",
       "2                        97.67       42.3           89.06   \n",
       "3                        97.17       40.8           87.52   \n",
       "4                        92.36       45.1           91.13   \n",
       "\n",
       "   Linguistic Isolation  Linguistic Isolation Pctl  Poverty  Poverty Pctl  \\\n",
       "0                  16.2                      77.51     76.3         97.12   \n",
       "1                  33.4                      96.25     72.5         94.63   \n",
       "2                  16.7                      78.39     86.8         99.56   \n",
       "3                  15.3                      75.14     61.3         85.57   \n",
       "4                  14.7                      73.72     66.4         90.23   \n",
       "\n",
       "   Unemployment  Unemployment Pctl  Housing Burden  Housing Burden Pctl  \\\n",
       "0          17.6              91.72            26.0                79.40   \n",
       "1          12.3              71.82            34.1                93.75   \n",
       "2          16.1              87.98            40.1                97.85   \n",
       "3          19.6              94.97            21.1                63.54   \n",
       "4          18.6              93.65            28.1                83.98   \n",
       "\n",
       "   Pop. Char.   Pop. Char. Score  Pop. Char. Pctl  Census Tract   \\\n",
       "0        92.12              9.55            99.70     6019001100   \n",
       "1        87.44              9.07            98.11     6071001600   \n",
       "2        94.58              9.81            99.99     6019000200   \n",
       "3        86.70              8.99            97.72     6077000801   \n",
       "4        80.08              8.30            92.76     6019001500   \n",
       "\n",
       "    CES 3.0 Score  CES 3.0 Percentile  CES 3.0 \\nPercentile Range  \\\n",
       "0           94.09              100.00    95-100% (highest scores)   \n",
       "1           90.68               99.99    95-100% (highest scores)   \n",
       "2           85.97               99.97    95-100% (highest scores)   \n",
       "3           82.49               99.96    95-100% (highest scores)   \n",
       "4           82.03               99.95    95-100% (highest scores)   \n",
       "\n",
       "   Total Population_y California \\nCounty  Children < 10 (%)  \\\n",
       "0                3174             Fresno                18.8   \n",
       "1                6133      San Bernardino               19.7   \n",
       "2                3167             Fresno                21.5   \n",
       "3                6692         San Joaquin               18.7   \n",
       "4                2206             Fresno                14.8   \n",
       "\n",
       "   Pop 11-64 years (%)  Elderly > 65 (%)  Hispanic (%)  White (%)  \\\n",
       "0                 73.6               7.6          65.3        4.2   \n",
       "1                 76.1               4.2          91.1        5.8   \n",
       "2                 72.5               6.0          63.6        5.3   \n",
       "3                 74.5               6.8          57.4        6.0   \n",
       "4                 72.1              13.1          71.8       21.4   \n",
       "\n",
       "   African American (%)  Native American (%)  Asian American (%)  Other (%)  \n",
       "0                  24.6                  0.5                 3.5        1.8  \n",
       "1                   0.7                  0.3                 1.4        0.7  \n",
       "2                  18.9                  0.6                 9.8        1.8  \n",
       "3                  12.5                  0.3                20.9        2.8  \n",
       "4                   1.2                  0.5                 4.5        0.6  "
      ]
     },
     "execution_count": 4,
     "metadata": {},
     "output_type": "execute_result"
    }
   ],
   "source": [
    "all = env.merge(demog, left_on='Census Tract', right_on='Census Tract ')\n",
    "all.head()"
   ]
  },
  {
   "cell_type": "code",
   "execution_count": 5,
   "metadata": {},
   "outputs": [
    {
     "name": "stdout",
     "output_type": "stream",
     "text": [
      "Enviro set size:  (8035, 57)\n",
      "Demog set size:  (8035, 15)\n",
      "Merged size:  (8035, 72)\n"
     ]
    }
   ],
   "source": [
    "print(\"Enviro set size: \", env.shape)\n",
    "print(\"Demog set size: \", demog.shape)\n",
    "print(\"Merged size: \", all.shape)"
   ]
  },
  {
   "cell_type": "markdown",
   "metadata": {},
   "source": [
    "US EPA statest that regions are not in attainment w clean air act if PM2.5 concentrations exceed 12 ug/m3 on an annual basis:"
   ]
  },
  {
   "cell_type": "code",
   "execution_count": 6,
   "metadata": {},
   "outputs": [
    {
     "data": {
      "text/plain": [
       "0.30728064716863723"
      ]
     },
     "execution_count": 6,
     "metadata": {},
     "output_type": "execute_result"
    }
   ],
   "source": [
    "np.mean(all.loc[:,'PM2.5']>12)"
   ]
  },
  {
   "cell_type": "markdown",
   "metadata": {},
   "source": [
    "So about 31% of tracts are not in attainment.  Can a model pick up patterns that enable predicting which tracts are in attainment?\n",
    "\n",
    "If we do, what's a resource allocation problem we'd answer with the prediction?\n",
    "1. "
   ]
  },
  {
   "cell_type": "code",
   "execution_count": 7,
   "metadata": {
    "collapsed": true
   },
   "outputs": [
    {
     "data": {
      "text/plain": [
       "(7557, 72)"
      ]
     },
     "execution_count": 7,
     "metadata": {},
     "output_type": "execute_result"
    }
   ],
   "source": [
    "all = all.dropna()\n",
    "all.shape"
   ]
  },
  {
   "cell_type": "markdown",
   "metadata": {},
   "source": [
    "Let's see if your community's characterstics can predict local quality.\n",
    "\n",
    "We'll be training a model that predicts water body contamination on the basis of demographic indicators.  `X` will be all demog. indicators, and `y` will be the impacted water body count.  "
   ]
  },
  {
   "cell_type": "code",
   "execution_count": 8,
   "metadata": {
    "collapsed": true
   },
   "outputs": [
    {
     "data": {
      "text/plain": [
       "Index(['Asthma', 'Asthma Pctl', 'Low Birth Weight', 'Low Birth Weight Pctl',\n",
       "       'Cardiovascular Disease', 'Cardiovascular Disease Pctl', 'Education',\n",
       "       'Education Pctl', 'Linguistic Isolation', 'Linguistic Isolation Pctl',\n",
       "       'Poverty', 'Poverty Pctl', 'Unemployment', 'Unemployment Pctl',\n",
       "       'Housing Burden', 'Housing Burden Pctl', 'Pop. Char. ',\n",
       "       'Pop. Char. Score', 'Pop. Char. Pctl', 'Total Population_y',\n",
       "       'Children < 10 (%)', 'Pop 11-64 years (%)', 'Elderly > 65 (%)',\n",
       "       'Hispanic (%)', 'White (%)', 'African American (%)',\n",
       "       'Native American (%)', 'Asian American (%)', 'Other (%)'],\n",
       "      dtype='object')"
      ]
     },
     "execution_count": 8,
     "metadata": {},
     "output_type": "execute_result"
    }
   ],
   "source": [
    "X = all.loc[:,'Asthma':]\n",
    "X = X.drop(['Census Tract ', ' CES 3.0 Score', 'CES 3.0 Percentile', ' CES 3.0 \\nPercentile Range', 'California \\nCounty'], axis = 1);\n",
    "X.columns"
   ]
  },
  {
   "cell_type": "code",
   "execution_count": 9,
   "metadata": {},
   "outputs": [],
   "source": [
    "y = all[['PM2.5']]>12 # The EPA's annual PM2.5 standard is 12ug/3.  \n",
    "# This output variable will be true for tracts that violate the standard.\n",
    "y.columns = ['y']"
   ]
  },
  {
   "cell_type": "code",
   "execution_count": 10,
   "metadata": {},
   "outputs": [
    {
     "data": {
      "text/plain": [
       "y    0.313881\n",
       "dtype: float64"
      ]
     },
     "execution_count": 10,
     "metadata": {},
     "output_type": "execute_result"
    }
   ],
   "source": [
    "y[['y']].apply(np.mean)"
   ]
  },
  {
   "cell_type": "markdown",
   "metadata": {},
   "source": [
    "As we'd expect based on earlier sum -- this variable shows up as TRUE (treated numerically as `1`) in 31% of observations."
   ]
  },
  {
   "cell_type": "markdown",
   "metadata": {},
   "source": [
    "\n",
    "## Predicting whether water bodies are contaminated\n",
    "\n",
    "In this section we'll run an SVM -- checking different parameter options by cross validation -- to predict whether or not water bodies near each community are contaminated on the basis of their socio-economic metrics. "
   ]
  },
  {
   "cell_type": "code",
   "execution_count": 11,
   "metadata": {},
   "outputs": [],
   "source": [
    "from sklearn.model_selection import train_test_split"
   ]
  },
  {
   "cell_type": "code",
   "execution_count": 40,
   "metadata": {},
   "outputs": [
    {
     "data": {
      "text/plain": [
       "(75, 1)"
      ]
     },
     "execution_count": 40,
     "metadata": {},
     "output_type": "execute_result"
    }
   ],
   "source": [
    "X_train, X_test, y_train, y_test = train_test_split(X, y, random_state = 1, test_size = 0.99) \n",
    "y_train.shape"
   ]
  },
  {
   "cell_type": "code",
   "execution_count": 41,
   "metadata": {},
   "outputs": [],
   "source": [
    "from sklearn.svm import SVC\n",
    "from sklearn.model_selection import RandomizedSearchCV\n",
    "from scipy.stats import randint"
   ]
  },
  {
   "cell_type": "markdown",
   "metadata": {},
   "source": [
    "Note that `randint` will allow us to specify a uniform distribution to draw from in `RandomizedSearchCV`"
   ]
  },
  {
   "cell_type": "code",
   "execution_count": 42,
   "metadata": {},
   "outputs": [
    {
     "name": "stdout",
     "output_type": "stream",
     "text": [
      "0.49333333333333335\n",
      "{'C': 1336, 'kernel': 'linear'}\n"
     ]
    }
   ],
   "source": [
    "SV_model = SVC()\n",
    "param_dist = {'C': randint(1000, 2000),\n",
    "                'kernel': ['poly', 'linear']\n",
    "             }\n",
    "\n",
    "# Note that the param_dist dictionary samples from the distributions given.  \n",
    "# If it gets a list, it draws from a uniform distribution\n",
    "\n",
    "rnd_search = RandomizedSearchCV(SV_model, param_distributions=param_dist, \n",
    "                                cv=3, n_iter = 5, n_jobs=-1)\n",
    "\n",
    "rnd_search.fit(X_train, y_train['y'])\n",
    "\n",
    "print(rnd_search.best_params_)"
   ]
  },
  {
   "cell_type": "code",
   "execution_count": 43,
   "metadata": {},
   "outputs": [
    {
     "name": "stdout",
     "output_type": "stream",
     "text": [
      "Train Score:  0.7733333333333333\n",
      "Test Score:  0.6968724939855654\n"
     ]
    }
   ],
   "source": [
    "tuned_train_score = rnd_search.score(X_train, y_train)\n",
    "tuned_test_score = rnd_search.score(X_test, y_test)\n",
    "\n",
    "print('Train Score: ', tuned_train_score)\n",
    "print('Test Score: ', tuned_test_score)"
   ]
  },
  {
   "cell_type": "code",
   "execution_count": 16,
   "metadata": {},
   "outputs": [],
   "source": [
    "from sklearn.metrics import confusion_matrix"
   ]
  },
  {
   "cell_type": "code",
   "execution_count": 24,
   "metadata": {},
   "outputs": [
    {
     "data": {
      "text/plain": [
       "array([[3787, 1342],\n",
       "       [1155, 1198]])"
      ]
     },
     "execution_count": 24,
     "metadata": {},
     "output_type": "execute_result"
    }
   ],
   "source": [
    "y_pred = rnd_search.predict(X_test)\n",
    "conf_SVM = confusion_matrix(y_test, y_pred)\n",
    "conf_SVM"
   ]
  },
  {
   "cell_type": "markdown",
   "metadata": {},
   "source": [
    "What's going on?  \n",
    "\n",
    "Remember the outcome variable is `TRUE` if a region is not in attainment.  \n",
    "\n",
    "If we care about finding regions out of attainment, why isn't misclassification rate the right metric?"
   ]
  },
  {
   "cell_type": "code",
   "execution_count": 25,
   "metadata": {},
   "outputs": [
    {
     "name": "stdout",
     "output_type": "stream",
     "text": [
      "Precision is  0.7662889518413598\n",
      "Recall is  0.7383505556638721\n"
     ]
    }
   ],
   "source": [
    "prec_SVM = conf_SVM[0,0]/(conf_SVM[0,0]+conf_SVM[1,0])\n",
    "rec_SVM = conf_SVM[0,0]/(conf_SVM[0,0]+conf_SVM[0,1])\n",
    "\n",
    "print('Precision is ', prec_SVM)\n",
    "print('Recall is ', rec_SVM)"
   ]
  },
  {
   "cell_type": "markdown",
   "metadata": {},
   "source": [
    "## Let's test different classifiers"
   ]
  },
  {
   "cell_type": "markdown",
   "metadata": {},
   "source": [
    "### KNN"
   ]
  },
  {
   "cell_type": "code",
   "execution_count": 26,
   "metadata": {},
   "outputs": [],
   "source": [
    "from sklearn.neighbors import KNeighborsClassifier as KNC"
   ]
  },
  {
   "cell_type": "code",
   "execution_count": 28,
   "metadata": {},
   "outputs": [
    {
     "data": {
      "text/plain": [
       "(755, 1)"
      ]
     },
     "execution_count": 28,
     "metadata": {},
     "output_type": "execute_result"
    }
   ],
   "source": [
    "X_train, X_test, y_train, y_test = train_test_split(X, y, test_size = 0.9) \n",
    "y_train.shape"
   ]
  },
  {
   "cell_type": "code",
   "execution_count": 29,
   "metadata": {},
   "outputs": [
    {
     "name": "stdout",
     "output_type": "stream",
     "text": [
      "Train Score:  0.7748344370860927\n",
      "Test Score:  0.6893560717436048\n"
     ]
    },
    {
     "data": {
      "text/plain": [
       "array([[4079,  559],\n",
       "       [1554,  610]])"
      ]
     },
     "execution_count": 29,
     "metadata": {},
     "output_type": "execute_result"
    }
   ],
   "source": [
    "KNC_model = KNC()\n",
    "KNC_model.fit(X_train, y_train['y'])\n",
    "KNC_train_score = KNC_model.score(X_train, y_train)\n",
    "KNC_test_score = KNC_model.score(X_test, y_test)\n",
    "\n",
    "print('Train Score: ', KNC_train_score)\n",
    "print('Test Score: ', KNC_test_score)\n",
    "\n",
    "y_pred = KNC_model.predict(X_test)\n",
    "confusion_matrix(y_test, y_pred)"
   ]
  },
  {
   "cell_type": "markdown",
   "metadata": {},
   "source": [
    "That's performance without tuning hyper parameters.   Let's tune!"
   ]
  },
  {
   "cell_type": "code",
   "execution_count": 30,
   "metadata": {},
   "outputs": [
    {
     "name": "stdout",
     "output_type": "stream",
     "text": [
      "0.7178807947019867\n",
      "{'n_neighbors': 6}\n"
     ]
    }
   ],
   "source": [
    "KNC_model = KNC()\n",
    "param_dist = {'n_neighbors': randint(1, 20)\n",
    "             }\n",
    "\n",
    "KNC_search = RandomizedSearchCV(KNC_model, param_distributions=param_dist, \n",
    "                                cv=3, n_jobs=-1)\n",
    "\n",
    "KNC_search.fit(X_train, y_train['y'])\n",
    "\n",
    "print(KNC_search.best_score_)\n",
    "print(KNC_search.best_params_)"
   ]
  },
  {
   "cell_type": "code",
   "execution_count": 31,
   "metadata": {},
   "outputs": [
    {
     "name": "stdout",
     "output_type": "stream",
     "text": [
      "Train Score:  0.776158940397351\n",
      "Test Score:  0.6942075860041165\n",
      "[[4400  238]\n",
      " [1842  322]]\n"
     ]
    }
   ],
   "source": [
    "KNC_train_score = KNC_search.score(X_train, y_train)\n",
    "KNC_test_score = KNC_search.score(X_test, y_test)\n",
    "\n",
    "print('Train Score: ', KNC_train_score)\n",
    "print('Test Score: ', KNC_test_score)\n",
    "\n",
    "y_pred = KNC_search.predict(X_test)\n",
    "conf_KNN = confusion_matrix(y_test, y_pred)\n",
    "print(conf_KNN)"
   ]
  },
  {
   "cell_type": "code",
   "execution_count": 33,
   "metadata": {},
   "outputs": [
    {
     "name": "stdout",
     "output_type": "stream",
     "text": [
      "Precision is  0.7049022749118872\n",
      "Recall is  0.9486847779215178\n"
     ]
    }
   ],
   "source": [
    "prec_KNN = conf_KNN[0,0]/(conf_KNN[0,0]+conf_KNN[1,0])\n",
    "rec_KNN = conf_KNN[0,0]/(conf_KNN[0,0]+conf_KNN[0,1])\n",
    "\n",
    "print('Precision is ', prec_KNN)\n",
    "print('Recall is ', rec_KNN)"
   ]
  },
  {
   "cell_type": "markdown",
   "metadata": {},
   "source": [
    "### Random forest"
   ]
  },
  {
   "cell_type": "code",
   "execution_count": 34,
   "metadata": {},
   "outputs": [],
   "source": [
    "from sklearn.ensemble import RandomForestClassifier as RFC"
   ]
  },
  {
   "cell_type": "code",
   "execution_count": 35,
   "metadata": {},
   "outputs": [
    {
     "data": {
      "text/plain": [
       "RandomForestClassifier(bootstrap=True, class_weight=None, criterion='gini',\n",
       "            max_depth=None, max_features='auto', max_leaf_nodes=None,\n",
       "            min_impurity_decrease=0.0, min_impurity_split=None,\n",
       "            min_samples_leaf=1, min_samples_split=2,\n",
       "            min_weight_fraction_leaf=0.0, n_estimators=100, n_jobs=1,\n",
       "            oob_score=False, random_state=None, verbose=0,\n",
       "            warm_start=False)"
      ]
     },
     "execution_count": 35,
     "metadata": {},
     "output_type": "execute_result"
    }
   ],
   "source": [
    "RFC_model = RFC(n_estimators = 100, criterion = 'gini')\n",
    "RFC_model.fit(X_train, y_train['y'])"
   ]
  },
  {
   "cell_type": "code",
   "execution_count": 36,
   "metadata": {},
   "outputs": [
    {
     "name": "stdout",
     "output_type": "stream",
     "text": [
      "Train Score:  1.0\n",
      "Test Score:  0.7749191414289914\n",
      "[[4312  326]\n",
      " [1205  959]]\n"
     ]
    }
   ],
   "source": [
    "RFC_train_score = RFC_model.score(X_train, y_train)\n",
    "RFC_test_score = RFC_model.score(X_test, y_test)\n",
    "\n",
    "print('Train Score: ', RFC_train_score)\n",
    "print('Test Score: ', RFC_test_score)\n",
    "\n",
    "y_pred = RFC_model.predict(X_test)\n",
    "conf_RF = confusion_matrix(y_test, y_pred)\n",
    "print(conf_RF)"
   ]
  },
  {
   "cell_type": "code",
   "execution_count": 37,
   "metadata": {},
   "outputs": [
    {
     "name": "stdout",
     "output_type": "stream",
     "text": [
      "Precision is  0.781584194308501\n",
      "Recall is  0.9297110823630875\n"
     ]
    }
   ],
   "source": [
    "prec_RF = conf_RF[0,0]/(conf_RF[0,0]+conf_RF[1,0])\n",
    "rec_RF = conf_RF[0,0]/(conf_RF[0,0]+conf_RF[0,1])\n",
    "\n",
    "print('Precision is ', prec_RF)\n",
    "print('Recall is ', rec_RF)"
   ]
  },
  {
   "cell_type": "markdown",
   "metadata": {},
   "source": [
    "### Let's compare"
   ]
  },
  {
   "cell_type": "code",
   "execution_count": 38,
   "metadata": {},
   "outputs": [
    {
     "name": "stdout",
     "output_type": "stream",
     "text": [
      "SVM precision is  0.7662889518413598\n",
      "KNN precision is  0.7049022749118872\n",
      "RF precision is  0.781584194308501\n"
     ]
    }
   ],
   "source": [
    "print('SVM precision is ', prec_SVM)\n",
    "print('KNN precision is ', prec_KNN)\n",
    "print('RF precision is ', prec_RF)"
   ]
  },
  {
   "cell_type": "markdown",
   "metadata": {},
   "source": [
    "RF, by a hair, has highest precision: more than 3/4 of \"true\" predictions are actually true."
   ]
  },
  {
   "cell_type": "code",
   "execution_count": 39,
   "metadata": {},
   "outputs": [
    {
     "name": "stdout",
     "output_type": "stream",
     "text": [
      "SVM recall is  0.7383505556638721\n",
      "KNN recall is  0.9486847779215178\n",
      "RF recall is  0.9297110823630875\n"
     ]
    }
   ],
   "source": [
    "print('SVM recall is ', rec_SVM)\n",
    "print('KNN recall is ', rec_KNN)\n",
    "print('RF recall is ', rec_RF)"
   ]
  },
  {
   "cell_type": "markdown",
   "metadata": {},
   "source": [
    "KNN, by a hair, has highest recall: more than 95% of \"true\" predictions are identified."
   ]
  },
  {
   "cell_type": "markdown",
   "metadata": {},
   "source": [
    "Overall RF is close to best performing in both categories.  "
   ]
  },
  {
   "cell_type": "code",
   "execution_count": null,
   "metadata": {},
   "outputs": [],
   "source": []
  }
 ],
 "metadata": {
  "kernelspec": {
   "display_name": "Python 3",
   "language": "python",
   "name": "python3"
  },
  "language_info": {
   "codemirror_mode": {
    "name": "ipython",
    "version": 3
   },
   "file_extension": ".py",
   "mimetype": "text/x-python",
   "name": "python",
   "nbconvert_exporter": "python",
   "pygments_lexer": "ipython3",
   "version": "3.6.4"
  }
 },
 "nbformat": 4,
 "nbformat_minor": 2
}
