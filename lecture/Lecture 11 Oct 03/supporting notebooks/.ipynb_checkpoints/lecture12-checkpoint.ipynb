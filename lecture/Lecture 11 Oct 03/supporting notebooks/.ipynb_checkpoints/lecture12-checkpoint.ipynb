{
 "cells": [
  {
   "cell_type": "markdown",
   "metadata": {},
   "source": [
    "## Nonlinear Features\n",
    "\n",
    "October 2 2018\n",
    "\n",
    "Duncan Callaway\n",
    "\n",
    "This notebook explores how adding nonlinear transformation of predictors improves (or doesn't) model fit."
   ]
  },
  {
   "cell_type": "code",
   "execution_count": null,
   "metadata": {},
   "outputs": [],
   "source": [
    "import numpy as np\n",
    "import pandas as pd\n",
    "from sklearn import linear_model\n",
    "import matplotlib.pyplot as plt\n",
    "import statsmodels.api as sm\n",
    "from scipy import stats"
   ]
  },
  {
   "cell_type": "code",
   "execution_count": null,
   "metadata": {},
   "outputs": [],
   "source": [
    "#this will allow us to see all the columns of the data frame when we display it.\n",
    "pd.set_option('display.max_columns', 150)"
   ]
  },
  {
   "cell_type": "code",
   "execution_count": null,
   "metadata": {},
   "outputs": [],
   "source": [
    "df_all = pd.read_csv('BechleLUR_2006_allmodelbuildingdata.csv')"
   ]
  },
  {
   "cell_type": "code",
   "execution_count": null,
   "metadata": {},
   "outputs": [],
   "source": [
    "df_all.head()"
   ]
  },
  {
   "cell_type": "code",
   "execution_count": null,
   "metadata": {
    "scrolled": true
   },
   "outputs": [],
   "source": [
    "X = df_all.loc[:,['WRF+DOMINO']]\n",
    "Y = df_all[\"Observed_NO2_ppb\"]"
   ]
  },
  {
   "cell_type": "code",
   "execution_count": null,
   "metadata": {},
   "outputs": [],
   "source": [
    "X_const = sm.add_constant(X)\n",
    "X_const.head()"
   ]
  },
  {
   "cell_type": "code",
   "execution_count": null,
   "metadata": {},
   "outputs": [],
   "source": [
    "est = sm.OLS(Y, X_const)\n",
    "result_simple = est.fit()\n",
    "result_simple.aic"
   ]
  },
  {
   "cell_type": "markdown",
   "metadata": {},
   "source": [
    "Now let's try estimating a model with **all** the predictors embedded:"
   ]
  },
  {
   "cell_type": "code",
   "execution_count": null,
   "metadata": {},
   "outputs": [],
   "source": [
    "X_all = df_all.loc[:,'WRF+DOMINO':'total_14000']\n",
    "X_all_const = sm.add_constant(X_all)\n",
    "est_all = sm.OLS(Y, X_all_const)\n",
    "result_all = est_all.fit()\n",
    "result_all.aic"
   ]
  },
  {
   "cell_type": "markdown",
   "metadata": {},
   "source": [
    "And now a model that is close to (but not exactly the same as) Novotny's"
   ]
  },
  {
   "cell_type": "code",
   "execution_count": null,
   "metadata": {},
   "outputs": [],
   "source": [
    "X_base = df_all[['WRF+DOMINO', 'Impervious_6000', 'Major_800', 'total_100', 'Major_100', 'Major_200', 'Elevation_truncated_km', 'Distance_to_coast_km']]\n",
    "\n",
    "X_base_const = sm.add_constant(X_base)\n",
    "est_base = sm.OLS(Y, X_base_const)\n",
    "results_base = est_base.fit()\n",
    "results_base.aic"
   ]
  },
  {
   "cell_type": "markdown",
   "metadata": {},
   "source": [
    "Let's call that the 'base' AIC.  \n",
    "\n",
    "What if we add a nonlinear predictor?  \n",
    "\n",
    "One of the things Novotny claims to be missing is traffic volume.  They use road density instead.  \n",
    "\n",
    "What if we try adding a variable that is people per km of road?"
   ]
  },
  {
   "cell_type": "code",
   "execution_count": null,
   "metadata": {
    "scrolled": true
   },
   "outputs": [],
   "source": [
    "to_add = pd.Series(df_all.loc[:,'Population_800'] / (df_all.loc[:,'total_800']))\n",
    "X_base_popperroad = X_base.assign(pop_per_road_800 = to_add.values)\n",
    "X_base_popperroad.loc[np.isnan(X_base_popperroad.loc[:,'pop_per_road_800']),'pop_per_road_800'] = 0\n",
    "X_base_popperroad.loc[np.isinf(X_base_popperroad.loc[:,'pop_per_road_800']),'pop_per_road_800'] = 0\n",
    "\n",
    "X_base_popperroad_const = sm.add_constant(X_base_popperroad)\n",
    "est_base_popperroad = sm.OLS(Y, X_base_popperroad_const)\n",
    "results_base_popperroad = est_base_popperroad.fit()\n",
    "results_base_popperroad.aic"
   ]
  },
  {
   "cell_type": "markdown",
   "metadata": {},
   "source": [
    "They also don't include population in the model.  I tried a few versions of population -- linear to start.  But what about this one:  population^(1/4)"
   ]
  },
  {
   "cell_type": "code",
   "execution_count": null,
   "metadata": {},
   "outputs": [],
   "source": [
    "to_add = pd.Series(df_all.loc[:,'Population_800']**(0.25))\n",
    "X_base_pop4root = X_base.assign(pop_4root = to_add.values)\n",
    "\n",
    "X_base_pop4root_const = sm.add_constant(X_base_pop4root)\n",
    "est_base_pop4root = sm.OLS(Y, X_base_pop4root_const)\n",
    "results_base_pop4root = est_base_pop4root.fit()\n",
    "results_base_pop4root.aic"
   ]
  },
  {
   "cell_type": "markdown",
   "metadata": {},
   "source": [
    "And now how about taking the log?"
   ]
  },
  {
   "cell_type": "code",
   "execution_count": null,
   "metadata": {
    "scrolled": true
   },
   "outputs": [],
   "source": [
    "m = df_all.loc[:,'Population_800']\n",
    "to_add = pd.Series( np.where( m > 0, np.log(m), 0))\n",
    "\n",
    "X_base_poplog = X_base.assign(pop_log = to_add.values)\n",
    "\n",
    "X_base_poplog_const = sm.add_constant(X_base_poplog)\n",
    "est_base_poplog = sm.OLS(Y, X_base_poplog_const)\n",
    "results_base_poplog = est_base_poplog.fit()\n",
    "results_base_poplog.aic"
   ]
  },
  {
   "cell_type": "code",
   "execution_count": null,
   "metadata": {},
   "outputs": [],
   "source": []
  }
 ],
 "metadata": {
  "kernelspec": {
   "display_name": "Python 3",
   "language": "python",
   "name": "python3"
  },
  "language_info": {
   "codemirror_mode": {
    "name": "ipython",
    "version": 3
   },
   "file_extension": ".py",
   "mimetype": "text/x-python",
   "name": "python",
   "nbconvert_exporter": "python",
   "pygments_lexer": "ipython3",
   "version": "3.6.4"
  }
 },
 "nbformat": 4,
 "nbformat_minor": 2
}
