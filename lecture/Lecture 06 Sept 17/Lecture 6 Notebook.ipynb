{
 "cells": [
  {
   "cell_type": "markdown",
   "metadata": {},
   "source": [
    "# ER190C Lecture 6 Notebook\n",
    "\n",
    "**Data Cleaning and Exploratory Data Analysis**\n",
    "\n",
    "Duncan Callaway\n",
    "\n",
    "September 11 2018\n",
    "\n",
    "Today we'll work with PurpleAir data to explore the concepts of Structure, Granularity, Scope, Temporality and Faithfulness.  Along the way we'll talk about data cleaning as well.  \n",
    "\n",
    "[Here's PurpleAir's website](https://www.purpleair.com/map#1/25/-30) -- They have really cool maps!\n",
    "\n",
    "The way I developed this lecture was by pulling the data down and exploring it.  You'll see my (edited) process of examining the data.\n",
    "\n",
    "This began by me visiting [this website](https://www.purpleair.com/sensorlist) to look for data.  I used the Chrome browser to pull data (other browsers didn't work).\n",
    "\n",
    "The folks are PurpleAir also sent me [this pdf](https://github.com/duncancallaway/ER131_2019/blob/master/lecture/Lecture%2006%20Sept%2017/Using%20PurpleAir%20Data.pdf) describing their data.  "
   ]
  },
  {
   "cell_type": "code",
   "execution_count": 1,
   "metadata": {},
   "outputs": [],
   "source": [
    "import numpy as np\n",
    "import pandas as pd\n",
    "import os"
   ]
  },
  {
   "cell_type": "markdown",
   "metadata": {},
   "source": [
    "## Structure: how are the data stored?  \n",
    "First let's look at what's in the data directory using `os.listdir` (remember this is a set of command line-style commands that work across platforms, i.e. mac, linux, windows)"
   ]
  },
  {
   "cell_type": "code",
   "execution_count": 2,
   "metadata": {},
   "outputs": [
    {
     "data": {
      "text/plain": [
       "['.DS_Store',\n",
       " 'Ecole Bilingue de Berkeley (37.854830799999995 -122.28937169999999) Primary 08_05_2018 09_04_2018.csv',\n",
       " 'Ecole Bilingue de Berkeley (37.854830799999995 -122.28937169999999) Secondary 08_05_2018 09_04_2018.csv']"
      ]
     },
     "execution_count": 2,
     "metadata": {},
     "output_type": "execute_result"
    }
   ],
   "source": [
    "os.listdir('data')"
   ]
  },
  {
   "cell_type": "markdown",
   "metadata": {},
   "source": [
    "What can we learn from these file names?\n",
    "* the sensor location is probably the French School in Berkeley.\n",
    "* Looks like lat / lon coordinates in parens\n",
    "* the date range is listed\n",
    "* there is a secondary / primary distinction. \n",
    "\n",
    "Before proceeding let's find the size of some of these files:"
   ]
  },
  {
   "cell_type": "code",
   "execution_count": 3,
   "metadata": {},
   "outputs": [
    {
     "data": {
      "text/plain": [
       "2381187"
      ]
     },
     "execution_count": 3,
     "metadata": {},
     "output_type": "execute_result"
    }
   ],
   "source": [
    "os.path.getsize('data/Ecole Bilingue de Berkeley (37.854830799999995 -122.28937169999999) Primary 08_05_2018 09_04_2018.csv')"
   ]
  },
  {
   "cell_type": "markdown",
   "metadata": {},
   "source": [
    "What are the units?  Let's shift tab in to `getsize` to find out."
   ]
  },
  {
   "cell_type": "code",
   "execution_count": 4,
   "metadata": {},
   "outputs": [
    {
     "data": {
      "text/plain": [
       "<function genericpath.getsize>"
      ]
     },
     "execution_count": 4,
     "metadata": {},
     "output_type": "execute_result"
    }
   ],
   "source": [
    "os.path.getsize"
   ]
  },
  {
   "cell_type": "markdown",
   "metadata": {},
   "source": [
    "Not much information.  Google search reveals [this](https://docs.python.org/2/library/os.path.html) information page, which says the units are bytes."
   ]
  },
  {
   "cell_type": "code",
   "execution_count": 5,
   "metadata": {},
   "outputs": [
    {
     "data": {
      "text/plain": [
       "2.381187"
      ]
     },
     "execution_count": 5,
     "metadata": {},
     "output_type": "execute_result"
    }
   ],
   "source": [
    "os.path.getsize('data/Ecole Bilingue de Berkeley (37.854830799999995 -122.28937169999999) Primary 08_05_2018 09_04_2018.csv')/1e6"
   ]
  },
  {
   "cell_type": "markdown",
   "metadata": {},
   "source": [
    "SO 2.4 Mb. "
   ]
  },
  {
   "cell_type": "code",
   "execution_count": 6,
   "metadata": {},
   "outputs": [
    {
     "data": {
      "text/plain": [
       "2.497975"
      ]
     },
     "execution_count": 6,
     "metadata": {},
     "output_type": "execute_result"
    }
   ],
   "source": [
    "os.path.getsize('data/Ecole Bilingue de Berkeley (37.854830799999995 -122.28937169999999) Secondary 08_05_2018 09_04_2018.csv')/1e6"
   ]
  },
  {
   "cell_type": "markdown",
   "metadata": {},
   "source": [
    "Before we go further, what's the primary vs secondary data file?\n",
    "\n",
    "Checking out the \"Using Purple Air data\" pdf, provided to me by them, it looks like the two files contain different data.  We'll focus on PM2.5, which is in the primary file."
   ]
  },
  {
   "cell_type": "markdown",
   "metadata": {},
   "source": [
    "In this directory there is a python file (`utils.py`) that has some useful utilities -- we'll pull some in over the course of the lecture.  First to use is `line_count`"
   ]
  },
  {
   "cell_type": "code",
   "execution_count": 7,
   "metadata": {},
   "outputs": [],
   "source": [
    "from utils import line_count"
   ]
  },
  {
   "cell_type": "code",
   "execution_count": 8,
   "metadata": {},
   "outputs": [
    {
     "name": "stdout",
     "output_type": "stream",
     "text": [
      "Help on function line_count in module utils:\n",
      "\n",
      "line_count(file)\n",
      "    Computes the number of lines in a file.\n",
      "    \n",
      "    file: the file in which to count the lines.\n",
      "    return: The number of lines in the file\n",
      "\n"
     ]
    }
   ],
   "source": [
    "help(line_count)"
   ]
  },
  {
   "cell_type": "code",
   "execution_count": 9,
   "metadata": {},
   "outputs": [
    {
     "data": {
      "text/plain": [
       "29894"
      ]
     },
     "execution_count": 9,
     "metadata": {},
     "output_type": "execute_result"
    }
   ],
   "source": [
    "line_count('data/Ecole Bilingue de Berkeley (37.854830799999995 -122.28937169999999) Primary 08_05_2018 09_04_2018.csv')"
   ]
  },
  {
   "cell_type": "code",
   "execution_count": 10,
   "metadata": {},
   "outputs": [],
   "source": [
    "from utils import head"
   ]
  },
  {
   "cell_type": "code",
   "execution_count": 11,
   "metadata": {},
   "outputs": [
    {
     "data": {
      "text/plain": [
       "['created_at,entry_id,PM1.0_CF_ATM_ug/m3,PM2.5_CF_ATM_ug/m3,PM10.0_CF_ATM_ug/m3,UptimeMinutes,RSSI_dbm,Temperature_F,Humidity_%,PM2.5_CF_1_ug/m3,\\n',\n",
       " '2018-08-05 00:00:31 UTC,111170,1.96,4.34,4.96,135.00,-67.00,84.00,33.00,4.34\\n',\n",
       " '2018-08-05 00:01:51 UTC,111171,2.13,3.89,6.83,136.00,-67.00,84.00,33.00,3.89\\n',\n",
       " '2018-08-05 00:03:11 UTC,111172,3.04,4.93,6.18,137.00,-68.00,84.00,34.00,4.93\\n',\n",
       " '2018-08-05 00:04:31 UTC,111173,2.17,4.26,6.83,139.00,-65.00,84.00,33.00,4.26\\n']"
      ]
     },
     "execution_count": 11,
     "metadata": {},
     "output_type": "execute_result"
    }
   ],
   "source": [
    "head('data/Ecole Bilingue de Berkeley (37.854830799999995 -122.28937169999999) Primary 08_05_2018 09_04_2018.csv')"
   ]
  },
  {
   "cell_type": "markdown",
   "metadata": {},
   "source": [
    "This confirms the file type is .csv, so let's pull it in:"
   ]
  },
  {
   "cell_type": "code",
   "execution_count": 12,
   "metadata": {},
   "outputs": [
    {
     "data": {
      "text/html": [
       "<div>\n",
       "<style scoped>\n",
       "    .dataframe tbody tr th:only-of-type {\n",
       "        vertical-align: middle;\n",
       "    }\n",
       "\n",
       "    .dataframe tbody tr th {\n",
       "        vertical-align: top;\n",
       "    }\n",
       "\n",
       "    .dataframe thead th {\n",
       "        text-align: right;\n",
       "    }\n",
       "</style>\n",
       "<table border=\"1\" class=\"dataframe\">\n",
       "  <thead>\n",
       "    <tr style=\"text-align: right;\">\n",
       "      <th></th>\n",
       "      <th>created_at</th>\n",
       "      <th>entry_id</th>\n",
       "      <th>PM1.0_CF_ATM_ug/m3</th>\n",
       "      <th>PM2.5_CF_ATM_ug/m3</th>\n",
       "      <th>PM10.0_CF_ATM_ug/m3</th>\n",
       "      <th>UptimeMinutes</th>\n",
       "      <th>RSSI_dbm</th>\n",
       "      <th>Temperature_F</th>\n",
       "      <th>Humidity_%</th>\n",
       "      <th>PM2.5_CF_1_ug/m3</th>\n",
       "      <th>Unnamed: 10</th>\n",
       "    </tr>\n",
       "  </thead>\n",
       "  <tbody>\n",
       "    <tr>\n",
       "      <th>0</th>\n",
       "      <td>2018-08-05 00:00:31 UTC</td>\n",
       "      <td>111170</td>\n",
       "      <td>1.96</td>\n",
       "      <td>4.34</td>\n",
       "      <td>4.96</td>\n",
       "      <td>135.0</td>\n",
       "      <td>-67.0</td>\n",
       "      <td>84.0</td>\n",
       "      <td>33.0</td>\n",
       "      <td>4.34</td>\n",
       "      <td>NaN</td>\n",
       "    </tr>\n",
       "    <tr>\n",
       "      <th>1</th>\n",
       "      <td>2018-08-05 00:01:51 UTC</td>\n",
       "      <td>111171</td>\n",
       "      <td>2.13</td>\n",
       "      <td>3.89</td>\n",
       "      <td>6.83</td>\n",
       "      <td>136.0</td>\n",
       "      <td>-67.0</td>\n",
       "      <td>84.0</td>\n",
       "      <td>33.0</td>\n",
       "      <td>3.89</td>\n",
       "      <td>NaN</td>\n",
       "    </tr>\n",
       "    <tr>\n",
       "      <th>2</th>\n",
       "      <td>2018-08-05 00:03:11 UTC</td>\n",
       "      <td>111172</td>\n",
       "      <td>3.04</td>\n",
       "      <td>4.93</td>\n",
       "      <td>6.18</td>\n",
       "      <td>137.0</td>\n",
       "      <td>-68.0</td>\n",
       "      <td>84.0</td>\n",
       "      <td>34.0</td>\n",
       "      <td>4.93</td>\n",
       "      <td>NaN</td>\n",
       "    </tr>\n",
       "    <tr>\n",
       "      <th>3</th>\n",
       "      <td>2018-08-05 00:04:31 UTC</td>\n",
       "      <td>111173</td>\n",
       "      <td>2.17</td>\n",
       "      <td>4.26</td>\n",
       "      <td>6.83</td>\n",
       "      <td>139.0</td>\n",
       "      <td>-65.0</td>\n",
       "      <td>84.0</td>\n",
       "      <td>33.0</td>\n",
       "      <td>4.26</td>\n",
       "      <td>NaN</td>\n",
       "    </tr>\n",
       "    <tr>\n",
       "      <th>4</th>\n",
       "      <td>2018-08-05 00:05:51 UTC</td>\n",
       "      <td>111174</td>\n",
       "      <td>2.06</td>\n",
       "      <td>4.06</td>\n",
       "      <td>8.51</td>\n",
       "      <td>140.0</td>\n",
       "      <td>-67.0</td>\n",
       "      <td>84.0</td>\n",
       "      <td>33.0</td>\n",
       "      <td>4.06</td>\n",
       "      <td>NaN</td>\n",
       "    </tr>\n",
       "  </tbody>\n",
       "</table>\n",
       "</div>"
      ],
      "text/plain": [
       "                created_at  entry_id  PM1.0_CF_ATM_ug/m3  PM2.5_CF_ATM_ug/m3  \\\n",
       "0  2018-08-05 00:00:31 UTC    111170                1.96                4.34   \n",
       "1  2018-08-05 00:01:51 UTC    111171                2.13                3.89   \n",
       "2  2018-08-05 00:03:11 UTC    111172                3.04                4.93   \n",
       "3  2018-08-05 00:04:31 UTC    111173                2.17                4.26   \n",
       "4  2018-08-05 00:05:51 UTC    111174                2.06                4.06   \n",
       "\n",
       "   PM10.0_CF_ATM_ug/m3  UptimeMinutes  RSSI_dbm  Temperature_F  Humidity_%  \\\n",
       "0                 4.96          135.0     -67.0           84.0        33.0   \n",
       "1                 6.83          136.0     -67.0           84.0        33.0   \n",
       "2                 6.18          137.0     -68.0           84.0        34.0   \n",
       "3                 6.83          139.0     -65.0           84.0        33.0   \n",
       "4                 8.51          140.0     -67.0           84.0        33.0   \n",
       "\n",
       "   PM2.5_CF_1_ug/m3  Unnamed: 10  \n",
       "0              4.34          NaN  \n",
       "1              3.89          NaN  \n",
       "2              4.93          NaN  \n",
       "3              4.26          NaN  \n",
       "4              4.06          NaN  "
      ]
     },
     "execution_count": 12,
     "metadata": {},
     "output_type": "execute_result"
    }
   ],
   "source": [
    "EB_primary = pd.read_csv('data/Ecole Bilingue de Berkeley (37.854830799999995 -122.28937169999999) Primary 08_05_2018 09_04_2018.csv')\n",
    "EB_primary.head()"
   ]
  },
  {
   "cell_type": "markdown",
   "metadata": {},
   "source": [
    "Several things to ask from this: \n",
    "1. Dates are UTC.\n",
    "2. Each entry has a unique ID -- could be used to check for time stamp errors or gaps in data\n",
    "3. Headers have 'CF_ATM' at the top -- what does that mean?\n",
    "    4. There is one PM2.5 column without 'CF_ATM', what is its significance?\n",
    "        1. From the PurpleAir documentation, in this directory, *\"ATM is \"atmospheric\", meant to be used for outdoor applications. CF=1 is meant to be used for indoor or controlled environment applications. However, PurpleAir uses CF=1 values on the map. This value is lower than the ATM value in higher measured concentrations.\"*  \n",
    "        2. The explanation is a little vague and suggests further exploration required.  It has to do with how changing atmospheric pressure might change the measurements.  \n",
    "4. The columns \"UptimeMinutes\" and \"RSSI_dbm\" are not immediately obvious\n",
    "    1. again from documentation: \"uptimeminutes\" is time since last restart, and \"RSSI_dbm\" is wifi signal strength for the device.  \n",
    "5. The \"unnamed: 10\" column seems useless, why is it there?\n",
    "    1. Looking at the data we see \"\\n\" at the end of each line (newline character), it appears this is generating the extra row."
   ]
  },
  {
   "cell_type": "markdown",
   "metadata": {},
   "source": [
    "## Granularity: how are the data aggregated?\n",
    "\n",
    "We'll talk a little more about Temporality in a moment, but time also matters for thinking about granularity.\n",
    "\n",
    "First we need to pay attention to the fact that this is UTC.  Let's put it in datetime format to prevent mistakes."
   ]
  },
  {
   "cell_type": "code",
   "execution_count": 13,
   "metadata": {},
   "outputs": [],
   "source": [
    "EB_time = pd.to_datetime(EB_primary['created_at'], utc=True)"
   ]
  },
  {
   "cell_type": "code",
   "execution_count": 14,
   "metadata": {},
   "outputs": [],
   "source": [
    "EB_primary['created_at']=EB_time"
   ]
  },
  {
   "cell_type": "code",
   "execution_count": 15,
   "metadata": {},
   "outputs": [
    {
     "data": {
      "text/plain": [
       "datetime64[ns, UTC]"
      ]
     },
     "execution_count": 15,
     "metadata": {},
     "output_type": "execute_result"
    }
   ],
   "source": [
    "EB_primary['created_at'].dtype"
   ]
  },
  {
   "cell_type": "markdown",
   "metadata": {},
   "source": [
    "Yes, that response really means the time are recorded down to the nanosecond.  "
   ]
  },
  {
   "cell_type": "code",
   "execution_count": 24,
   "metadata": {},
   "outputs": [
    {
     "data": {
      "text/html": [
       "<div>\n",
       "<style scoped>\n",
       "    .dataframe tbody tr th:only-of-type {\n",
       "        vertical-align: middle;\n",
       "    }\n",
       "\n",
       "    .dataframe tbody tr th {\n",
       "        vertical-align: top;\n",
       "    }\n",
       "\n",
       "    .dataframe thead th {\n",
       "        text-align: right;\n",
       "    }\n",
       "</style>\n",
       "<table border=\"1\" class=\"dataframe\">\n",
       "  <thead>\n",
       "    <tr style=\"text-align: right;\">\n",
       "      <th></th>\n",
       "      <th>created_at</th>\n",
       "      <th>entry_id</th>\n",
       "      <th>PM1.0_CF_ATM_ug/m3</th>\n",
       "      <th>PM2.5_CF_ATM_ug/m3</th>\n",
       "      <th>PM10.0_CF_ATM_ug/m3</th>\n",
       "      <th>UptimeMinutes</th>\n",
       "      <th>RSSI_dbm</th>\n",
       "      <th>Temperature_F</th>\n",
       "      <th>Humidity_%</th>\n",
       "      <th>PM2.5_CF_1_ug/m3</th>\n",
       "      <th>Unnamed: 10</th>\n",
       "    </tr>\n",
       "  </thead>\n",
       "  <tbody>\n",
       "    <tr>\n",
       "      <th>0</th>\n",
       "      <td>2018-08-05 00:00:31+00:00</td>\n",
       "      <td>111170</td>\n",
       "      <td>1.96</td>\n",
       "      <td>4.34</td>\n",
       "      <td>4.96</td>\n",
       "      <td>135.0</td>\n",
       "      <td>-67.0</td>\n",
       "      <td>84.0</td>\n",
       "      <td>33.0</td>\n",
       "      <td>4.34</td>\n",
       "      <td>NaN</td>\n",
       "    </tr>\n",
       "    <tr>\n",
       "      <th>1</th>\n",
       "      <td>2018-08-05 00:01:51+00:00</td>\n",
       "      <td>111171</td>\n",
       "      <td>2.13</td>\n",
       "      <td>3.89</td>\n",
       "      <td>6.83</td>\n",
       "      <td>136.0</td>\n",
       "      <td>-67.0</td>\n",
       "      <td>84.0</td>\n",
       "      <td>33.0</td>\n",
       "      <td>3.89</td>\n",
       "      <td>NaN</td>\n",
       "    </tr>\n",
       "    <tr>\n",
       "      <th>2</th>\n",
       "      <td>2018-08-05 00:03:11+00:00</td>\n",
       "      <td>111172</td>\n",
       "      <td>3.04</td>\n",
       "      <td>4.93</td>\n",
       "      <td>6.18</td>\n",
       "      <td>137.0</td>\n",
       "      <td>-68.0</td>\n",
       "      <td>84.0</td>\n",
       "      <td>34.0</td>\n",
       "      <td>4.93</td>\n",
       "      <td>NaN</td>\n",
       "    </tr>\n",
       "    <tr>\n",
       "      <th>3</th>\n",
       "      <td>2018-08-05 00:04:31+00:00</td>\n",
       "      <td>111173</td>\n",
       "      <td>2.17</td>\n",
       "      <td>4.26</td>\n",
       "      <td>6.83</td>\n",
       "      <td>139.0</td>\n",
       "      <td>-65.0</td>\n",
       "      <td>84.0</td>\n",
       "      <td>33.0</td>\n",
       "      <td>4.26</td>\n",
       "      <td>NaN</td>\n",
       "    </tr>\n",
       "    <tr>\n",
       "      <th>4</th>\n",
       "      <td>2018-08-05 00:05:51+00:00</td>\n",
       "      <td>111174</td>\n",
       "      <td>2.06</td>\n",
       "      <td>4.06</td>\n",
       "      <td>8.51</td>\n",
       "      <td>140.0</td>\n",
       "      <td>-67.0</td>\n",
       "      <td>84.0</td>\n",
       "      <td>33.0</td>\n",
       "      <td>4.06</td>\n",
       "      <td>NaN</td>\n",
       "    </tr>\n",
       "  </tbody>\n",
       "</table>\n",
       "</div>"
      ],
      "text/plain": [
       "                 created_at  entry_id  PM1.0_CF_ATM_ug/m3  PM2.5_CF_ATM_ug/m3  \\\n",
       "0 2018-08-05 00:00:31+00:00    111170                1.96                4.34   \n",
       "1 2018-08-05 00:01:51+00:00    111171                2.13                3.89   \n",
       "2 2018-08-05 00:03:11+00:00    111172                3.04                4.93   \n",
       "3 2018-08-05 00:04:31+00:00    111173                2.17                4.26   \n",
       "4 2018-08-05 00:05:51+00:00    111174                2.06                4.06   \n",
       "\n",
       "   PM10.0_CF_ATM_ug/m3  UptimeMinutes  RSSI_dbm  Temperature_F  Humidity_%  \\\n",
       "0                 4.96          135.0     -67.0           84.0        33.0   \n",
       "1                 6.83          136.0     -67.0           84.0        33.0   \n",
       "2                 6.18          137.0     -68.0           84.0        34.0   \n",
       "3                 6.83          139.0     -65.0           84.0        33.0   \n",
       "4                 8.51          140.0     -67.0           84.0        33.0   \n",
       "\n",
       "   PM2.5_CF_1_ug/m3  Unnamed: 10  \n",
       "0              4.34          NaN  \n",
       "1              3.89          NaN  \n",
       "2              4.93          NaN  \n",
       "3              4.26          NaN  \n",
       "4              4.06          NaN  "
      ]
     },
     "execution_count": 24,
     "metadata": {},
     "output_type": "execute_result"
    }
   ],
   "source": [
    "EB_primary.head()"
   ]
  },
  {
   "cell_type": "markdown",
   "metadata": {},
   "source": [
    "Nice thing about the datetime formate is that you can easily get time information out of it.  For example let's look at the 1,000th entry:"
   ]
  },
  {
   "cell_type": "code",
   "execution_count": 27,
   "metadata": {},
   "outputs": [
    {
     "data": {
      "text/plain": [
       "<UTC>"
      ]
     },
     "execution_count": 27,
     "metadata": {},
     "output_type": "execute_result"
    }
   ],
   "source": [
    "EB_primary.iloc[1000,0].tzinfo"
   ]
  },
  {
   "cell_type": "markdown",
   "metadata": {},
   "source": [
    "Note, we could rename the cols to make things easier if we wished.  I'm not going to because we're not going to be workign with this data set for long, but in other cases you might decide to."
   ]
  },
  {
   "cell_type": "markdown",
   "metadata": {},
   "source": [
    "Can we figure out how frequent measurements are?\n",
    "\n",
    "Unfortunately I found it difficult to take differences with datetime objects, so I had to write a for loop:"
   ]
  },
  {
   "cell_type": "code",
   "execution_count": 28,
   "metadata": {},
   "outputs": [
    {
     "name": "stdout",
     "output_type": "stream",
     "text": [
      "mins: [ 0. 14. 69. 69. 70. 70. 70. 70. 71. 71. 72. 72. 72. 72. 73. 73. 73. 73.\n",
      " 73. 74. 74. 74. 74. 74. 74. 74. 75. 75. 75. 75.]\n",
      "maxes: [134161.    931.    486.    481.    403.    384.    338.    334.    325.\n",
      "    322.    320.    320.    320.    320.    317.    315.    306.    299.\n",
      "    298.    256.    252.    245.    241.    241.    240.    240.    240.\n",
      "    240.    240.]\n",
      "mean: 86.70581741544844\n"
     ]
    }
   ],
   "source": [
    "diffs = np.zeros(len(EB_primary['created_at']))\n",
    "\n",
    "for i in range(0, len(diffs)-1):\n",
    "    diffs[i] = float((EB_primary['created_at'][i+1]- EB_primary['created_at'][i]).total_seconds())\n",
    "\n",
    "diffs = np.sort((diffs))\n",
    "\n",
    "print('mins:', diffs[0:30])\n",
    "print('maxes:', diffs[-1:-30:-1])\n",
    "print('mean:', np.mean(diffs))"
   ]
  },
  {
   "cell_type": "markdown",
   "metadata": {},
   "source": [
    "Looks like for the most part we're sampling every 1.5 minutes or so, with a few gaps in the data.  "
   ]
  },
  {
   "attachments": {},
   "cell_type": "markdown",
   "metadata": {},
   "source": [
    "## Scope: how much time, how many people, what spatial area?\n",
    "This is data from one location -- French School in Berkeley.  \n",
    "\n",
    "From the file name it looks like the time is from early August to early September, let's confirm:"
   ]
  },
  {
   "cell_type": "code",
   "execution_count": 29,
   "metadata": {
    "scrolled": true
   },
   "outputs": [
    {
     "data": {
      "text/plain": [
       "Timestamp('2018-08-05 00:00:31+0000', tz='UTC')"
      ]
     },
     "execution_count": 29,
     "metadata": {},
     "output_type": "execute_result"
    }
   ],
   "source": [
    "EB_primary['created_at'].min()"
   ]
  },
  {
   "cell_type": "code",
   "execution_count": 30,
   "metadata": {
    "scrolled": true
   },
   "outputs": [
    {
     "data": {
      "text/plain": [
       "Timestamp('2018-09-03 23:58:48+0000', tz='UTC')"
      ]
     },
     "execution_count": 30,
     "metadata": {},
     "output_type": "execute_result"
    }
   ],
   "source": [
    "EB_primary['created_at'].max()"
   ]
  },
  {
   "cell_type": "markdown",
   "metadata": {},
   "source": [
    "So it's about one month of data.  \n",
    "\n",
    "Does the data cover the topic of interest?\n",
    "\n",
    "In this case, we need to answer the question:  For the PurpleAir data, what topic of interest might the data cover?\n",
    "\n",
    "--> class discussion on this."
   ]
  },
  {
   "attachments": {},
   "cell_type": "markdown",
   "metadata": {},
   "source": [
    "## Temporality: How is time represented in the data?\n",
    "We've already figured out that we're working with UTC dates.  UTC is \"universal time coordinated\" and is essentially greenwich mean time, the time on the prime meridian."
   ]
  },
  {
   "cell_type": "markdown",
   "metadata": {},
   "source": [
    "## Faithfulness: are the data trustworthy?\n",
    "This one's much harder to assess.  Let's have a look at some basic things we might care about"
   ]
  },
  {
   "cell_type": "code",
   "execution_count": 31,
   "metadata": {},
   "outputs": [
    {
     "data": {
      "text/plain": [
       "0"
      ]
     },
     "execution_count": 31,
     "metadata": {},
     "output_type": "execute_result"
    }
   ],
   "source": [
    "sum(EB_primary['PM2.5_CF_ATM_ug/m3'].isna())"
   ]
  },
  {
   "cell_type": "markdown",
   "metadata": {},
   "source": [
    "That tells us there are no NaN values in the PM2.5 data.  Impressive!"
   ]
  },
  {
   "cell_type": "code",
   "execution_count": 32,
   "metadata": {
    "scrolled": true
   },
   "outputs": [
    {
     "data": {
      "text/html": [
       "<div>\n",
       "<style scoped>\n",
       "    .dataframe tbody tr th:only-of-type {\n",
       "        vertical-align: middle;\n",
       "    }\n",
       "\n",
       "    .dataframe tbody tr th {\n",
       "        vertical-align: top;\n",
       "    }\n",
       "\n",
       "    .dataframe thead th {\n",
       "        text-align: right;\n",
       "    }\n",
       "</style>\n",
       "<table border=\"1\" class=\"dataframe\">\n",
       "  <thead>\n",
       "    <tr style=\"text-align: right;\">\n",
       "      <th></th>\n",
       "      <th>entry_id</th>\n",
       "      <th>PM1.0_CF_ATM_ug/m3</th>\n",
       "      <th>PM2.5_CF_ATM_ug/m3</th>\n",
       "      <th>PM10.0_CF_ATM_ug/m3</th>\n",
       "      <th>UptimeMinutes</th>\n",
       "      <th>RSSI_dbm</th>\n",
       "      <th>Temperature_F</th>\n",
       "      <th>Humidity_%</th>\n",
       "      <th>PM2.5_CF_1_ug/m3</th>\n",
       "      <th>Unnamed: 10</th>\n",
       "    </tr>\n",
       "  </thead>\n",
       "  <tbody>\n",
       "    <tr>\n",
       "      <th>count</th>\n",
       "      <td>29893.000000</td>\n",
       "      <td>29893.000000</td>\n",
       "      <td>29893.000000</td>\n",
       "      <td>29893.000000</td>\n",
       "      <td>29893.000000</td>\n",
       "      <td>29893.000000</td>\n",
       "      <td>29893.000000</td>\n",
       "      <td>29893.000000</td>\n",
       "      <td>29893.000000</td>\n",
       "      <td>0.0</td>\n",
       "    </tr>\n",
       "    <tr>\n",
       "      <th>mean</th>\n",
       "      <td>126116.000000</td>\n",
       "      <td>15.656506</td>\n",
       "      <td>23.983548</td>\n",
       "      <td>28.240713</td>\n",
       "      <td>810.441508</td>\n",
       "      <td>-64.379654</td>\n",
       "      <td>71.434048</td>\n",
       "      <td>49.988726</td>\n",
       "      <td>21.014233</td>\n",
       "      <td>NaN</td>\n",
       "    </tr>\n",
       "    <tr>\n",
       "      <th>std</th>\n",
       "      <td>8629.510135</td>\n",
       "      <td>120.382762</td>\n",
       "      <td>121.160645</td>\n",
       "      <td>121.630947</td>\n",
       "      <td>1126.457388</td>\n",
       "      <td>10.010075</td>\n",
       "      <td>4.550603</td>\n",
       "      <td>6.149002</td>\n",
       "      <td>80.844029</td>\n",
       "      <td>NaN</td>\n",
       "    </tr>\n",
       "    <tr>\n",
       "      <th>min</th>\n",
       "      <td>111170.000000</td>\n",
       "      <td>0.330000</td>\n",
       "      <td>1.220000</td>\n",
       "      <td>1.310000</td>\n",
       "      <td>1.000000</td>\n",
       "      <td>-79.000000</td>\n",
       "      <td>63.000000</td>\n",
       "      <td>27.000000</td>\n",
       "      <td>1.220000</td>\n",
       "      <td>NaN</td>\n",
       "    </tr>\n",
       "    <tr>\n",
       "      <th>25%</th>\n",
       "      <td>118643.000000</td>\n",
       "      <td>5.040000</td>\n",
       "      <td>7.980000</td>\n",
       "      <td>10.430000</td>\n",
       "      <td>183.000000</td>\n",
       "      <td>-67.000000</td>\n",
       "      <td>68.000000</td>\n",
       "      <td>45.000000</td>\n",
       "      <td>7.980000</td>\n",
       "      <td>NaN</td>\n",
       "    </tr>\n",
       "    <tr>\n",
       "      <th>50%</th>\n",
       "      <td>126116.000000</td>\n",
       "      <td>9.510000</td>\n",
       "      <td>14.790000</td>\n",
       "      <td>18.540000</td>\n",
       "      <td>459.000000</td>\n",
       "      <td>-65.000000</td>\n",
       "      <td>70.000000</td>\n",
       "      <td>52.000000</td>\n",
       "      <td>14.790000</td>\n",
       "      <td>NaN</td>\n",
       "    </tr>\n",
       "    <tr>\n",
       "      <th>75%</th>\n",
       "      <td>133589.000000</td>\n",
       "      <td>17.280000</td>\n",
       "      <td>28.590000</td>\n",
       "      <td>32.890000</td>\n",
       "      <td>960.000000</td>\n",
       "      <td>-63.000000</td>\n",
       "      <td>75.000000</td>\n",
       "      <td>55.000000</td>\n",
       "      <td>28.400000</td>\n",
       "      <td>NaN</td>\n",
       "    </tr>\n",
       "    <tr>\n",
       "      <th>max</th>\n",
       "      <td>141062.000000</td>\n",
       "      <td>5003.890000</td>\n",
       "      <td>5003.890000</td>\n",
       "      <td>5003.890000</td>\n",
       "      <td>6761.000000</td>\n",
       "      <td>31.000000</td>\n",
       "      <td>88.000000</td>\n",
       "      <td>61.000000</td>\n",
       "      <td>3335.440000</td>\n",
       "      <td>NaN</td>\n",
       "    </tr>\n",
       "  </tbody>\n",
       "</table>\n",
       "</div>"
      ],
      "text/plain": [
       "            entry_id  PM1.0_CF_ATM_ug/m3  PM2.5_CF_ATM_ug/m3  \\\n",
       "count   29893.000000        29893.000000        29893.000000   \n",
       "mean   126116.000000           15.656506           23.983548   \n",
       "std      8629.510135          120.382762          121.160645   \n",
       "min    111170.000000            0.330000            1.220000   \n",
       "25%    118643.000000            5.040000            7.980000   \n",
       "50%    126116.000000            9.510000           14.790000   \n",
       "75%    133589.000000           17.280000           28.590000   \n",
       "max    141062.000000         5003.890000         5003.890000   \n",
       "\n",
       "       PM10.0_CF_ATM_ug/m3  UptimeMinutes      RSSI_dbm  Temperature_F  \\\n",
       "count         29893.000000   29893.000000  29893.000000   29893.000000   \n",
       "mean             28.240713     810.441508    -64.379654      71.434048   \n",
       "std             121.630947    1126.457388     10.010075       4.550603   \n",
       "min               1.310000       1.000000    -79.000000      63.000000   \n",
       "25%              10.430000     183.000000    -67.000000      68.000000   \n",
       "50%              18.540000     459.000000    -65.000000      70.000000   \n",
       "75%              32.890000     960.000000    -63.000000      75.000000   \n",
       "max            5003.890000    6761.000000     31.000000      88.000000   \n",
       "\n",
       "         Humidity_%  PM2.5_CF_1_ug/m3  Unnamed: 10  \n",
       "count  29893.000000      29893.000000          0.0  \n",
       "mean      49.988726         21.014233          NaN  \n",
       "std        6.149002         80.844029          NaN  \n",
       "min       27.000000          1.220000          NaN  \n",
       "25%       45.000000          7.980000          NaN  \n",
       "50%       52.000000         14.790000          NaN  \n",
       "75%       55.000000         28.400000          NaN  \n",
       "max       61.000000       3335.440000          NaN  "
      ]
     },
     "execution_count": 32,
     "metadata": {},
     "output_type": "execute_result"
    }
   ],
   "source": [
    "EB_primary.describe()"
   ]
  },
  {
   "cell_type": "markdown",
   "metadata": {},
   "source": [
    "That's a pretty high PM2.5 average.  And the max is very suspiciously high.  What's going on?\n",
    "\n",
    "Options: \n",
    "1. Wildfire smoke really pumped up the 2.5 values\n",
    "2. We have a lot of missing data and only values during the wild fires\n",
    "3. There are some erroneously high values."
   ]
  },
  {
   "cell_type": "markdown",
   "metadata": {},
   "source": [
    "Let's start by looking at how many values are big.  "
   ]
  },
  {
   "cell_type": "code",
   "execution_count": 33,
   "metadata": {},
   "outputs": [
    {
     "data": {
      "text/plain": [
       "2569     797.96\n",
       "2570     228.62\n",
       "2571     256.98\n",
       "9632    1497.30\n",
       "9633    5003.89\n",
       "9634    4999.74\n",
       "9635    4998.48\n",
       "9636    5000.70\n",
       "9637    5000.00\n",
       "9638    5000.00\n",
       "9639    5000.00\n",
       "9640    5000.00\n",
       "9641    5000.00\n",
       "9642    4998.30\n",
       "9643    4996.82\n",
       "9644    4998.23\n",
       "9645    4992.67\n",
       "9646    4998.00\n",
       "9647    5000.00\n",
       "9648    4996.89\n",
       "9649    4996.04\n",
       "9650    2187.27\n",
       "9692     201.70\n",
       "Name: PM2.5_CF_ATM_ug/m3, dtype: float64"
      ]
     },
     "execution_count": 33,
     "metadata": {},
     "output_type": "execute_result"
    }
   ],
   "source": [
    "log_ind = EB_primary.loc[:,'PM2.5_CF_ATM_ug/m3'] > 150\n",
    "EB_primary.loc[log_ind,'PM2.5_CF_ATM_ug/m3']"
   ]
  },
  {
   "cell_type": "markdown",
   "metadata": {},
   "source": [
    "Looks like there was a stretch of time with really high values, somewhat suspciously clustered around 5000.  If I were doing more work here I would look into the sensor more carefully to see if there is any significance to that number.\n",
    "\n",
    "But for now -- let's just go ahead and drop them and see what happens:"
   ]
  },
  {
   "cell_type": "code",
   "execution_count": 34,
   "metadata": {},
   "outputs": [
    {
     "data": {
      "text/html": [
       "<div>\n",
       "<style scoped>\n",
       "    .dataframe tbody tr th:only-of-type {\n",
       "        vertical-align: middle;\n",
       "    }\n",
       "\n",
       "    .dataframe tbody tr th {\n",
       "        vertical-align: top;\n",
       "    }\n",
       "\n",
       "    .dataframe thead th {\n",
       "        text-align: right;\n",
       "    }\n",
       "</style>\n",
       "<table border=\"1\" class=\"dataframe\">\n",
       "  <thead>\n",
       "    <tr style=\"text-align: right;\">\n",
       "      <th></th>\n",
       "      <th>entry_id</th>\n",
       "      <th>PM1.0_CF_ATM_ug/m3</th>\n",
       "      <th>PM2.5_CF_ATM_ug/m3</th>\n",
       "      <th>PM10.0_CF_ATM_ug/m3</th>\n",
       "      <th>UptimeMinutes</th>\n",
       "      <th>RSSI_dbm</th>\n",
       "      <th>Temperature_F</th>\n",
       "      <th>Humidity_%</th>\n",
       "      <th>PM2.5_CF_1_ug/m3</th>\n",
       "      <th>Unnamed: 10</th>\n",
       "    </tr>\n",
       "  </thead>\n",
       "  <tbody>\n",
       "    <tr>\n",
       "      <th>count</th>\n",
       "      <td>29893.000000</td>\n",
       "      <td>29893.000000</td>\n",
       "      <td>29870.000000</td>\n",
       "      <td>29893.000000</td>\n",
       "      <td>29893.000000</td>\n",
       "      <td>29893.000000</td>\n",
       "      <td>29893.000000</td>\n",
       "      <td>29893.000000</td>\n",
       "      <td>29893.000000</td>\n",
       "      <td>0.0</td>\n",
       "    </tr>\n",
       "    <tr>\n",
       "      <th>mean</th>\n",
       "      <td>126116.000000</td>\n",
       "      <td>15.656506</td>\n",
       "      <td>20.983950</td>\n",
       "      <td>28.240713</td>\n",
       "      <td>810.441508</td>\n",
       "      <td>-64.379654</td>\n",
       "      <td>71.434048</td>\n",
       "      <td>49.988726</td>\n",
       "      <td>21.014233</td>\n",
       "      <td>NaN</td>\n",
       "    </tr>\n",
       "    <tr>\n",
       "      <th>std</th>\n",
       "      <td>8629.510135</td>\n",
       "      <td>120.382762</td>\n",
       "      <td>18.510573</td>\n",
       "      <td>121.630947</td>\n",
       "      <td>1126.457388</td>\n",
       "      <td>10.010075</td>\n",
       "      <td>4.550603</td>\n",
       "      <td>6.149002</td>\n",
       "      <td>80.844029</td>\n",
       "      <td>NaN</td>\n",
       "    </tr>\n",
       "    <tr>\n",
       "      <th>min</th>\n",
       "      <td>111170.000000</td>\n",
       "      <td>0.330000</td>\n",
       "      <td>1.220000</td>\n",
       "      <td>1.310000</td>\n",
       "      <td>1.000000</td>\n",
       "      <td>-79.000000</td>\n",
       "      <td>63.000000</td>\n",
       "      <td>27.000000</td>\n",
       "      <td>1.220000</td>\n",
       "      <td>NaN</td>\n",
       "    </tr>\n",
       "    <tr>\n",
       "      <th>25%</th>\n",
       "      <td>118643.000000</td>\n",
       "      <td>5.040000</td>\n",
       "      <td>7.980000</td>\n",
       "      <td>10.430000</td>\n",
       "      <td>183.000000</td>\n",
       "      <td>-67.000000</td>\n",
       "      <td>68.000000</td>\n",
       "      <td>45.000000</td>\n",
       "      <td>7.980000</td>\n",
       "      <td>NaN</td>\n",
       "    </tr>\n",
       "    <tr>\n",
       "      <th>50%</th>\n",
       "      <td>126116.000000</td>\n",
       "      <td>9.510000</td>\n",
       "      <td>14.765000</td>\n",
       "      <td>18.540000</td>\n",
       "      <td>459.000000</td>\n",
       "      <td>-65.000000</td>\n",
       "      <td>70.000000</td>\n",
       "      <td>52.000000</td>\n",
       "      <td>14.790000</td>\n",
       "      <td>NaN</td>\n",
       "    </tr>\n",
       "    <tr>\n",
       "      <th>75%</th>\n",
       "      <td>133589.000000</td>\n",
       "      <td>17.280000</td>\n",
       "      <td>28.550000</td>\n",
       "      <td>32.890000</td>\n",
       "      <td>960.000000</td>\n",
       "      <td>-63.000000</td>\n",
       "      <td>75.000000</td>\n",
       "      <td>55.000000</td>\n",
       "      <td>28.400000</td>\n",
       "      <td>NaN</td>\n",
       "    </tr>\n",
       "    <tr>\n",
       "      <th>max</th>\n",
       "      <td>141062.000000</td>\n",
       "      <td>5003.890000</td>\n",
       "      <td>115.950000</td>\n",
       "      <td>5003.890000</td>\n",
       "      <td>6761.000000</td>\n",
       "      <td>31.000000</td>\n",
       "      <td>88.000000</td>\n",
       "      <td>61.000000</td>\n",
       "      <td>3335.440000</td>\n",
       "      <td>NaN</td>\n",
       "    </tr>\n",
       "  </tbody>\n",
       "</table>\n",
       "</div>"
      ],
      "text/plain": [
       "            entry_id  PM1.0_CF_ATM_ug/m3  PM2.5_CF_ATM_ug/m3  \\\n",
       "count   29893.000000        29893.000000        29870.000000   \n",
       "mean   126116.000000           15.656506           20.983950   \n",
       "std      8629.510135          120.382762           18.510573   \n",
       "min    111170.000000            0.330000            1.220000   \n",
       "25%    118643.000000            5.040000            7.980000   \n",
       "50%    126116.000000            9.510000           14.765000   \n",
       "75%    133589.000000           17.280000           28.550000   \n",
       "max    141062.000000         5003.890000          115.950000   \n",
       "\n",
       "       PM10.0_CF_ATM_ug/m3  UptimeMinutes      RSSI_dbm  Temperature_F  \\\n",
       "count         29893.000000   29893.000000  29893.000000   29893.000000   \n",
       "mean             28.240713     810.441508    -64.379654      71.434048   \n",
       "std             121.630947    1126.457388     10.010075       4.550603   \n",
       "min               1.310000       1.000000    -79.000000      63.000000   \n",
       "25%              10.430000     183.000000    -67.000000      68.000000   \n",
       "50%              18.540000     459.000000    -65.000000      70.000000   \n",
       "75%              32.890000     960.000000    -63.000000      75.000000   \n",
       "max            5003.890000    6761.000000     31.000000      88.000000   \n",
       "\n",
       "         Humidity_%  PM2.5_CF_1_ug/m3  Unnamed: 10  \n",
       "count  29893.000000      29893.000000          0.0  \n",
       "mean      49.988726         21.014233          NaN  \n",
       "std        6.149002         80.844029          NaN  \n",
       "min       27.000000          1.220000          NaN  \n",
       "25%       45.000000          7.980000          NaN  \n",
       "50%       52.000000         14.790000          NaN  \n",
       "75%       55.000000         28.400000          NaN  \n",
       "max       61.000000       3335.440000          NaN  "
      ]
     },
     "execution_count": 34,
     "metadata": {},
     "output_type": "execute_result"
    }
   ],
   "source": [
    "EB_primary.loc[log_ind,'PM2.5_CF_ATM_ug/m3'] = np.nan\n",
    "EB_primary.describe()"
   ]
  },
  {
   "cell_type": "markdown",
   "metadata": {},
   "source": [
    "You can see the average came down a little, and the standard deviation came *really* far down.  And as we'd hope the max is now below 150.  "
   ]
  },
  {
   "cell_type": "code",
   "execution_count": null,
   "metadata": {},
   "outputs": [],
   "source": []
  }
 ],
 "metadata": {
  "kernelspec": {
   "display_name": "Python 3",
   "language": "python",
   "name": "python3"
  },
  "language_info": {
   "codemirror_mode": {
    "name": "ipython",
    "version": 3
   },
   "file_extension": ".py",
   "mimetype": "text/x-python",
   "name": "python",
   "nbconvert_exporter": "python",
   "pygments_lexer": "ipython3",
   "version": "3.6.4"
  }
 },
 "nbformat": 4,
 "nbformat_minor": 2
}
