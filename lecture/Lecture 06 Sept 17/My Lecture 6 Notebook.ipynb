{
 "cells": [
  {
   "cell_type": "markdown",
   "metadata": {},
   "source": [
    "# ER190C Lecture 6 Notebook\n",
    "\n",
    "**Data Cleaning and Exploratory Data Analysis**\n",
    "\n",
    "Duncan Callaway\n",
    "\n",
    "September 11 2018\n",
    "\n",
    "Today we'll work with PurpleAir data to explore the concepts of Structure, Granularity, Scope, Temporality and Faithfulness.  Along the way we'll talk about data cleaning as well.  \n",
    "\n",
    "[Here's PurpleAir's website](https://www.purpleair.com/map#1/25/-30) -- They have really cool maps!\n",
    "\n",
    "The way I developed this lecture was by pulling the data down and exploring it.  You'll see my (edited) process of examining the data.\n",
    "\n",
    "This began by me visiting [this website](https://www.purpleair.com/sensorlist) to look for data.  I used the Chrome browser to pull data (other browsers didn't work).\n",
    "\n",
    "The folks are PurpleAir also sent me [this pdf](https://github.com/ds-modules/ER-190C/blob/master/lecture/Lecture%206%20Sept%2011/Using%20PurpleAir%20Data.pdf) describing their data.  "
   ]
  },
  {
   "cell_type": "code",
   "execution_count": 8,
   "metadata": {},
   "outputs": [],
   "source": [
    "import numpy as np\n",
    "import pandas as pd\n",
    "import os\n",
    "\n",
    "from utils import line_count\n",
    "from utils import head"
   ]
  },
  {
   "cell_type": "code",
   "execution_count": 9,
   "metadata": {},
   "outputs": [
    {
     "data": {
      "text/plain": [
       "['Ecole Bilingue de Berkeley (37.854830799999995 -122.28937169999999) Primary 08_05_2018 09_04_2018.csv',\n",
       " 'Ecole Bilingue de Berkeley (37.854830799999995 -122.28937169999999) Secondary 08_05_2018 09_04_2018.csv']"
      ]
     },
     "execution_count": 9,
     "metadata": {},
     "output_type": "execute_result"
    }
   ],
   "source": [
    "os.listdir('data')"
   ]
  },
  {
   "cell_type": "code",
   "execution_count": 10,
   "metadata": {},
   "outputs": [
    {
     "data": {
      "text/plain": [
       "2.41108"
      ]
     },
     "execution_count": 10,
     "metadata": {},
     "output_type": "execute_result"
    }
   ],
   "source": [
    "os.path.getsize('data/Ecole Bilingue de Berkeley (37.854830799999995 -122.28937169999999) Primary 08_05_2018 09_04_2018.csv')/1e6"
   ]
  },
  {
   "cell_type": "code",
   "execution_count": 11,
   "metadata": {},
   "outputs": [
    {
     "data": {
      "text/plain": [
       "29894"
      ]
     },
     "execution_count": 11,
     "metadata": {},
     "output_type": "execute_result"
    }
   ],
   "source": [
    "line_count('data/Ecole Bilingue de Berkeley (37.854830799999995 -122.28937169999999) Primary 08_05_2018 09_04_2018.csv')"
   ]
  },
  {
   "cell_type": "code",
   "execution_count": 12,
   "metadata": {},
   "outputs": [
    {
     "data": {
      "text/plain": [
       "['created_at,entry_id,PM1.0_CF_ATM_ug/m3,PM2.5_CF_ATM_ug/m3,PM10.0_CF_ATM_ug/m3,UptimeMinutes,RSSI_dbm,Temperature_F,Humidity_%,PM2.5_CF_1_ug/m3,\\n',\n",
       " '2018-08-05 00:00:31 UTC,111170,1.96,4.34,4.96,135.00,-67.00,84.00,33.00,4.34\\n',\n",
       " '2018-08-05 00:01:51 UTC,111171,2.13,3.89,6.83,136.00,-67.00,84.00,33.00,3.89\\n',\n",
       " '2018-08-05 00:03:11 UTC,111172,3.04,4.93,6.18,137.00,-68.00,84.00,34.00,4.93\\n',\n",
       " '2018-08-05 00:04:31 UTC,111173,2.17,4.26,6.83,139.00,-65.00,84.00,33.00,4.26\\n']"
      ]
     },
     "execution_count": 12,
     "metadata": {},
     "output_type": "execute_result"
    }
   ],
   "source": [
    "head('data/Ecole Bilingue de Berkeley (37.854830799999995 -122.28937169999999) Primary 08_05_2018 09_04_2018.csv')"
   ]
  },
  {
   "cell_type": "code",
   "execution_count": 13,
   "metadata": {},
   "outputs": [],
   "source": [
    "EB_data = pd.read_csv('data/Ecole Bilingue de Berkeley (37.854830799999995 -122.28937169999999) Primary 08_05_2018 09_04_2018.csv')"
   ]
  },
  {
   "cell_type": "code",
   "execution_count": 15,
   "metadata": {},
   "outputs": [
    {
     "data": {
      "text/html": [
       "<div>\n",
       "<style scoped>\n",
       "    .dataframe tbody tr th:only-of-type {\n",
       "        vertical-align: middle;\n",
       "    }\n",
       "\n",
       "    .dataframe tbody tr th {\n",
       "        vertical-align: top;\n",
       "    }\n",
       "\n",
       "    .dataframe thead th {\n",
       "        text-align: right;\n",
       "    }\n",
       "</style>\n",
       "<table border=\"1\" class=\"dataframe\">\n",
       "  <thead>\n",
       "    <tr style=\"text-align: right;\">\n",
       "      <th></th>\n",
       "      <th>created_at</th>\n",
       "      <th>entry_id</th>\n",
       "      <th>PM1.0_CF_ATM_ug/m3</th>\n",
       "      <th>PM2.5_CF_ATM_ug/m3</th>\n",
       "      <th>PM10.0_CF_ATM_ug/m3</th>\n",
       "      <th>UptimeMinutes</th>\n",
       "      <th>RSSI_dbm</th>\n",
       "      <th>Temperature_F</th>\n",
       "      <th>Humidity_%</th>\n",
       "      <th>PM2.5_CF_1_ug/m3</th>\n",
       "      <th>Unnamed: 10</th>\n",
       "    </tr>\n",
       "  </thead>\n",
       "  <tbody>\n",
       "    <tr>\n",
       "      <th>0</th>\n",
       "      <td>2018-08-05 00:00:31 UTC</td>\n",
       "      <td>111170</td>\n",
       "      <td>1.96</td>\n",
       "      <td>4.34</td>\n",
       "      <td>4.96</td>\n",
       "      <td>135.0</td>\n",
       "      <td>-67.0</td>\n",
       "      <td>84.0</td>\n",
       "      <td>33.0</td>\n",
       "      <td>4.34</td>\n",
       "      <td>NaN</td>\n",
       "    </tr>\n",
       "    <tr>\n",
       "      <th>1</th>\n",
       "      <td>2018-08-05 00:01:51 UTC</td>\n",
       "      <td>111171</td>\n",
       "      <td>2.13</td>\n",
       "      <td>3.89</td>\n",
       "      <td>6.83</td>\n",
       "      <td>136.0</td>\n",
       "      <td>-67.0</td>\n",
       "      <td>84.0</td>\n",
       "      <td>33.0</td>\n",
       "      <td>3.89</td>\n",
       "      <td>NaN</td>\n",
       "    </tr>\n",
       "    <tr>\n",
       "      <th>2</th>\n",
       "      <td>2018-08-05 00:03:11 UTC</td>\n",
       "      <td>111172</td>\n",
       "      <td>3.04</td>\n",
       "      <td>4.93</td>\n",
       "      <td>6.18</td>\n",
       "      <td>137.0</td>\n",
       "      <td>-68.0</td>\n",
       "      <td>84.0</td>\n",
       "      <td>34.0</td>\n",
       "      <td>4.93</td>\n",
       "      <td>NaN</td>\n",
       "    </tr>\n",
       "    <tr>\n",
       "      <th>3</th>\n",
       "      <td>2018-08-05 00:04:31 UTC</td>\n",
       "      <td>111173</td>\n",
       "      <td>2.17</td>\n",
       "      <td>4.26</td>\n",
       "      <td>6.83</td>\n",
       "      <td>139.0</td>\n",
       "      <td>-65.0</td>\n",
       "      <td>84.0</td>\n",
       "      <td>33.0</td>\n",
       "      <td>4.26</td>\n",
       "      <td>NaN</td>\n",
       "    </tr>\n",
       "    <tr>\n",
       "      <th>4</th>\n",
       "      <td>2018-08-05 00:05:51 UTC</td>\n",
       "      <td>111174</td>\n",
       "      <td>2.06</td>\n",
       "      <td>4.06</td>\n",
       "      <td>8.51</td>\n",
       "      <td>140.0</td>\n",
       "      <td>-67.0</td>\n",
       "      <td>84.0</td>\n",
       "      <td>33.0</td>\n",
       "      <td>4.06</td>\n",
       "      <td>NaN</td>\n",
       "    </tr>\n",
       "  </tbody>\n",
       "</table>\n",
       "</div>"
      ],
      "text/plain": [
       "                created_at  entry_id  PM1.0_CF_ATM_ug/m3  PM2.5_CF_ATM_ug/m3  \\\n",
       "0  2018-08-05 00:00:31 UTC    111170                1.96                4.34   \n",
       "1  2018-08-05 00:01:51 UTC    111171                2.13                3.89   \n",
       "2  2018-08-05 00:03:11 UTC    111172                3.04                4.93   \n",
       "3  2018-08-05 00:04:31 UTC    111173                2.17                4.26   \n",
       "4  2018-08-05 00:05:51 UTC    111174                2.06                4.06   \n",
       "\n",
       "   PM10.0_CF_ATM_ug/m3  UptimeMinutes  RSSI_dbm  Temperature_F  Humidity_%  \\\n",
       "0                 4.96          135.0     -67.0           84.0        33.0   \n",
       "1                 6.83          136.0     -67.0           84.0        33.0   \n",
       "2                 6.18          137.0     -68.0           84.0        34.0   \n",
       "3                 6.83          139.0     -65.0           84.0        33.0   \n",
       "4                 8.51          140.0     -67.0           84.0        33.0   \n",
       "\n",
       "   PM2.5_CF_1_ug/m3  Unnamed: 10  \n",
       "0              4.34          NaN  \n",
       "1              3.89          NaN  \n",
       "2              4.93          NaN  \n",
       "3              4.26          NaN  \n",
       "4              4.06          NaN  "
      ]
     },
     "execution_count": 15,
     "metadata": {},
     "output_type": "execute_result"
    }
   ],
   "source": [
    "EB_data.head()"
   ]
  },
  {
   "cell_type": "code",
   "execution_count": 16,
   "metadata": {},
   "outputs": [
    {
     "data": {
      "text/plain": [
       "array([ True])"
      ]
     },
     "execution_count": 16,
     "metadata": {},
     "output_type": "execute_result"
    }
   ],
   "source": [
    "pd.unique(EB_data['Unnamed: 10'].isna())"
   ]
  },
  {
   "cell_type": "code",
   "execution_count": 18,
   "metadata": {},
   "outputs": [
    {
     "data": {
      "text/plain": [
       "'2018-08-05 00:00:31 UTC'"
      ]
     },
     "execution_count": 18,
     "metadata": {},
     "output_type": "execute_result"
    }
   ],
   "source": [
    "EB_data.loc[0, 'created_at']"
   ]
  },
  {
   "cell_type": "code",
   "execution_count": 25,
   "metadata": {},
   "outputs": [],
   "source": [
    "EB_time = pd.to_datetime(EB_data['created_at'], utc = True)"
   ]
  },
  {
   "cell_type": "code",
   "execution_count": 26,
   "metadata": {},
   "outputs": [
    {
     "data": {
      "text/plain": [
       "datetime64[ns, UTC]"
      ]
     },
     "execution_count": 26,
     "metadata": {},
     "output_type": "execute_result"
    }
   ],
   "source": [
    "EB_time.dtype"
   ]
  },
  {
   "cell_type": "code",
   "execution_count": 28,
   "metadata": {},
   "outputs": [
    {
     "data": {
      "text/html": [
       "<div>\n",
       "<style scoped>\n",
       "    .dataframe tbody tr th:only-of-type {\n",
       "        vertical-align: middle;\n",
       "    }\n",
       "\n",
       "    .dataframe tbody tr th {\n",
       "        vertical-align: top;\n",
       "    }\n",
       "\n",
       "    .dataframe thead th {\n",
       "        text-align: right;\n",
       "    }\n",
       "</style>\n",
       "<table border=\"1\" class=\"dataframe\">\n",
       "  <thead>\n",
       "    <tr style=\"text-align: right;\">\n",
       "      <th></th>\n",
       "      <th>created_at</th>\n",
       "      <th>entry_id</th>\n",
       "      <th>PM1.0_CF_ATM_ug/m3</th>\n",
       "      <th>PM2.5_CF_ATM_ug/m3</th>\n",
       "      <th>PM10.0_CF_ATM_ug/m3</th>\n",
       "      <th>UptimeMinutes</th>\n",
       "      <th>RSSI_dbm</th>\n",
       "      <th>Temperature_F</th>\n",
       "      <th>Humidity_%</th>\n",
       "      <th>PM2.5_CF_1_ug/m3</th>\n",
       "      <th>Unnamed: 10</th>\n",
       "    </tr>\n",
       "  </thead>\n",
       "  <tbody>\n",
       "    <tr>\n",
       "      <th>0</th>\n",
       "      <td>2018-08-05 00:00:31+00:00</td>\n",
       "      <td>111170</td>\n",
       "      <td>1.96</td>\n",
       "      <td>4.34</td>\n",
       "      <td>4.96</td>\n",
       "      <td>135.0</td>\n",
       "      <td>-67.0</td>\n",
       "      <td>84.0</td>\n",
       "      <td>33.0</td>\n",
       "      <td>4.34</td>\n",
       "      <td>NaN</td>\n",
       "    </tr>\n",
       "    <tr>\n",
       "      <th>1</th>\n",
       "      <td>2018-08-05 00:01:51+00:00</td>\n",
       "      <td>111171</td>\n",
       "      <td>2.13</td>\n",
       "      <td>3.89</td>\n",
       "      <td>6.83</td>\n",
       "      <td>136.0</td>\n",
       "      <td>-67.0</td>\n",
       "      <td>84.0</td>\n",
       "      <td>33.0</td>\n",
       "      <td>3.89</td>\n",
       "      <td>NaN</td>\n",
       "    </tr>\n",
       "    <tr>\n",
       "      <th>2</th>\n",
       "      <td>2018-08-05 00:03:11+00:00</td>\n",
       "      <td>111172</td>\n",
       "      <td>3.04</td>\n",
       "      <td>4.93</td>\n",
       "      <td>6.18</td>\n",
       "      <td>137.0</td>\n",
       "      <td>-68.0</td>\n",
       "      <td>84.0</td>\n",
       "      <td>34.0</td>\n",
       "      <td>4.93</td>\n",
       "      <td>NaN</td>\n",
       "    </tr>\n",
       "    <tr>\n",
       "      <th>3</th>\n",
       "      <td>2018-08-05 00:04:31+00:00</td>\n",
       "      <td>111173</td>\n",
       "      <td>2.17</td>\n",
       "      <td>4.26</td>\n",
       "      <td>6.83</td>\n",
       "      <td>139.0</td>\n",
       "      <td>-65.0</td>\n",
       "      <td>84.0</td>\n",
       "      <td>33.0</td>\n",
       "      <td>4.26</td>\n",
       "      <td>NaN</td>\n",
       "    </tr>\n",
       "    <tr>\n",
       "      <th>4</th>\n",
       "      <td>2018-08-05 00:05:51+00:00</td>\n",
       "      <td>111174</td>\n",
       "      <td>2.06</td>\n",
       "      <td>4.06</td>\n",
       "      <td>8.51</td>\n",
       "      <td>140.0</td>\n",
       "      <td>-67.0</td>\n",
       "      <td>84.0</td>\n",
       "      <td>33.0</td>\n",
       "      <td>4.06</td>\n",
       "      <td>NaN</td>\n",
       "    </tr>\n",
       "  </tbody>\n",
       "</table>\n",
       "</div>"
      ],
      "text/plain": [
       "                 created_at  entry_id  PM1.0_CF_ATM_ug/m3  PM2.5_CF_ATM_ug/m3  \\\n",
       "0 2018-08-05 00:00:31+00:00    111170                1.96                4.34   \n",
       "1 2018-08-05 00:01:51+00:00    111171                2.13                3.89   \n",
       "2 2018-08-05 00:03:11+00:00    111172                3.04                4.93   \n",
       "3 2018-08-05 00:04:31+00:00    111173                2.17                4.26   \n",
       "4 2018-08-05 00:05:51+00:00    111174                2.06                4.06   \n",
       "\n",
       "   PM10.0_CF_ATM_ug/m3  UptimeMinutes  RSSI_dbm  Temperature_F  Humidity_%  \\\n",
       "0                 4.96          135.0     -67.0           84.0        33.0   \n",
       "1                 6.83          136.0     -67.0           84.0        33.0   \n",
       "2                 6.18          137.0     -68.0           84.0        34.0   \n",
       "3                 6.83          139.0     -65.0           84.0        33.0   \n",
       "4                 8.51          140.0     -67.0           84.0        33.0   \n",
       "\n",
       "   PM2.5_CF_1_ug/m3  Unnamed: 10  \n",
       "0              4.34          NaN  \n",
       "1              3.89          NaN  \n",
       "2              4.93          NaN  \n",
       "3              4.26          NaN  \n",
       "4              4.06          NaN  "
      ]
     },
     "execution_count": 28,
     "metadata": {},
     "output_type": "execute_result"
    }
   ],
   "source": [
    "EB_data['created_at'] = EB_time\n",
    "\n",
    "EB_data.head()"
   ]
  },
  {
   "cell_type": "code",
   "execution_count": 30,
   "metadata": {},
   "outputs": [
    {
     "data": {
      "text/html": [
       "<div>\n",
       "<style scoped>\n",
       "    .dataframe tbody tr th:only-of-type {\n",
       "        vertical-align: middle;\n",
       "    }\n",
       "\n",
       "    .dataframe tbody tr th {\n",
       "        vertical-align: top;\n",
       "    }\n",
       "\n",
       "    .dataframe thead th {\n",
       "        text-align: right;\n",
       "    }\n",
       "</style>\n",
       "<table border=\"1\" class=\"dataframe\">\n",
       "  <thead>\n",
       "    <tr style=\"text-align: right;\">\n",
       "      <th></th>\n",
       "      <th>entry_id</th>\n",
       "      <th>PM1.0_CF_ATM_ug/m3</th>\n",
       "      <th>PM2.5_CF_ATM_ug/m3</th>\n",
       "      <th>PM10.0_CF_ATM_ug/m3</th>\n",
       "      <th>UptimeMinutes</th>\n",
       "      <th>RSSI_dbm</th>\n",
       "      <th>Temperature_F</th>\n",
       "      <th>Humidity_%</th>\n",
       "      <th>PM2.5_CF_1_ug/m3</th>\n",
       "      <th>Unnamed: 10</th>\n",
       "    </tr>\n",
       "  </thead>\n",
       "  <tbody>\n",
       "    <tr>\n",
       "      <th>count</th>\n",
       "      <td>29893.000000</td>\n",
       "      <td>29893.000000</td>\n",
       "      <td>29893.000000</td>\n",
       "      <td>29893.000000</td>\n",
       "      <td>29893.000000</td>\n",
       "      <td>29893.000000</td>\n",
       "      <td>29893.000000</td>\n",
       "      <td>29893.000000</td>\n",
       "      <td>29893.000000</td>\n",
       "      <td>0.0</td>\n",
       "    </tr>\n",
       "    <tr>\n",
       "      <th>mean</th>\n",
       "      <td>126116.000000</td>\n",
       "      <td>15.656506</td>\n",
       "      <td>23.983548</td>\n",
       "      <td>28.240713</td>\n",
       "      <td>810.441508</td>\n",
       "      <td>-64.379654</td>\n",
       "      <td>71.434048</td>\n",
       "      <td>49.988726</td>\n",
       "      <td>21.014233</td>\n",
       "      <td>NaN</td>\n",
       "    </tr>\n",
       "    <tr>\n",
       "      <th>std</th>\n",
       "      <td>8629.510135</td>\n",
       "      <td>120.382762</td>\n",
       "      <td>121.160645</td>\n",
       "      <td>121.630947</td>\n",
       "      <td>1126.457388</td>\n",
       "      <td>10.010075</td>\n",
       "      <td>4.550603</td>\n",
       "      <td>6.149002</td>\n",
       "      <td>80.844029</td>\n",
       "      <td>NaN</td>\n",
       "    </tr>\n",
       "    <tr>\n",
       "      <th>min</th>\n",
       "      <td>111170.000000</td>\n",
       "      <td>0.330000</td>\n",
       "      <td>1.220000</td>\n",
       "      <td>1.310000</td>\n",
       "      <td>1.000000</td>\n",
       "      <td>-79.000000</td>\n",
       "      <td>63.000000</td>\n",
       "      <td>27.000000</td>\n",
       "      <td>1.220000</td>\n",
       "      <td>NaN</td>\n",
       "    </tr>\n",
       "    <tr>\n",
       "      <th>25%</th>\n",
       "      <td>118643.000000</td>\n",
       "      <td>5.040000</td>\n",
       "      <td>7.980000</td>\n",
       "      <td>10.430000</td>\n",
       "      <td>183.000000</td>\n",
       "      <td>-67.000000</td>\n",
       "      <td>68.000000</td>\n",
       "      <td>45.000000</td>\n",
       "      <td>7.980000</td>\n",
       "      <td>NaN</td>\n",
       "    </tr>\n",
       "    <tr>\n",
       "      <th>50%</th>\n",
       "      <td>126116.000000</td>\n",
       "      <td>9.510000</td>\n",
       "      <td>14.790000</td>\n",
       "      <td>18.540000</td>\n",
       "      <td>459.000000</td>\n",
       "      <td>-65.000000</td>\n",
       "      <td>70.000000</td>\n",
       "      <td>52.000000</td>\n",
       "      <td>14.790000</td>\n",
       "      <td>NaN</td>\n",
       "    </tr>\n",
       "    <tr>\n",
       "      <th>75%</th>\n",
       "      <td>133589.000000</td>\n",
       "      <td>17.280000</td>\n",
       "      <td>28.590000</td>\n",
       "      <td>32.890000</td>\n",
       "      <td>960.000000</td>\n",
       "      <td>-63.000000</td>\n",
       "      <td>75.000000</td>\n",
       "      <td>55.000000</td>\n",
       "      <td>28.400000</td>\n",
       "      <td>NaN</td>\n",
       "    </tr>\n",
       "    <tr>\n",
       "      <th>max</th>\n",
       "      <td>141062.000000</td>\n",
       "      <td>5003.890000</td>\n",
       "      <td>5003.890000</td>\n",
       "      <td>5003.890000</td>\n",
       "      <td>6761.000000</td>\n",
       "      <td>31.000000</td>\n",
       "      <td>88.000000</td>\n",
       "      <td>61.000000</td>\n",
       "      <td>3335.440000</td>\n",
       "      <td>NaN</td>\n",
       "    </tr>\n",
       "  </tbody>\n",
       "</table>\n",
       "</div>"
      ],
      "text/plain": [
       "            entry_id  PM1.0_CF_ATM_ug/m3  PM2.5_CF_ATM_ug/m3  \\\n",
       "count   29893.000000        29893.000000        29893.000000   \n",
       "mean   126116.000000           15.656506           23.983548   \n",
       "std      8629.510135          120.382762          121.160645   \n",
       "min    111170.000000            0.330000            1.220000   \n",
       "25%    118643.000000            5.040000            7.980000   \n",
       "50%    126116.000000            9.510000           14.790000   \n",
       "75%    133589.000000           17.280000           28.590000   \n",
       "max    141062.000000         5003.890000         5003.890000   \n",
       "\n",
       "       PM10.0_CF_ATM_ug/m3  UptimeMinutes      RSSI_dbm  Temperature_F  \\\n",
       "count         29893.000000   29893.000000  29893.000000   29893.000000   \n",
       "mean             28.240713     810.441508    -64.379654      71.434048   \n",
       "std             121.630947    1126.457388     10.010075       4.550603   \n",
       "min               1.310000       1.000000    -79.000000      63.000000   \n",
       "25%              10.430000     183.000000    -67.000000      68.000000   \n",
       "50%              18.540000     459.000000    -65.000000      70.000000   \n",
       "75%              32.890000     960.000000    -63.000000      75.000000   \n",
       "max            5003.890000    6761.000000     31.000000      88.000000   \n",
       "\n",
       "         Humidity_%  PM2.5_CF_1_ug/m3  Unnamed: 10  \n",
       "count  29893.000000      29893.000000          0.0  \n",
       "mean      49.988726         21.014233          NaN  \n",
       "std        6.149002         80.844029          NaN  \n",
       "min       27.000000          1.220000          NaN  \n",
       "25%       45.000000          7.980000          NaN  \n",
       "50%       52.000000         14.790000          NaN  \n",
       "75%       55.000000         28.400000          NaN  \n",
       "max       61.000000       3335.440000          NaN  "
      ]
     },
     "execution_count": 30,
     "metadata": {},
     "output_type": "execute_result"
    }
   ],
   "source": [
    "EB_data.describe()"
   ]
  },
  {
   "cell_type": "code",
   "execution_count": 32,
   "metadata": {},
   "outputs": [
    {
     "data": {
      "text/plain": [
       "9633    5003.89\n",
       "Name: PM2.5_CF_ATM_ug/m3, dtype: float64"
      ]
     },
     "execution_count": 32,
     "metadata": {},
     "output_type": "execute_result"
    }
   ],
   "source": [
    "EB_data.loc[EB_data['PM2.5_CF_ATM_ug/m3']==5003.89, 'PM2.5_CF_ATM_ug/m3']"
   ]
  },
  {
   "cell_type": "code",
   "execution_count": 36,
   "metadata": {},
   "outputs": [
    {
     "data": {
      "text/plain": [
       "2569     797.96\n",
       "2570     228.62\n",
       "2571     256.98\n",
       "9632    1497.30\n",
       "9633    5003.89\n",
       "9634    4999.74\n",
       "9635    4998.48\n",
       "9636    5000.70\n",
       "9637    5000.00\n",
       "9638    5000.00\n",
       "9639    5000.00\n",
       "9640    5000.00\n",
       "9641    5000.00\n",
       "9642    4998.30\n",
       "9643    4996.82\n",
       "9644    4998.23\n",
       "9645    4992.67\n",
       "9646    4998.00\n",
       "9647    5000.00\n",
       "9648    4996.89\n",
       "9649    4996.04\n",
       "9650    2187.27\n",
       "9692     201.70\n",
       "Name: PM2.5_CF_ATM_ug/m3, dtype: float64"
      ]
     },
     "execution_count": 36,
     "metadata": {},
     "output_type": "execute_result"
    }
   ],
   "source": [
    "EB_data.loc[EB_data['PM2.5_CF_ATM_ug/m3']>150, 'PM2.5_CF_ATM_ug/m3']"
   ]
  },
  {
   "cell_type": "code",
   "execution_count": 37,
   "metadata": {},
   "outputs": [],
   "source": [
    "EB_data.loc[EB_data['PM2.5_CF_ATM_ug/m3']>1400, 'PM2.5_CF_ATM_ug/m3'] = np.nan"
   ]
  },
  {
   "cell_type": "code",
   "execution_count": 38,
   "metadata": {},
   "outputs": [
    {
     "data": {
      "text/html": [
       "<div>\n",
       "<style scoped>\n",
       "    .dataframe tbody tr th:only-of-type {\n",
       "        vertical-align: middle;\n",
       "    }\n",
       "\n",
       "    .dataframe tbody tr th {\n",
       "        vertical-align: top;\n",
       "    }\n",
       "\n",
       "    .dataframe thead th {\n",
       "        text-align: right;\n",
       "    }\n",
       "</style>\n",
       "<table border=\"1\" class=\"dataframe\">\n",
       "  <thead>\n",
       "    <tr style=\"text-align: right;\">\n",
       "      <th></th>\n",
       "      <th>entry_id</th>\n",
       "      <th>PM1.0_CF_ATM_ug/m3</th>\n",
       "      <th>PM2.5_CF_ATM_ug/m3</th>\n",
       "      <th>PM10.0_CF_ATM_ug/m3</th>\n",
       "      <th>UptimeMinutes</th>\n",
       "      <th>RSSI_dbm</th>\n",
       "      <th>Temperature_F</th>\n",
       "      <th>Humidity_%</th>\n",
       "      <th>PM2.5_CF_1_ug/m3</th>\n",
       "      <th>Unnamed: 10</th>\n",
       "    </tr>\n",
       "  </thead>\n",
       "  <tbody>\n",
       "    <tr>\n",
       "      <th>count</th>\n",
       "      <td>29893.000000</td>\n",
       "      <td>29893.000000</td>\n",
       "      <td>29874.000000</td>\n",
       "      <td>29893.000000</td>\n",
       "      <td>29893.000000</td>\n",
       "      <td>29893.000000</td>\n",
       "      <td>29893.000000</td>\n",
       "      <td>29893.000000</td>\n",
       "      <td>29893.000000</td>\n",
       "      <td>0.0</td>\n",
       "    </tr>\n",
       "    <tr>\n",
       "      <th>mean</th>\n",
       "      <td>126116.000000</td>\n",
       "      <td>15.656506</td>\n",
       "      <td>21.030858</td>\n",
       "      <td>28.240713</td>\n",
       "      <td>810.441508</td>\n",
       "      <td>-64.379654</td>\n",
       "      <td>71.434048</td>\n",
       "      <td>49.988726</td>\n",
       "      <td>21.014233</td>\n",
       "      <td>NaN</td>\n",
       "    </tr>\n",
       "    <tr>\n",
       "      <th>std</th>\n",
       "      <td>8629.510135</td>\n",
       "      <td>120.382762</td>\n",
       "      <td>19.162532</td>\n",
       "      <td>121.630947</td>\n",
       "      <td>1126.457388</td>\n",
       "      <td>10.010075</td>\n",
       "      <td>4.550603</td>\n",
       "      <td>6.149002</td>\n",
       "      <td>80.844029</td>\n",
       "      <td>NaN</td>\n",
       "    </tr>\n",
       "    <tr>\n",
       "      <th>min</th>\n",
       "      <td>111170.000000</td>\n",
       "      <td>0.330000</td>\n",
       "      <td>1.220000</td>\n",
       "      <td>1.310000</td>\n",
       "      <td>1.000000</td>\n",
       "      <td>-79.000000</td>\n",
       "      <td>63.000000</td>\n",
       "      <td>27.000000</td>\n",
       "      <td>1.220000</td>\n",
       "      <td>NaN</td>\n",
       "    </tr>\n",
       "    <tr>\n",
       "      <th>25%</th>\n",
       "      <td>118643.000000</td>\n",
       "      <td>5.040000</td>\n",
       "      <td>7.980000</td>\n",
       "      <td>10.430000</td>\n",
       "      <td>183.000000</td>\n",
       "      <td>-67.000000</td>\n",
       "      <td>68.000000</td>\n",
       "      <td>45.000000</td>\n",
       "      <td>7.980000</td>\n",
       "      <td>NaN</td>\n",
       "    </tr>\n",
       "    <tr>\n",
       "      <th>50%</th>\n",
       "      <td>126116.000000</td>\n",
       "      <td>9.510000</td>\n",
       "      <td>14.775000</td>\n",
       "      <td>18.540000</td>\n",
       "      <td>459.000000</td>\n",
       "      <td>-65.000000</td>\n",
       "      <td>70.000000</td>\n",
       "      <td>52.000000</td>\n",
       "      <td>14.790000</td>\n",
       "      <td>NaN</td>\n",
       "    </tr>\n",
       "    <tr>\n",
       "      <th>75%</th>\n",
       "      <td>133589.000000</td>\n",
       "      <td>17.280000</td>\n",
       "      <td>28.560000</td>\n",
       "      <td>32.890000</td>\n",
       "      <td>960.000000</td>\n",
       "      <td>-63.000000</td>\n",
       "      <td>75.000000</td>\n",
       "      <td>55.000000</td>\n",
       "      <td>28.400000</td>\n",
       "      <td>NaN</td>\n",
       "    </tr>\n",
       "    <tr>\n",
       "      <th>max</th>\n",
       "      <td>141062.000000</td>\n",
       "      <td>5003.890000</td>\n",
       "      <td>797.960000</td>\n",
       "      <td>5003.890000</td>\n",
       "      <td>6761.000000</td>\n",
       "      <td>31.000000</td>\n",
       "      <td>88.000000</td>\n",
       "      <td>61.000000</td>\n",
       "      <td>3335.440000</td>\n",
       "      <td>NaN</td>\n",
       "    </tr>\n",
       "  </tbody>\n",
       "</table>\n",
       "</div>"
      ],
      "text/plain": [
       "            entry_id  PM1.0_CF_ATM_ug/m3  PM2.5_CF_ATM_ug/m3  \\\n",
       "count   29893.000000        29893.000000        29874.000000   \n",
       "mean   126116.000000           15.656506           21.030858   \n",
       "std      8629.510135          120.382762           19.162532   \n",
       "min    111170.000000            0.330000            1.220000   \n",
       "25%    118643.000000            5.040000            7.980000   \n",
       "50%    126116.000000            9.510000           14.775000   \n",
       "75%    133589.000000           17.280000           28.560000   \n",
       "max    141062.000000         5003.890000          797.960000   \n",
       "\n",
       "       PM10.0_CF_ATM_ug/m3  UptimeMinutes      RSSI_dbm  Temperature_F  \\\n",
       "count         29893.000000   29893.000000  29893.000000   29893.000000   \n",
       "mean             28.240713     810.441508    -64.379654      71.434048   \n",
       "std             121.630947    1126.457388     10.010075       4.550603   \n",
       "min               1.310000       1.000000    -79.000000      63.000000   \n",
       "25%              10.430000     183.000000    -67.000000      68.000000   \n",
       "50%              18.540000     459.000000    -65.000000      70.000000   \n",
       "75%              32.890000     960.000000    -63.000000      75.000000   \n",
       "max            5003.890000    6761.000000     31.000000      88.000000   \n",
       "\n",
       "         Humidity_%  PM2.5_CF_1_ug/m3  Unnamed: 10  \n",
       "count  29893.000000      29893.000000          0.0  \n",
       "mean      49.988726         21.014233          NaN  \n",
       "std        6.149002         80.844029          NaN  \n",
       "min       27.000000          1.220000          NaN  \n",
       "25%       45.000000          7.980000          NaN  \n",
       "50%       52.000000         14.790000          NaN  \n",
       "75%       55.000000         28.400000          NaN  \n",
       "max       61.000000       3335.440000          NaN  "
      ]
     },
     "execution_count": 38,
     "metadata": {},
     "output_type": "execute_result"
    }
   ],
   "source": [
    "EB_data.describe()"
   ]
  }
 ],
 "metadata": {
  "kernelspec": {
   "display_name": "Python 3",
   "language": "python",
   "name": "python3"
  },
  "language_info": {
   "codemirror_mode": {
    "name": "ipython",
    "version": 3
   },
   "file_extension": ".py",
   "mimetype": "text/x-python",
   "name": "python",
   "nbconvert_exporter": "python",
   "pygments_lexer": "ipython3",
   "version": "3.6.5"
  }
 },
 "nbformat": 4,
 "nbformat_minor": 2
}
