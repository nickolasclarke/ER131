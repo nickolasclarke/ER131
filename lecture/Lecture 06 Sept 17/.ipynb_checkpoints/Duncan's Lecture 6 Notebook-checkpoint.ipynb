{
 "cells": [
  {
   "cell_type": "markdown",
   "metadata": {},
   "source": [
    "# ER190C Lecture 6 Notebook\n",
    "\n",
    "**Data Cleaning and Exploratory Data Analysis**\n",
    "\n",
    "Duncan Callaway\n",
    "\n",
    "September 11 2018\n",
    "\n",
    "Today we'll work with PurpleAir data to explore the concepts of Structure, Granularity, Scope, Temporality and Faithfulness.  Along the way we'll talk about data cleaning as well.  \n",
    "\n",
    "[Here's PurpleAir's website](https://www.purpleair.com/map#1/25/-30) -- They have really cool maps!\n",
    "\n",
    "The way I developed this lecture was by pulling the data down and exploring it.  You'll see my (edited) process of examining the data.\n",
    "\n",
    "This began by me visiting [this website](https://www.purpleair.com/sensorlist) to look for data.  I used the Chrome browser to pull data (other browsers didn't work).\n",
    "\n",
    "The folks are PurpleAir also sent me [this pdf](https://github.com/ds-modules/ER-190C/blob/master/lecture/Lecture%206%20Sept%2011/Using%20PurpleAir%20Data.pdf) describing their data.  "
   ]
  },
  {
   "cell_type": "code",
   "execution_count": 34,
   "metadata": {},
   "outputs": [],
   "source": [
    "import numpy as np\n",
    "import pandas as pd\n",
    "import os"
   ]
  },
  {
   "cell_type": "code",
   "execution_count": null,
   "metadata": {},
   "outputs": [],
   "source": []
  }
 ],
 "metadata": {
  "kernelspec": {
   "display_name": "Python 3",
   "language": "python",
   "name": "python3"
  },
  "language_info": {
   "codemirror_mode": {
    "name": "ipython",
    "version": 3
   },
   "file_extension": ".py",
   "mimetype": "text/x-python",
   "name": "python",
   "nbconvert_exporter": "python",
   "pygments_lexer": "ipython3",
   "version": "3.6.4"
  }
 },
 "nbformat": 4,
 "nbformat_minor": 2
}
