{
 "cells": [
  {
   "cell_type": "markdown",
   "metadata": {},
   "source": []
  },
  {
   "cell_type": "code",
   "execution_count": 1,
   "metadata": {},
   "outputs": [],
   "source": [
    "import pandas as pd\n",
    "import numpy as np\n",
    "import matplotlib.pyplot as plt\n",
    "import seaborn as sns\n",
    "import warnings \n",
    "warnings.filterwarnings('ignore')\n",
    "plt.style.use('fivethirtyeight') "
   ]
  },
  {
   "cell_type": "code",
   "execution_count": 2,
   "metadata": {},
   "outputs": [
    {
     "data": {
      "text/html": [
       "<div>\n",
       "<style scoped>\n",
       "    .dataframe tbody tr th:only-of-type {\n",
       "        vertical-align: middle;\n",
       "    }\n",
       "\n",
       "    .dataframe tbody tr th {\n",
       "        vertical-align: top;\n",
       "    }\n",
       "\n",
       "    .dataframe thead th {\n",
       "        text-align: right;\n",
       "    }\n",
       "</style>\n",
       "<table border=\"1\" class=\"dataframe\">\n",
       "  <thead>\n",
       "    <tr style=\"text-align: right;\">\n",
       "      <th></th>\n",
       "      <th>Country Name</th>\n",
       "      <th>Country Code_x</th>\n",
       "      <th>Indicator Name</th>\n",
       "      <th>Indicator Code</th>\n",
       "      <th>1960</th>\n",
       "      <th>1961</th>\n",
       "      <th>1962</th>\n",
       "      <th>1963</th>\n",
       "      <th>1964</th>\n",
       "      <th>1965</th>\n",
       "      <th>...</th>\n",
       "      <th>2012</th>\n",
       "      <th>2013</th>\n",
       "      <th>2014</th>\n",
       "      <th>2015</th>\n",
       "      <th>2016</th>\n",
       "      <th>2017</th>\n",
       "      <th>Unnamed: 62</th>\n",
       "      <th>Country Code_y</th>\n",
       "      <th>Region</th>\n",
       "      <th>Income Group</th>\n",
       "    </tr>\n",
       "  </thead>\n",
       "  <tbody>\n",
       "    <tr>\n",
       "      <th>0</th>\n",
       "      <td>Aruba</td>\n",
       "      <td>ABW</td>\n",
       "      <td>Access to electricity (% of population)</td>\n",
       "      <td>EG.ELC.ACCS.ZS</td>\n",
       "      <td>NaN</td>\n",
       "      <td>NaN</td>\n",
       "      <td>NaN</td>\n",
       "      <td>NaN</td>\n",
       "      <td>NaN</td>\n",
       "      <td>NaN</td>\n",
       "      <td>...</td>\n",
       "      <td>94.255814</td>\n",
       "      <td>94.578262</td>\n",
       "      <td>94.906723</td>\n",
       "      <td>95.238182</td>\n",
       "      <td>95.570145</td>\n",
       "      <td>NaN</td>\n",
       "      <td>NaN</td>\n",
       "      <td>ABW</td>\n",
       "      <td>Latin America &amp; Caribbean</td>\n",
       "      <td>High income</td>\n",
       "    </tr>\n",
       "    <tr>\n",
       "      <th>1</th>\n",
       "      <td>Afghanistan</td>\n",
       "      <td>AFG</td>\n",
       "      <td>Access to electricity (% of population)</td>\n",
       "      <td>EG.ELC.ACCS.ZS</td>\n",
       "      <td>NaN</td>\n",
       "      <td>NaN</td>\n",
       "      <td>NaN</td>\n",
       "      <td>NaN</td>\n",
       "      <td>NaN</td>\n",
       "      <td>NaN</td>\n",
       "      <td>...</td>\n",
       "      <td>69.100000</td>\n",
       "      <td>67.259552</td>\n",
       "      <td>89.500000</td>\n",
       "      <td>71.500000</td>\n",
       "      <td>84.137138</td>\n",
       "      <td>NaN</td>\n",
       "      <td>NaN</td>\n",
       "      <td>AFG</td>\n",
       "      <td>South Asia</td>\n",
       "      <td>Low income</td>\n",
       "    </tr>\n",
       "    <tr>\n",
       "      <th>2</th>\n",
       "      <td>Angola</td>\n",
       "      <td>AGO</td>\n",
       "      <td>Access to electricity (% of population)</td>\n",
       "      <td>EG.ELC.ACCS.ZS</td>\n",
       "      <td>NaN</td>\n",
       "      <td>NaN</td>\n",
       "      <td>NaN</td>\n",
       "      <td>NaN</td>\n",
       "      <td>NaN</td>\n",
       "      <td>NaN</td>\n",
       "      <td>...</td>\n",
       "      <td>35.821964</td>\n",
       "      <td>36.990490</td>\n",
       "      <td>32.000000</td>\n",
       "      <td>42.000000</td>\n",
       "      <td>40.520607</td>\n",
       "      <td>NaN</td>\n",
       "      <td>NaN</td>\n",
       "      <td>AGO</td>\n",
       "      <td>Sub-Saharan Africa</td>\n",
       "      <td>Lower middle income</td>\n",
       "    </tr>\n",
       "    <tr>\n",
       "      <th>3</th>\n",
       "      <td>Albania</td>\n",
       "      <td>ALB</td>\n",
       "      <td>Access to electricity (% of population)</td>\n",
       "      <td>EG.ELC.ACCS.ZS</td>\n",
       "      <td>NaN</td>\n",
       "      <td>NaN</td>\n",
       "      <td>NaN</td>\n",
       "      <td>NaN</td>\n",
       "      <td>NaN</td>\n",
       "      <td>NaN</td>\n",
       "      <td>...</td>\n",
       "      <td>100.000000</td>\n",
       "      <td>100.000000</td>\n",
       "      <td>100.000000</td>\n",
       "      <td>100.000000</td>\n",
       "      <td>100.000000</td>\n",
       "      <td>NaN</td>\n",
       "      <td>NaN</td>\n",
       "      <td>ALB</td>\n",
       "      <td>Europe &amp; Central Asia</td>\n",
       "      <td>Upper middle income</td>\n",
       "    </tr>\n",
       "    <tr>\n",
       "      <th>4</th>\n",
       "      <td>Andorra</td>\n",
       "      <td>AND</td>\n",
       "      <td>Access to electricity (% of population)</td>\n",
       "      <td>EG.ELC.ACCS.ZS</td>\n",
       "      <td>NaN</td>\n",
       "      <td>NaN</td>\n",
       "      <td>NaN</td>\n",
       "      <td>NaN</td>\n",
       "      <td>NaN</td>\n",
       "      <td>NaN</td>\n",
       "      <td>...</td>\n",
       "      <td>100.000000</td>\n",
       "      <td>100.000000</td>\n",
       "      <td>100.000000</td>\n",
       "      <td>100.000000</td>\n",
       "      <td>100.000000</td>\n",
       "      <td>NaN</td>\n",
       "      <td>NaN</td>\n",
       "      <td>AND</td>\n",
       "      <td>Europe &amp; Central Asia</td>\n",
       "      <td>High income</td>\n",
       "    </tr>\n",
       "  </tbody>\n",
       "</table>\n",
       "<p>5 rows × 66 columns</p>\n",
       "</div>"
      ],
      "text/plain": [
       "  Country Name Country Code_x                           Indicator Name  \\\n",
       "0        Aruba            ABW  Access to electricity (% of population)   \n",
       "1  Afghanistan            AFG  Access to electricity (% of population)   \n",
       "2       Angola            AGO  Access to electricity (% of population)   \n",
       "3      Albania            ALB  Access to electricity (% of population)   \n",
       "4      Andorra            AND  Access to electricity (% of population)   \n",
       "\n",
       "   Indicator Code  1960  1961  1962  1963  1964  1965         ...           \\\n",
       "0  EG.ELC.ACCS.ZS   NaN   NaN   NaN   NaN   NaN   NaN         ...            \n",
       "1  EG.ELC.ACCS.ZS   NaN   NaN   NaN   NaN   NaN   NaN         ...            \n",
       "2  EG.ELC.ACCS.ZS   NaN   NaN   NaN   NaN   NaN   NaN         ...            \n",
       "3  EG.ELC.ACCS.ZS   NaN   NaN   NaN   NaN   NaN   NaN         ...            \n",
       "4  EG.ELC.ACCS.ZS   NaN   NaN   NaN   NaN   NaN   NaN         ...            \n",
       "\n",
       "         2012        2013        2014        2015        2016  2017  \\\n",
       "0   94.255814   94.578262   94.906723   95.238182   95.570145   NaN   \n",
       "1   69.100000   67.259552   89.500000   71.500000   84.137138   NaN   \n",
       "2   35.821964   36.990490   32.000000   42.000000   40.520607   NaN   \n",
       "3  100.000000  100.000000  100.000000  100.000000  100.000000   NaN   \n",
       "4  100.000000  100.000000  100.000000  100.000000  100.000000   NaN   \n",
       "\n",
       "   Unnamed: 62  Country Code_y                     Region         Income Group  \n",
       "0          NaN             ABW  Latin America & Caribbean          High income  \n",
       "1          NaN             AFG                 South Asia           Low income  \n",
       "2          NaN             AGO         Sub-Saharan Africa  Lower middle income  \n",
       "3          NaN             ALB      Europe & Central Asia  Upper middle income  \n",
       "4          NaN             AND      Europe & Central Asia          High income  \n",
       "\n",
       "[5 rows x 66 columns]"
      ]
     },
     "execution_count": 2,
     "metadata": {},
     "output_type": "execute_result"
    }
   ],
   "source": [
    "# Read in Electricity Access data\n",
    "access = pd.read_csv(\"data/access.csv\")\n",
    "access.head()"
   ]
  },
  {
   "cell_type": "code",
   "execution_count": 3,
   "metadata": {},
   "outputs": [
    {
     "data": {
      "text/html": [
       "<div>\n",
       "<style scoped>\n",
       "    .dataframe tbody tr th:only-of-type {\n",
       "        vertical-align: middle;\n",
       "    }\n",
       "\n",
       "    .dataframe tbody tr th {\n",
       "        vertical-align: top;\n",
       "    }\n",
       "\n",
       "    .dataframe thead th {\n",
       "        text-align: right;\n",
       "    }\n",
       "</style>\n",
       "<table border=\"1\" class=\"dataframe\">\n",
       "  <thead>\n",
       "    <tr style=\"text-align: right;\">\n",
       "      <th></th>\n",
       "      <th>Country Name</th>\n",
       "      <th>Country Code_x</th>\n",
       "      <th>Indicator Name</th>\n",
       "      <th>Indicator Code</th>\n",
       "      <th>1990</th>\n",
       "      <th>1991</th>\n",
       "      <th>1992</th>\n",
       "      <th>1993</th>\n",
       "      <th>1994</th>\n",
       "      <th>1995</th>\n",
       "      <th>...</th>\n",
       "      <th>2007</th>\n",
       "      <th>2008</th>\n",
       "      <th>2009</th>\n",
       "      <th>2010</th>\n",
       "      <th>2011</th>\n",
       "      <th>2012</th>\n",
       "      <th>2013</th>\n",
       "      <th>2014</th>\n",
       "      <th>Region</th>\n",
       "      <th>Income Group</th>\n",
       "    </tr>\n",
       "  </thead>\n",
       "  <tbody>\n",
       "    <tr>\n",
       "      <th>0</th>\n",
       "      <td>Aruba</td>\n",
       "      <td>ABW</td>\n",
       "      <td>Electric power consumption (kWh per capita)</td>\n",
       "      <td>EG.USE.ELEC.KH.PC</td>\n",
       "      <td>NaN</td>\n",
       "      <td>NaN</td>\n",
       "      <td>NaN</td>\n",
       "      <td>NaN</td>\n",
       "      <td>NaN</td>\n",
       "      <td>NaN</td>\n",
       "      <td>...</td>\n",
       "      <td>NaN</td>\n",
       "      <td>NaN</td>\n",
       "      <td>NaN</td>\n",
       "      <td>NaN</td>\n",
       "      <td>NaN</td>\n",
       "      <td>NaN</td>\n",
       "      <td>NaN</td>\n",
       "      <td>NaN</td>\n",
       "      <td>Latin America &amp; Caribbean</td>\n",
       "      <td>High income</td>\n",
       "    </tr>\n",
       "    <tr>\n",
       "      <th>1</th>\n",
       "      <td>Afghanistan</td>\n",
       "      <td>AFG</td>\n",
       "      <td>Electric power consumption (kWh per capita)</td>\n",
       "      <td>EG.USE.ELEC.KH.PC</td>\n",
       "      <td>NaN</td>\n",
       "      <td>NaN</td>\n",
       "      <td>NaN</td>\n",
       "      <td>NaN</td>\n",
       "      <td>NaN</td>\n",
       "      <td>NaN</td>\n",
       "      <td>...</td>\n",
       "      <td>NaN</td>\n",
       "      <td>NaN</td>\n",
       "      <td>NaN</td>\n",
       "      <td>NaN</td>\n",
       "      <td>NaN</td>\n",
       "      <td>NaN</td>\n",
       "      <td>NaN</td>\n",
       "      <td>NaN</td>\n",
       "      <td>South Asia</td>\n",
       "      <td>Low income</td>\n",
       "    </tr>\n",
       "    <tr>\n",
       "      <th>2</th>\n",
       "      <td>Angola</td>\n",
       "      <td>AGO</td>\n",
       "      <td>Electric power consumption (kWh per capita)</td>\n",
       "      <td>EG.USE.ELEC.KH.PC</td>\n",
       "      <td>51.760511</td>\n",
       "      <td>53.132821</td>\n",
       "      <td>52.204040</td>\n",
       "      <td>50.732132</td>\n",
       "      <td>49.417320</td>\n",
       "      <td>48.146351</td>\n",
       "      <td>...</td>\n",
       "      <td>132.681281</td>\n",
       "      <td>171.879581</td>\n",
       "      <td>188.961667</td>\n",
       "      <td>206.340578</td>\n",
       "      <td>207.031259</td>\n",
       "      <td>219.356356</td>\n",
       "      <td>280.402518</td>\n",
       "      <td>312.476017</td>\n",
       "      <td>Sub-Saharan Africa</td>\n",
       "      <td>Lower middle income</td>\n",
       "    </tr>\n",
       "    <tr>\n",
       "      <th>3</th>\n",
       "      <td>Albania</td>\n",
       "      <td>ALB</td>\n",
       "      <td>Electric power consumption (kWh per capita)</td>\n",
       "      <td>EG.USE.ELEC.KH.PC</td>\n",
       "      <td>552.252185</td>\n",
       "      <td>418.453589</td>\n",
       "      <td>453.644074</td>\n",
       "      <td>536.363825</td>\n",
       "      <td>596.407959</td>\n",
       "      <td>663.783995</td>\n",
       "      <td>...</td>\n",
       "      <td>1213.124369</td>\n",
       "      <td>1617.744156</td>\n",
       "      <td>1835.684072</td>\n",
       "      <td>1943.343354</td>\n",
       "      <td>2205.703920</td>\n",
       "      <td>2118.327776</td>\n",
       "      <td>2533.252829</td>\n",
       "      <td>2309.366503</td>\n",
       "      <td>Europe &amp; Central Asia</td>\n",
       "      <td>Upper middle income</td>\n",
       "    </tr>\n",
       "    <tr>\n",
       "      <th>4</th>\n",
       "      <td>Andorra</td>\n",
       "      <td>AND</td>\n",
       "      <td>Electric power consumption (kWh per capita)</td>\n",
       "      <td>EG.USE.ELEC.KH.PC</td>\n",
       "      <td>NaN</td>\n",
       "      <td>NaN</td>\n",
       "      <td>NaN</td>\n",
       "      <td>NaN</td>\n",
       "      <td>NaN</td>\n",
       "      <td>NaN</td>\n",
       "      <td>...</td>\n",
       "      <td>NaN</td>\n",
       "      <td>NaN</td>\n",
       "      <td>NaN</td>\n",
       "      <td>NaN</td>\n",
       "      <td>NaN</td>\n",
       "      <td>NaN</td>\n",
       "      <td>NaN</td>\n",
       "      <td>NaN</td>\n",
       "      <td>Europe &amp; Central Asia</td>\n",
       "      <td>High income</td>\n",
       "    </tr>\n",
       "  </tbody>\n",
       "</table>\n",
       "<p>5 rows × 31 columns</p>\n",
       "</div>"
      ],
      "text/plain": [
       "  Country Name Country Code_x                               Indicator Name  \\\n",
       "0        Aruba            ABW  Electric power consumption (kWh per capita)   \n",
       "1  Afghanistan            AFG  Electric power consumption (kWh per capita)   \n",
       "2       Angola            AGO  Electric power consumption (kWh per capita)   \n",
       "3      Albania            ALB  Electric power consumption (kWh per capita)   \n",
       "4      Andorra            AND  Electric power consumption (kWh per capita)   \n",
       "\n",
       "      Indicator Code        1990        1991        1992        1993  \\\n",
       "0  EG.USE.ELEC.KH.PC         NaN         NaN         NaN         NaN   \n",
       "1  EG.USE.ELEC.KH.PC         NaN         NaN         NaN         NaN   \n",
       "2  EG.USE.ELEC.KH.PC   51.760511   53.132821   52.204040   50.732132   \n",
       "3  EG.USE.ELEC.KH.PC  552.252185  418.453589  453.644074  536.363825   \n",
       "4  EG.USE.ELEC.KH.PC         NaN         NaN         NaN         NaN   \n",
       "\n",
       "         1994        1995         ...                  2007         2008  \\\n",
       "0         NaN         NaN         ...                   NaN          NaN   \n",
       "1         NaN         NaN         ...                   NaN          NaN   \n",
       "2   49.417320   48.146351         ...            132.681281   171.879581   \n",
       "3  596.407959  663.783995         ...           1213.124369  1617.744156   \n",
       "4         NaN         NaN         ...                   NaN          NaN   \n",
       "\n",
       "          2009         2010         2011         2012         2013  \\\n",
       "0          NaN          NaN          NaN          NaN          NaN   \n",
       "1          NaN          NaN          NaN          NaN          NaN   \n",
       "2   188.961667   206.340578   207.031259   219.356356   280.402518   \n",
       "3  1835.684072  1943.343354  2205.703920  2118.327776  2533.252829   \n",
       "4          NaN          NaN          NaN          NaN          NaN   \n",
       "\n",
       "          2014                     Region         Income Group  \n",
       "0          NaN  Latin America & Caribbean          High income  \n",
       "1          NaN                 South Asia           Low income  \n",
       "2   312.476017         Sub-Saharan Africa  Lower middle income  \n",
       "3  2309.366503      Europe & Central Asia  Upper middle income  \n",
       "4          NaN      Europe & Central Asia          High income  \n",
       "\n",
       "[5 rows x 31 columns]"
      ]
     },
     "execution_count": 3,
     "metadata": {},
     "output_type": "execute_result"
    }
   ],
   "source": [
    "# Read in Electricity Consumption data\n",
    "consumption = pd.read_csv(\"data/consumption.csv\")\n",
    "consumption.head()"
   ]
  },
  {
   "cell_type": "markdown",
   "metadata": {},
   "source": [
    "**Question 2.1:** Read in the the .csv file named \"total.csv\" and save it to a Pandas DataFrame variable called \"total\". Print the head of the data frame."
   ]
  },
  {
   "cell_type": "code",
   "execution_count": 4,
   "metadata": {},
   "outputs": [
    {
     "ename": "FileNotFoundError",
     "evalue": "File b'data/...' does not exist",
     "output_type": "error",
     "traceback": [
      "\u001b[0;31m---------------------------------------------------------------------------\u001b[0m",
      "\u001b[0;31mFileNotFoundError\u001b[0m                         Traceback (most recent call last)",
      "\u001b[0;32m<ipython-input-4-5e618c592daa>\u001b[0m in \u001b[0;36m<module>\u001b[0;34m()\u001b[0m\n\u001b[1;32m      1\u001b[0m \u001b[0;31m# Replace the '...' with your code\u001b[0m\u001b[0;34m\u001b[0m\u001b[0;34m\u001b[0m\u001b[0m\n\u001b[0;32m----> 2\u001b[0;31m \u001b[0mtotal\u001b[0m \u001b[0;34m=\u001b[0m \u001b[0mpd\u001b[0m\u001b[0;34m.\u001b[0m\u001b[0mread_csv\u001b[0m\u001b[0;34m(\u001b[0m\u001b[0;34m\"data/...\"\u001b[0m\u001b[0;34m)\u001b[0m\u001b[0;34m\u001b[0m\u001b[0m\n\u001b[0m\u001b[1;32m      3\u001b[0m \u001b[0mtotal\u001b[0m\u001b[0;34m.\u001b[0m\u001b[0mhead\u001b[0m\u001b[0;34m(\u001b[0m\u001b[0;34m)\u001b[0m\u001b[0;34m\u001b[0m\u001b[0m\n",
      "\u001b[0;32m/anaconda3/lib/python3.6/site-packages/pandas/io/parsers.py\u001b[0m in \u001b[0;36mparser_f\u001b[0;34m(filepath_or_buffer, sep, delimiter, header, names, index_col, usecols, squeeze, prefix, mangle_dupe_cols, dtype, engine, converters, true_values, false_values, skipinitialspace, skiprows, nrows, na_values, keep_default_na, na_filter, verbose, skip_blank_lines, parse_dates, infer_datetime_format, keep_date_col, date_parser, dayfirst, iterator, chunksize, compression, thousands, decimal, lineterminator, quotechar, quoting, escapechar, comment, encoding, dialect, tupleize_cols, error_bad_lines, warn_bad_lines, skipfooter, doublequote, delim_whitespace, low_memory, memory_map, float_precision)\u001b[0m\n\u001b[1;32m    676\u001b[0m                     skip_blank_lines=skip_blank_lines)\n\u001b[1;32m    677\u001b[0m \u001b[0;34m\u001b[0m\u001b[0m\n\u001b[0;32m--> 678\u001b[0;31m         \u001b[0;32mreturn\u001b[0m \u001b[0m_read\u001b[0m\u001b[0;34m(\u001b[0m\u001b[0mfilepath_or_buffer\u001b[0m\u001b[0;34m,\u001b[0m \u001b[0mkwds\u001b[0m\u001b[0;34m)\u001b[0m\u001b[0;34m\u001b[0m\u001b[0m\n\u001b[0m\u001b[1;32m    679\u001b[0m \u001b[0;34m\u001b[0m\u001b[0m\n\u001b[1;32m    680\u001b[0m     \u001b[0mparser_f\u001b[0m\u001b[0;34m.\u001b[0m\u001b[0m__name__\u001b[0m \u001b[0;34m=\u001b[0m \u001b[0mname\u001b[0m\u001b[0;34m\u001b[0m\u001b[0m\n",
      "\u001b[0;32m/anaconda3/lib/python3.6/site-packages/pandas/io/parsers.py\u001b[0m in \u001b[0;36m_read\u001b[0;34m(filepath_or_buffer, kwds)\u001b[0m\n\u001b[1;32m    438\u001b[0m \u001b[0;34m\u001b[0m\u001b[0m\n\u001b[1;32m    439\u001b[0m     \u001b[0;31m# Create the parser.\u001b[0m\u001b[0;34m\u001b[0m\u001b[0;34m\u001b[0m\u001b[0m\n\u001b[0;32m--> 440\u001b[0;31m     \u001b[0mparser\u001b[0m \u001b[0;34m=\u001b[0m \u001b[0mTextFileReader\u001b[0m\u001b[0;34m(\u001b[0m\u001b[0mfilepath_or_buffer\u001b[0m\u001b[0;34m,\u001b[0m \u001b[0;34m**\u001b[0m\u001b[0mkwds\u001b[0m\u001b[0;34m)\u001b[0m\u001b[0;34m\u001b[0m\u001b[0m\n\u001b[0m\u001b[1;32m    441\u001b[0m \u001b[0;34m\u001b[0m\u001b[0m\n\u001b[1;32m    442\u001b[0m     \u001b[0;32mif\u001b[0m \u001b[0mchunksize\u001b[0m \u001b[0;32mor\u001b[0m \u001b[0miterator\u001b[0m\u001b[0;34m:\u001b[0m\u001b[0;34m\u001b[0m\u001b[0m\n",
      "\u001b[0;32m/anaconda3/lib/python3.6/site-packages/pandas/io/parsers.py\u001b[0m in \u001b[0;36m__init__\u001b[0;34m(self, f, engine, **kwds)\u001b[0m\n\u001b[1;32m    785\u001b[0m             \u001b[0mself\u001b[0m\u001b[0;34m.\u001b[0m\u001b[0moptions\u001b[0m\u001b[0;34m[\u001b[0m\u001b[0;34m'has_index_names'\u001b[0m\u001b[0;34m]\u001b[0m \u001b[0;34m=\u001b[0m \u001b[0mkwds\u001b[0m\u001b[0;34m[\u001b[0m\u001b[0;34m'has_index_names'\u001b[0m\u001b[0;34m]\u001b[0m\u001b[0;34m\u001b[0m\u001b[0m\n\u001b[1;32m    786\u001b[0m \u001b[0;34m\u001b[0m\u001b[0m\n\u001b[0;32m--> 787\u001b[0;31m         \u001b[0mself\u001b[0m\u001b[0;34m.\u001b[0m\u001b[0m_make_engine\u001b[0m\u001b[0;34m(\u001b[0m\u001b[0mself\u001b[0m\u001b[0;34m.\u001b[0m\u001b[0mengine\u001b[0m\u001b[0;34m)\u001b[0m\u001b[0;34m\u001b[0m\u001b[0m\n\u001b[0m\u001b[1;32m    788\u001b[0m \u001b[0;34m\u001b[0m\u001b[0m\n\u001b[1;32m    789\u001b[0m     \u001b[0;32mdef\u001b[0m \u001b[0mclose\u001b[0m\u001b[0;34m(\u001b[0m\u001b[0mself\u001b[0m\u001b[0;34m)\u001b[0m\u001b[0;34m:\u001b[0m\u001b[0;34m\u001b[0m\u001b[0m\n",
      "\u001b[0;32m/anaconda3/lib/python3.6/site-packages/pandas/io/parsers.py\u001b[0m in \u001b[0;36m_make_engine\u001b[0;34m(self, engine)\u001b[0m\n\u001b[1;32m   1012\u001b[0m     \u001b[0;32mdef\u001b[0m \u001b[0m_make_engine\u001b[0m\u001b[0;34m(\u001b[0m\u001b[0mself\u001b[0m\u001b[0;34m,\u001b[0m \u001b[0mengine\u001b[0m\u001b[0;34m=\u001b[0m\u001b[0;34m'c'\u001b[0m\u001b[0;34m)\u001b[0m\u001b[0;34m:\u001b[0m\u001b[0;34m\u001b[0m\u001b[0m\n\u001b[1;32m   1013\u001b[0m         \u001b[0;32mif\u001b[0m \u001b[0mengine\u001b[0m \u001b[0;34m==\u001b[0m \u001b[0;34m'c'\u001b[0m\u001b[0;34m:\u001b[0m\u001b[0;34m\u001b[0m\u001b[0m\n\u001b[0;32m-> 1014\u001b[0;31m             \u001b[0mself\u001b[0m\u001b[0;34m.\u001b[0m\u001b[0m_engine\u001b[0m \u001b[0;34m=\u001b[0m \u001b[0mCParserWrapper\u001b[0m\u001b[0;34m(\u001b[0m\u001b[0mself\u001b[0m\u001b[0;34m.\u001b[0m\u001b[0mf\u001b[0m\u001b[0;34m,\u001b[0m \u001b[0;34m**\u001b[0m\u001b[0mself\u001b[0m\u001b[0;34m.\u001b[0m\u001b[0moptions\u001b[0m\u001b[0;34m)\u001b[0m\u001b[0;34m\u001b[0m\u001b[0m\n\u001b[0m\u001b[1;32m   1015\u001b[0m         \u001b[0;32melse\u001b[0m\u001b[0;34m:\u001b[0m\u001b[0;34m\u001b[0m\u001b[0m\n\u001b[1;32m   1016\u001b[0m             \u001b[0;32mif\u001b[0m \u001b[0mengine\u001b[0m \u001b[0;34m==\u001b[0m \u001b[0;34m'python'\u001b[0m\u001b[0;34m:\u001b[0m\u001b[0;34m\u001b[0m\u001b[0m\n",
      "\u001b[0;32m/anaconda3/lib/python3.6/site-packages/pandas/io/parsers.py\u001b[0m in \u001b[0;36m__init__\u001b[0;34m(self, src, **kwds)\u001b[0m\n\u001b[1;32m   1706\u001b[0m         \u001b[0mkwds\u001b[0m\u001b[0;34m[\u001b[0m\u001b[0;34m'usecols'\u001b[0m\u001b[0;34m]\u001b[0m \u001b[0;34m=\u001b[0m \u001b[0mself\u001b[0m\u001b[0;34m.\u001b[0m\u001b[0musecols\u001b[0m\u001b[0;34m\u001b[0m\u001b[0m\n\u001b[1;32m   1707\u001b[0m \u001b[0;34m\u001b[0m\u001b[0m\n\u001b[0;32m-> 1708\u001b[0;31m         \u001b[0mself\u001b[0m\u001b[0;34m.\u001b[0m\u001b[0m_reader\u001b[0m \u001b[0;34m=\u001b[0m \u001b[0mparsers\u001b[0m\u001b[0;34m.\u001b[0m\u001b[0mTextReader\u001b[0m\u001b[0;34m(\u001b[0m\u001b[0msrc\u001b[0m\u001b[0;34m,\u001b[0m \u001b[0;34m**\u001b[0m\u001b[0mkwds\u001b[0m\u001b[0;34m)\u001b[0m\u001b[0;34m\u001b[0m\u001b[0m\n\u001b[0m\u001b[1;32m   1709\u001b[0m \u001b[0;34m\u001b[0m\u001b[0m\n\u001b[1;32m   1710\u001b[0m         \u001b[0mpassed_names\u001b[0m \u001b[0;34m=\u001b[0m \u001b[0mself\u001b[0m\u001b[0;34m.\u001b[0m\u001b[0mnames\u001b[0m \u001b[0;32mis\u001b[0m \u001b[0;32mNone\u001b[0m\u001b[0;34m\u001b[0m\u001b[0m\n",
      "\u001b[0;32mpandas/_libs/parsers.pyx\u001b[0m in \u001b[0;36mpandas._libs.parsers.TextReader.__cinit__\u001b[0;34m()\u001b[0m\n",
      "\u001b[0;32mpandas/_libs/parsers.pyx\u001b[0m in \u001b[0;36mpandas._libs.parsers.TextReader._setup_parser_source\u001b[0;34m()\u001b[0m\n",
      "\u001b[0;31mFileNotFoundError\u001b[0m: File b'data/...' does not exist"
     ]
    }
   ],
   "source": [
    "# Replace the '...' with your code\n",
    "total = pd.read_csv(\"data/...\")\n",
    "total.head()"
   ]
  },
  {
   "cell_type": "markdown",
   "metadata": {},
   "source": [
    "<br>\n",
    "\n",
    "----\n",
    "\n",
    "## Section 3: Visual EDA - Histograms, KDEs, Box Plots, Violin Plots <a id='section 2'></a>\n",
    "\n",
    "There are four different types of plots that are commonly used to visualize the distribution of data: histograms, kernel density estimator plots, box-and-whisker plots, and violin plots. We're going to plot all four types and discuss the differences between them. <br>\n",
    "\n",
    "For this homework assignment, we're going to look specifically at the electricity access rates in the year 2000. Before we start graphing, let's remove the rows with NaN values in the dataframe.\n",
    "\n",
    "### Histograms"
   ]
  },
  {
   "cell_type": "code",
   "execution_count": null,
   "metadata": {},
   "outputs": [],
   "source": [
    "# Plotting a histogram of electricity access in 2000\n",
    "plt.hist(access[\"2000\"].dropna())\n",
    "plt.title(\"Electricity Access in 2000\")\n",
    "plt.ylabel(\"Frequency\")\n",
    "plt.xlabel(\"% of Country Population\")\n",
    "plt.show()"
   ]
  },
  {
   "cell_type": "markdown",
   "metadata": {},
   "source": [
    "**Question 3.1:** It may be more informative if we graphed the 2000 data per region. Let's create 6 subplots for the 6 regions. (Omitting Latin America & Carribbean due to lack of data). Since all the subplots are graphed in the same way, use a for loop. Do not copy and paste your code six times.<br><br>\n",
    "The regions are: \"East Asia & Pacific\", \"Europe & Central Asia\", \"Middle East & North Africa\", \"North America\", \"South Asia\", \"Sub-Saharan Africa\". <br><br>We have provided these in the form of a list with the variable name of 'regions'. Think about how you can use this 'regions' list in your code within the for loop. Make sure to add titles and labels for both axes."
   ]
  },
  {
   "cell_type": "code",
   "execution_count": null,
   "metadata": {},
   "outputs": [],
   "source": [
    "# Replace the '...' with your code\n",
    "plt.figure(figsize=(15, 10))\n",
    "regions = np.unique(access['Region'].values)\n",
    "for i in range(6):\n",
    "    plt.subplot(4, 2, i+1)\n",
    "\n",
    "    plt.hist(...)\n",
    "    ...\n",
    "\n",
    "plt.show()"
   ]
  },
  {
   "cell_type": "markdown",
   "metadata": {},
   "source": [
    "**Question 3.2a:** What can you observe from the histograms?"
   ]
  },
  {
   "cell_type": "markdown",
   "metadata": {},
   "source": [
    "Answer: ..."
   ]
  },
  {
   "cell_type": "markdown",
   "metadata": {},
   "source": [
    "** Question 3.2b:** Are there any interesting patterns seen in each region?"
   ]
  },
  {
   "cell_type": "markdown",
   "metadata": {},
   "source": [
    "Answer: ..."
   ]
  },
  {
   "cell_type": "markdown",
   "metadata": {},
   "source": [
    "**Question 3.2c:** What is a possible explanation for the difference in distribution seen in the 6 regions?"
   ]
  },
  {
   "cell_type": "markdown",
   "metadata": {},
   "source": [
    "Answer: ..."
   ]
  },
  {
   "cell_type": "markdown",
   "metadata": {},
   "source": [
    "### Seaborn and KDEs\n",
    "**Seaborn** is a Python data visualization library that is built on top of matplotlib. It offers a higher level of abstraction, and arguably more attractive-looking graphics. Below is a histogram plotted using seaborn. Because of its higher level of abstraction, seaborn can plot elements on a graph that would usually require extra calculation using our usual libraries (e.g., a linear regression line; or the kernel density estimation curve overlayed on the top of this histogram). A great option for plotting a univariate distribution of observations is seaborn [distplot](https://seaborn.pydata.org/generated/seaborn.distplot.html), which combines matplotlib histogram with seaborn kde and rugplot. \n",
    "\n",
    "Note that the KDE plot normalizes the data so that it is between 0 and 1. It also represents the distribution of a set of data, with [kernel smoothing](https://en.wikipedia.org/wiki/Kernel_smoother)."
   ]
  },
  {
   "cell_type": "code",
   "execution_count": null,
   "metadata": {},
   "outputs": [],
   "source": [
    "# Run this example seaborn plot\n",
    "sns.distplot(access[\"2000\"].dropna())\n",
    "plt.title(\"Electricity Access Rates in 2000\")\n",
    "plt.xlabel(\"% of Country Population\")\n",
    "plt.ylabel(\"Density\")\n",
    "plt.show()"
   ]
  },
  {
   "cell_type": "markdown",
   "metadata": {},
   "source": [
    "**Question 3.3:** Use sns.distplot() to plot only the KDEs of the global access rates in 1990, 2000, and 2014 on top of each other (no need to separate by region). \n",
    "\n",
    "Make sure to include a legend. Consult the [documentation](https://seaborn.pydata.org/generated/seaborn.distplot.html) and include a title. Make sure to label the two axes.<br>\n",
    "\n",
    "Hint: You will need to use sns.distplot(label=\"...\") for your legend to show up properly. Also, by default, some of the curves may be cut off. Use plt.ylim() to adjust the limits on the y-scale so that this doesn't happen."
   ]
  },
  {
   "cell_type": "code",
   "execution_count": null,
   "metadata": {},
   "outputs": [],
   "source": [
    "# Replace the '...' with your code\n",
    "plt.figure(figsize=(10, 7))\n",
    "sns.distplot(...)\n",
    "sns.distplot(...)\n",
    "sns.distplot(...)\n",
    "...\n",
    "plt.legend()\n",
    "plt.show()"
   ]
  },
  {
   "cell_type": "markdown",
   "metadata": {},
   "source": [
    "**Question 3.4**: What do you observe about the distributions for the different years? Does this visualization make sense? Why or why not?"
   ]
  },
  {
   "cell_type": "markdown",
   "metadata": {},
   "source": [
    "Answer: ..."
   ]
  },
  {
   "cell_type": "markdown",
   "metadata": {},
   "source": [
    "**Question 3.5:** Why would it be advantageous to only plot the KDE instead of the histogram?"
   ]
  },
  {
   "cell_type": "markdown",
   "metadata": {},
   "source": [
    "Answer: ..."
   ]
  },
  {
   "cell_type": "markdown",
   "metadata": {},
   "source": [
    "### Box Plots and Violin Plots\n",
    "\n",
    "**Question 3.6:** Back to matplotlib! Using the [documentation](https://matplotlib.org/api/_as_gen/matplotlib.pyplot.boxplot.html) for plt.boxplot(), plot the electricity consumption rates for each region in 2000, side by side. <br><br>\n",
    "Note: We are now using the \"consumption\" dataframe. We have provided skeleton code to faciliate the plotting of side-by-side boxplots. Your mission is to append arrays of data from the year 2000 for each of the 6 regions onto the list \"data_to_plot\". Make sure to remove any rows containing NaN values and label titles and axes.<br>\n",
    "\n",
    "Hint: Remember how we plotted the electricity access histogram subplots for the different regions."
   ]
  },
  {
   "cell_type": "code",
   "execution_count": null,
   "metadata": {},
   "outputs": [],
   "source": [
    "# Replace the '...' with your code\n",
    "consumption = consumption.dropna() # Drop rows with NaN values\n",
    "regions = [\"East Asia & Pacific\", \"Europe & Central Asia\", \"Middle East & North Africa\", \"North America\", \"South Asia\", \"Sub-Saharan Africa\"]\n",
    "data_to_plot = list()\n",
    "for i in range(6):\n",
    "    data_to_plot.append(np.array(...)) # Obtain region data as array, append to list\n",
    "# Plotting code, study to use for violin plots later\n",
    "fig = plt.figure(1, figsize=(9, 6))\n",
    "ax = fig.add_subplot(111)\n",
    "ax.boxplot(data_to_plot)\n",
    "ax.set_xticklabels([\"EA&P\", \"Eu&CA\", \"ME&NAf\", \"NAm\", \"SA\", \"SSA\"])\n",
    "...\n",
    "plt.show()"
   ]
  },
  {
   "cell_type": "markdown",
   "metadata": {
    "collapsed": true
   },
   "source": [
    "<br>\n",
    "**Question 3.7:** Now, using the [documentation](https://matplotlib.org/api/_as_gen/matplotlib.pyplot.violinplot.html) for plt.violinplot(), plot the total energy consumption rates for each region, side by side. <br>\n",
    "\n",
    "Note: Use the \"total\" dataframe. Make sure to remove any rows containing NaN values and label titles and axes. Reference the skeleton code used to plot the boxplots above."
   ]
  },
  {
   "cell_type": "code",
   "execution_count": null,
   "metadata": {},
   "outputs": [],
   "source": [
    "# Your code here\n",
    "..."
   ]
  },
  {
   "cell_type": "markdown",
   "metadata": {},
   "source": [
    "**Question 3.8**: The above two plots allow you to compare the distributions of electricity consumption and energy consumption rates. What are the similarities and/or differences between the two distributions? What factors can you think of that could possibly account for this similarity/difference?"
   ]
  },
  {
   "cell_type": "markdown",
   "metadata": {},
   "source": [
    "Answer: ..."
   ]
  },
  {
   "cell_type": "markdown",
   "metadata": {},
   "source": [
    "**Question 3.9**: Compare and contrast the four different types of plots above, discussing the pros and cons of each of them. What can see in one type of plot that you can't see in the others? In what situations would use you use one type of plot over another?"
   ]
  },
  {
   "cell_type": "markdown",
   "metadata": {
    "collapsed": true
   },
   "source": [
    "Answer: ..."
   ]
  },
  {
   "cell_type": "markdown",
   "metadata": {},
   "source": [
    "<br>\n",
    "\n",
    "---\n",
    "\n",
    "## Section 4: Scatter Plots<a id='section 3'></a>\n",
    "\n",
    "In this section, we will compare how electricity access and consumption rates grew over time (from 1990 to 2014) using scatter plots.\n",
    "\n",
    "**Question 4.1:** Create a scatter plot of for Angola, with the electricity access rate on the x-axis and the electricity consumption rate on the y-axis. Make sure to label the title and axes. You can find the documentation for plt.scatter() [here](https://matplotlib.org/api/_as_gen/matplotlib.pyplot.scatter.html). \n",
    "\n",
    "Hint: use .columns.get_iloc(-column name-) to get the index range for years 1990-2014."
   ]
  },
  {
   "cell_type": "code",
   "execution_count": null,
   "metadata": {},
   "outputs": [],
   "source": [
    "# Replace the '...' with your code\n",
    "plt.scatter(np.array(access.iloc[...]), np.array(consumption.iloc[...]))\n",
    "...\n",
    "plt.show()"
   ]
  },
  {
   "cell_type": "markdown",
   "metadata": {},
   "source": [
    "<br>**Question 4.2:** Now, plot the average electricity consumption (y-axis) vs. the average electricity access (x-axis) from 1990 to 2014 *for each region*. We recommend making two temporary dataframes, 'region_access' and 'region_consumption', to isolate the data for each region being worked on. Make sure to label titles, axes, and include a legend."
   ]
  },
  {
   "cell_type": "code",
   "execution_count": null,
   "metadata": {},
   "outputs": [],
   "source": [
    "# Replace the '...' with your code\n",
    "regions = [\"East Asia & Pacific\", \"Europe & Central Asia\", \"Middle East & North Africa\", \"North America\", \"South Asia\", \"Sub-Saharan Africa\"]\n",
    "plt.figure(figsize=(10, 7))\n",
    "for i in range(6):\n",
    "    region_access = ...\n",
    "    region_consumption = ...\n",
    "    plt.scatter(np.array(region_access.iloc[...].mean()), np.array(region_consumption.iloc[...].mean()), label=regions[i])\n",
    "...\n",
    "plt.show()"
   ]
  },
  {
   "cell_type": "markdown",
   "metadata": {},
   "source": [
    "<br>\n",
    "**Question 4.3:** What is the relationship between electricity access and consumption? Is it reasonable to assume that there is causality between access and consumption? What other factors can be influencing consumption?"
   ]
  },
  {
   "cell_type": "markdown",
   "metadata": {},
   "source": [
    "Answer: ..."
   ]
  },
  {
   "cell_type": "markdown",
   "metadata": {},
   "source": [
    "----\n",
    "\n",
    "## Submission\n",
    "\n",
    "Congrats, you're done with homework 4!\n",
    "\n",
    "In order to turn in this assignment, go to the toolbar and click **File** -> **Download as** -> **.html** and submit the file through bCourses.\n",
    "\n",
    "----\n",
    "\n",
    "## Bibilography\n",
    "+ World Bank - Data. https://data.worldbank.org\n",
    "+ Seaborn - Distplot. https://seaborn.pydata.org/generated/seaborn.distplot.html\n",
    "+ Matplotlib. https://matplotlib.org\n",
    "+ Knowledge Stockpile - Creating boxplots with Matplotlib. http://blog.bharatbhole.com/creating-boxplots-with-matplotlib/\n",
    "\n",
    "<hr/>\n",
    "Notebook developed by: Rebekah Tang\n",
    "\n",
    "Data Science Modules: http://data.berkeley.edu/education/modules"
   ]
  }
 ],
 "metadata": {
  "kernelspec": {
   "display_name": "Python 3",
   "language": "python",
   "name": "python3"
  },
  "language_info": {
   "codemirror_mode": {
    "name": "ipython",
    "version": 3
   },
   "file_extension": ".py",
   "mimetype": "text/x-python",
   "name": "python",
   "nbconvert_exporter": "python",
   "pygments_lexer": "ipython3",
   "version": "3.6.4"
  }
 },
 "nbformat": 4,
 "nbformat_minor": 2
}
