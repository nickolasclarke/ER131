{
 "cells": [
  {
   "cell_type": "markdown",
   "metadata": {},
   "source": [
    "ER190C: Data, Envinronment and Society.\n",
    "\n",
    "Lecture 2: September 3, 2019\n",
    "\n",
    "In this notebook, we'll do a brief tour of the data set we'll be working with from the California Independent System Operator."
   ]
  },
  {
   "cell_type": "code",
   "execution_count": null,
   "metadata": {},
   "outputs": [],
   "source": [
    "import requests # this is a really useful library for pulling data from the web\n",
    "import csv # this helps us work with csv files\n",
    "import numpy as np # numpy is something like a matlab replacement for python.  Numeric and scientific computing.\n",
    "import pandas as pd # we'll learn more about this soon"
   ]
  },
  {
   "cell_type": "markdown",
   "metadata": {},
   "source": [
    "California ISO is the system operator for the California grid.  They tell generators when and how much to produce.  \n",
    "\n",
    "They record renewable production data [here](http://content.caiso.com/green/renewrpt/)\n",
    "\n",
    "That page links to files giving production for the *day* in question.  \n",
    "\n",
    "Let's look at Aug 21, 2017, the day you'll explore in the HW"
   ]
  },
  {
   "cell_type": "code",
   "execution_count": null,
   "metadata": {},
   "outputs": [],
   "source": [
    "# figure out what the url should be and enter it here:\n",
    "url = 'http://content.caiso.com/green/renewrpt/20170821_DailyRenewablesWatch.txt' # do this in lecture"
   ]
  },
  {
   "cell_type": "markdown",
   "metadata": {},
   "source": [
    "Let's \"tab into\" `requests` to see how we can get data from the url.\n",
    "\n",
    "Some cool 'help' features of Jupyter\n",
    "1. pushing tab at the right time shows you what methods are available to apply to an object.\n",
    "2. pushing shift-tab repeatedly gives you help files \n",
    "3. typing a question mark before a command pulls up the full help file.  "
   ]
  },
  {
   "cell_type": "code",
   "execution_count": null,
   "metadata": {},
   "outputs": [],
   "source": [
    "caiso_data = requests.get(url) # do this in lecture"
   ]
  },
  {
   "cell_type": "code",
   "execution_count": null,
   "metadata": {},
   "outputs": [],
   "source": [
    "?requests.get # do this in lecture"
   ]
  },
  {
   "cell_type": "code",
   "execution_count": null,
   "metadata": {},
   "outputs": [],
   "source": [
    "# let's see what we got\n",
    "caiso_data"
   ]
  },
  {
   "cell_type": "markdown",
   "metadata": {},
   "source": [
    "'Response' is the object returned by requests.  In this case we've opened a connection to the url but we haven't actually grabbed the text.  \n",
    "\n",
    "Let's look at the requests documentation to figure out what to do.  (Search for python requests in your favorite search engine and see what you find.)"
   ]
  },
  {
   "cell_type": "markdown",
   "metadata": {},
   "source": [
    "Looks like we can tack .text on the end of the object to actually pull the data."
   ]
  },
  {
   "cell_type": "code",
   "execution_count": null,
   "metadata": {},
   "outputs": [],
   "source": [
    "caiso_data.text # do this in lecture"
   ]
  },
  {
   "cell_type": "markdown",
   "metadata": {},
   "source": [
    "Ack!  That's pretty ugly!  What are we looking at?\n",
    "\n",
    "<br>\n",
    "<br>\n",
    "<br>\n",
    "\n",
    "(a tab delimited file)\n",
    "\n",
    "I wrote a function that will pull a date range and massage it into the form we want:"
   ]
  },
  {
   "cell_type": "code",
   "execution_count": null,
   "metadata": {},
   "outputs": [],
   "source": [
    "import datetime # helps us to work with dates and times in different formats\n",
    "import os # helps us talk to the operating system command line\n",
    "def CAISOrenewables(year, month, start_day, end_day, production = False, matrix = False):\n",
    "    \"\"\"Scrape CAISO's daily renewable watch .txt files and \n",
    "    convert to a DataFrame or Numpy record array. Will only scrape\n",
    "    a range of days in a given month.\n",
    "    \n",
    "    Keyword arguments:\n",
    "    Year -- year of the date to scrape\n",
    "    Month -- Month of date to scrape\n",
    "    start_day -- starting day of month to scrape\n",
    "    end_day -- ending day to scrape\n",
    "    production -- If False, will collect hourly breakdown of renewable resources.\n",
    "                  If True, will scrape hourly breakdown of total production by resource type.\n",
    "    matrix -- If False, function will return a Pandas DataFrame\n",
    "              If True, will return numpy recarray\n",
    "    \"\"\"\n",
    "    base_url = 'http://content.caiso.com/green/renewrpt/'\n",
    "    tail = '_DailyRenewablesWatch.txt'\n",
    "    \n",
    "    rv = pd.DataFrame()\n",
    "    \n",
    "    for day in range(start_day, end_day + 1):\n",
    "        #format date and URL to pull\n",
    "        if month < 10:\n",
    "            str_month = '0' + str(month)\n",
    "        else:\n",
    "            str_month = str(month)\n",
    "        if day < 10:\n",
    "            str_day = '0'+ str(day)\n",
    "        else:\n",
    "            str_day = str(day)\n",
    "            \n",
    "        str_m_day = str_month + str_day\n",
    "        url = base_url + str(year) + str_m_day + tail\n",
    "\n",
    "        #Write scraped file to drive\n",
    "        caiso_data = requests.get(url).text\n",
    "        txt_filename = str(year) +str_m_day + '.txt'\n",
    "        csv_filename = str(year) + str_m_day + '.csv'\n",
    "    \n",
    "        with open(txt_filename, 'w') as f:\n",
    "            f.write(str(caiso_data))\n",
    "    \n",
    "        #Convert the .txt file to a csv.\n",
    "        with open(txt_filename) as txtfile, open(csv_filename,'w') as new_csv:\n",
    "            for line in txtfile: \n",
    "                new_csv.write(line.replace('\\t',','))\n",
    "\n",
    "        #Get day of year for dataframe index\n",
    "        date = datetime.date(year, month, day)\n",
    "    \n",
    "        #Load data to dataframe.\n",
    "        data = pd.read_csv(csv_filename, delimiter='\\t')\n",
    "        \n",
    "        if not production:\n",
    "            data = data.iloc[range(0, 25)]\n",
    "        else:\n",
    "            data = data.iloc[range(28, 53)].reset_index(drop=True)\n",
    "    \n",
    "        #Get column names\n",
    "        columns = [i for i in np.array2string(data.iloc[0].values).split(',') if len(i)>3]\n",
    "    \n",
    "        #Grab first row of data to put in a dictionary then append the rest.\n",
    "        first_row = [[int(i)] for i in np.array2string(data.iloc[1].values).split(',') if i.isdigit()]\n",
    "        df_data = dict(zip(columns, first_row))\n",
    "    \n",
    "        #Do the same for the rest of the rows\n",
    "        for row in range(2, data.shape[0]):\n",
    "            vals = [int(i) for i in np.array2string(data.iloc[row].values).split(',') if i.isdigit()]\n",
    "            for item in range(len(columns)):\n",
    "                df_data[columns[item]].append(vals[item])\n",
    "    \n",
    "        #create DataFrame with collected data\n",
    "        d_df = pd.DataFrame(df_data, [date]*24)[columns]\n",
    "        rv = rv.append(d_df)\n",
    "        \n",
    "        os.remove(txt_filename)\n",
    "        os.remove(csv_filename)\n",
    "        \n",
    "    if matrix:\n",
    "        return rv.to_records(index=True)\n",
    "    \n",
    "    return rv"
   ]
  },
  {
   "cell_type": "markdown",
   "metadata": {},
   "source": [
    "Ok, now we can pull whatever data we want for renewables production from the CAISO website.  \n",
    "\n",
    "Here we'll pull CAISO renewables data for August 20 through 22, 2017."
   ]
  },
  {
   "cell_type": "code",
   "execution_count": null,
   "metadata": {
    "scrolled": false
   },
   "outputs": [],
   "source": [
    "caiso_data = CAISOrenewables(2017, 8, 20, 22) # do this in lecture"
   ]
  },
  {
   "cell_type": "code",
   "execution_count": null,
   "metadata": {},
   "outputs": [],
   "source": [
    "caiso_data # this shows the data frame"
   ]
  },
  {
   "cell_type": "markdown",
   "metadata": {},
   "source": [
    "Now let's use the `.loc` method in pandas to look at an individual data column (more on pandas next time)"
   ]
  },
  {
   "cell_type": "code",
   "execution_count": null,
   "metadata": {},
   "outputs": [],
   "source": [
    "caiso_data.loc[:,'SOLAR PV'] #do this in lecture"
   ]
  },
  {
   "cell_type": "code",
   "execution_count": null,
   "metadata": {},
   "outputs": [],
   "source": [
    "import matplotlib.pyplot as plt # this gives us libraries to plot nice figures."
   ]
  },
  {
   "cell_type": "markdown",
   "metadata": {},
   "source": [
    "Let's plot the solar generation data using `plt.plot` and the `.loc` method"
   ]
  },
  {
   "cell_type": "code",
   "execution_count": null,
   "metadata": {},
   "outputs": [],
   "source": [
    "plt.plot(caiso_data.loc[:,'SOLAR PV']) # do this in lecture"
   ]
  },
  {
   "cell_type": "markdown",
   "metadata": {},
   "source": [
    "The problem is that the \"index\" of the data frame is clustered at the same value for each day -- so the data get plotted just at one location for each day.  \n",
    "\n",
    "Let's fix the index with a list comprehension. Replace the current indexes with [1, 2, 3, ...]"
   ]
  },
  {
   "cell_type": "code",
   "execution_count": null,
   "metadata": {},
   "outputs": [],
   "source": [
    "caiso_data.index = [i for i in range(0,len(caiso_data.index))] # do this in lecture"
   ]
  },
  {
   "cell_type": "code",
   "execution_count": null,
   "metadata": {},
   "outputs": [],
   "source": [
    "# Now we can plot according to unique indexes:\n",
    "plt.plot(caiso_data.loc[:,'SOLAR PV']) # do this in lecture"
   ]
  },
  {
   "cell_type": "code",
   "execution_count": null,
   "metadata": {},
   "outputs": [],
   "source": [
    "# alternatively we can plot by hour of day to see things overlap\n",
    "plt.plot(caiso_data.loc[:,'Hour'],caiso_data.loc[:,'SOLAR PV']) # do this in lecture"
   ]
  },
  {
   "cell_type": "code",
   "execution_count": null,
   "metadata": {},
   "outputs": [],
   "source": []
  }
 ],
 "metadata": {
  "kernelspec": {
   "display_name": "Python 3",
   "language": "python",
   "name": "python3"
  },
  "language_info": {
   "codemirror_mode": {
    "name": "ipython",
    "version": 3
   },
   "file_extension": ".py",
   "mimetype": "text/x-python",
   "name": "python",
   "nbconvert_exporter": "python",
   "pygments_lexer": "ipython3",
   "version": "3.6.4"
  }
 },
 "nbformat": 4,
 "nbformat_minor": 2
}
