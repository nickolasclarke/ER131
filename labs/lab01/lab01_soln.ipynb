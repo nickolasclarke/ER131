{
 "cells": [
  {
   "cell_type": "markdown",
   "metadata": {},
   "source": [
    "After you've completed the lab, make sure everything runs as expected. First, **restart the kernel** (in the menubar, select Kernel$\\rightarrow$Restart) and then **run all cells** (in the menubar, select Cell$\\rightarrow$Run All).\n",
    "\n",
    "Make sure you fill in any place that says `YOUR CODE HERE` or \"YOUR ANSWER HERE\", as well as your name and collaborators below:"
   ]
  },
  {
   "cell_type": "code",
   "execution_count": null,
   "metadata": {},
   "outputs": [],
   "source": [
    "NAME = \"\" # put your full name here\n",
    "COLLABORATORS = \"\" # put the name(s) of anyone you worked with here"
   ]
  },
  {
   "cell_type": "markdown",
   "metadata": {},
   "source": [
    "---"
   ]
  },
  {
   "cell_type": "markdown",
   "metadata": {
    "Xeditable": false,
    "deletable": false,
    "nbgrader": {
     "cell_type": "markdown",
     "checksum": "f89c9efbdf91aac86d087227500a7d6b",
     "grade": false,
     "grade_id": "cell-72b8b977664e17a3",
     "locked": true,
     "schema_version": 2,
     "solution": false
    }
   },
   "source": [
    "# Lab 1: Getting started\n",
    "\n",
    "**This assignment was distributed on Monday September 2nd. There is no due date for this assignment, but you should try to complete it and ask any questions in office hours or on Piazza before lab 2, which will be dsitributed on Monday September 9th.**\n",
    "\n",
    "This is the first lab of ER131 and is intended to ensure that you have your Jupyter Hub and/or local Notebook environments configured correctly."
   ]
  },
  {
   "cell_type": "markdown",
   "metadata": {
    "Xeditable": false,
    "deletable": false,
    "nbgrader": {
     "cell_type": "markdown",
     "checksum": "c9d6ddae02a48a0b2e1d9261bb73701e",
     "grade": false,
     "grade_id": "cell-c28e560df9dc2d15",
     "locked": true,
     "schema_version": 2,
     "solution": false
    }
   },
   "source": [
    "# Imports\n",
    "\n",
    "These packages will be used over and over in the course.  In your own coding you don't *have* to import `numpy` as `np` (and so on), but it is what most people use, and using those abbreviations will improve how well your code ports over to others' environments."
   ]
  },
  {
   "cell_type": "code",
   "execution_count": 15,
   "metadata": {
    "ExecuteTime": {
     "end_time": "2018-01-18T23:21:43.841930Z",
     "start_time": "2018-01-18T23:21:43.193583Z"
    },
    "Xeditable": false,
    "deletable": false,
    "nbgrader": {
     "cell_type": "code",
     "checksum": "883d54a6beda2925468fe34c5096dfd2",
     "grade": false,
     "grade_id": "cell-75cd191fea675c93",
     "locked": true,
     "schema_version": 2,
     "solution": false
    }
   },
   "outputs": [],
   "source": [
    "import numpy as np\n",
    "import matplotlib.pyplot as plt\n",
    "import pandas as pd\n",
    "import re\n",
    "%matplotlib inline"
   ]
  },
  {
   "cell_type": "markdown",
   "metadata": {
    "Xeditable": false,
    "deletable": false,
    "nbgrader": {
     "cell_type": "markdown",
     "checksum": "a3578b247d22f70bd15fd47ee29965e7",
     "grade": false,
     "grade_id": "cell-32ba5ce5b5f93e35",
     "locked": true,
     "schema_version": 2,
     "solution": false
    }
   },
   "source": [
    "# Exercises"
   ]
  },
  {
   "cell_type": "markdown",
   "metadata": {
    "Xeditable": false,
    "deletable": false,
    "nbgrader": {
     "cell_type": "markdown",
     "checksum": "e25d026b2b82755018e32c1070daf3af",
     "grade": false,
     "grade_id": "cell-13e40a1399707439",
     "locked": true,
     "schema_version": 2,
     "solution": false
    }
   },
   "source": [
    "## Part A\n",
    "\n",
    "Write a function that returns a list of numbers, such that $ x_i=i^2 $,for $1\\leq i \\leq n$. \n",
    "\n",
    "* Don't worry about the case where $n < 0$.\n",
    "* The assert statements below will be very picky on where spaces show up, and this narrows the range of solutions available to print out the list\n",
    "\n",
    "Additionally, write the function so that it raises error `NotImplementedError` *unless* you give the function something to return *before* the `NotImplementedError` statement appears. You can use the following syntax to raise an error:\n",
    "\n",
    "```python \n",
    "raise NotImplementedError()\n",
    "```\n",
    "If you finish early, try to come up with more than one way to code this."
   ]
  },
  {
   "cell_type": "code",
   "execution_count": 10,
   "metadata": {
    "ExecuteTime": {
     "end_time": "2018-01-18T23:32:44.865968Z",
     "start_time": "2018-01-18T23:32:44.861303Z"
    },
    "deletable": false,
    "nbgrader": {
     "cell_type": "code",
     "checksum": "f35253b43ffb11504e10901b9526e4ca",
     "grade": false,
     "grade_id": "cell-9388c587d0e639ff",
     "locked": false,
     "schema_version": 2,
     "solution": true
    }
   },
   "outputs": [],
   "source": [
    "def squares(n):\n",
    "    \"\"\"\n",
    "    This function takes an integer n>0 as input.\n",
    "    It computes the squares of numbers from 1 to n and returns a list,\n",
    "    such that the ith element of the returned list equals i^2.\n",
    "    \"\"\"\n",
    "    \n",
    "    # this solution creates an empty list, loops through all values from 1 to n, \n",
    "    # and appends the square of each value to the list\n",
    "    \n",
    "    sq_list = [] # a list that will contained the squared values\n",
    "    \n",
    "    for i in range(1,n+1):\n",
    "        sq_list.append(i**2)\n",
    "    \n",
    "    return sq_list\n",
    "    \n",
    "    raise NotImplementedError()\n",
    "    \n",
    "def squares2(n):\n",
    "    \n",
    "    # this solution uses map(), which applies a function (the first argument) to \n",
    "    # every element of a list (the second argument), and a returns a list of results\n",
    "    # lambda in the function argument is a kind of one-line function that lets you\n",
    "    # specify the arguments and expression. In the example below, the argument is x,\n",
    "    # the value in the range 1 to n+1, and the expression to be returned is x**2,\n",
    "    # or x squared\n",
    "    \n",
    "    return list(map(lambda x: x**2, range(1,n+1)))\n",
    "\n",
    "\n",
    "\n",
    "def squares3(n):\n",
    "    \n",
    "    # this solution uses list comprehension syntax, which is a shorter way to write for\n",
    "    # statements, following this syntax:\n",
    "    # [expression for item in list if conditional]\n",
    "    # for item in list:\n",
    "    #     if conditional:\n",
    "    #          expression\n",
    "    \n",
    "    return [i**2 for i in range(1,n+1)]"
   ]
  },
  {
   "cell_type": "markdown",
   "metadata": {
    "Xeditable": false,
    "deletable": false,
    "nbgrader": {
     "cell_type": "markdown",
     "checksum": "d4b24a6a9f827f13fc1b08fde9ac9375",
     "grade": false,
     "grade_id": "cell-b8e3b9b11b0f764c",
     "locked": true,
     "schema_version": 2,
     "solution": false
    }
   },
   "source": [
    "Your function should print `[1, 4, 9, 16, 25, 36, 49, 64, 81, 100]` for $n=10$.  \n",
    "Check that it does:"
   ]
  },
  {
   "cell_type": "code",
   "execution_count": 11,
   "metadata": {
    "ExecuteTime": {
     "end_time": "2018-01-18T23:35:11.019139Z",
     "start_time": "2018-01-18T23:35:11.010168Z"
    }
   },
   "outputs": [
    {
     "data": {
      "text/plain": [
       "[1, 4, 9, 16, 25, 36, 49, 64, 81, 100]"
      ]
     },
     "execution_count": 11,
     "metadata": {},
     "output_type": "execute_result"
    }
   ],
   "source": [
    "squares(10)\n",
    "squares2(10)\n",
    "squares3(10)"
   ]
  },
  {
   "cell_type": "markdown",
   "metadata": {
    "Xeditable": false,
    "deletable": false,
    "nbgrader": {
     "cell_type": "markdown",
     "checksum": "40f19656b0e717c06ecd3818ca0f6190",
     "grade": false,
     "grade_id": "cell-5beb02bc07017f6f",
     "locked": true,
     "schema_version": 2,
     "solution": false
    }
   },
   "source": [
    "Check that squares returns the correct output for several inputs.  \n",
    "\n",
    "Note, the `assert` syntax below will throw `AssertionError`s if the boolean statements evaluate to `false` and do nothing if the statements are `true`. (You want your statements to be true.)"
   ]
  },
  {
   "cell_type": "code",
   "execution_count": 14,
   "metadata": {
    "Xeditable": false,
    "deletable": false,
    "nbgrader": {
     "cell_type": "code",
     "checksum": "fc65774b807eee19f4b8f91cb9328951",
     "grade": true,
     "grade_id": "squares-tests",
     "locked": true,
     "points": 1,
     "schema_version": 2,
     "solution": false
    }
   },
   "outputs": [],
   "source": [
    "assert squares(1) == [1]\n",
    "assert squares(2) == [1, 4]\n",
    "assert squares(10) == [1, 4, 9, 16, 25, 36, 49, 64, 81, 100]"
   ]
  },
  {
   "cell_type": "markdown",
   "metadata": {
    "Xeditable": false,
    "deletable": false,
    "nbgrader": {
     "cell_type": "markdown",
     "checksum": "30a6af98005ec896f4a358531c8968a9",
     "grade": false,
     "grade_id": "cell-262690d3399a01a6",
     "locked": true,
     "schema_version": 2,
     "solution": false
    }
   },
   "source": [
    "## Part B\n",
    "Write a function that \"cleans\" a string by:\n",
    "1.  making all letters lowercase,\n",
    "2.  replacing any non-alphanumeric characters (not a-z or 0-9) with a space (hint: you'll have to use the function re.sub() and [regular expressions](https://docs.python.org/2/library/re.html) for this part), and\n",
    "3.  trimming leading and ending spaces.\n",
    "\n",
    "The function should take in a \"raw\" string as input and return a \"clean\" string."
   ]
  },
  {
   "cell_type": "code",
   "execution_count": 16,
   "metadata": {
    "deletable": false,
    "nbgrader": {
     "cell_type": "code",
     "checksum": "d06b6f380c1f70a92591386e663ac1f1",
     "grade": false,
     "grade_id": "cell-b1fa3ce3a6566fbc",
     "locked": false,
     "schema_version": 2,
     "solution": true
    }
   },
   "outputs": [],
   "source": [
    "def clean(string):\n",
    "    \"\"\"Return cleaned string\"\"\"\n",
    "    # YOUR CODE HERE\n",
    "    \n",
    "    string = string.lower() # make lowercase\n",
    "    string = re.sub('[^0-9a-z]+', ' ', string) # replace non alpha-numeric characters\n",
    "    string = string.strip() # remove leading and ending whitespace\n",
    "    \n",
    "    return string\n",
    "    \n",
    "    raise NotImplementedError()"
   ]
  },
  {
   "cell_type": "markdown",
   "metadata": {
    "Xeditable": false,
    "deletable": false,
    "nbgrader": {
     "cell_type": "markdown",
     "checksum": "d57d4cc3f4973cd41462666f9ec3729e",
     "grade": false,
     "grade_id": "cell-8511ab6086312dfb",
     "locked": true,
     "schema_version": 2,
     "solution": false
    }
   },
   "source": [
    "Your function should clean the address \"#12 Oak Street \" to \"12 oak street\":"
   ]
  },
  {
   "cell_type": "code",
   "execution_count": 17,
   "metadata": {},
   "outputs": [
    {
     "data": {
      "text/plain": [
       "'12 oak street'"
      ]
     },
     "execution_count": 17,
     "metadata": {},
     "output_type": "execute_result"
    }
   ],
   "source": [
    "clean(\"#12 Oak Street\")"
   ]
  },
  {
   "cell_type": "markdown",
   "metadata": {
    "Xeditable": false,
    "deletable": false,
    "nbgrader": {
     "cell_type": "markdown",
     "checksum": "6a7d12bf6c75cd69339e825d94e2d744",
     "grade": false,
     "grade_id": "cell-a8e600015df76fb8",
     "locked": true,
     "schema_version": 2,
     "solution": false
    }
   },
   "source": [
    "Check that the function works as expected for several inputs."
   ]
  },
  {
   "cell_type": "code",
   "execution_count": 19,
   "metadata": {
    "Xeditable": false,
    "deletable": false,
    "nbgrader": {
     "cell_type": "code",
     "checksum": "39dd9a3fcfa1d29414c216d88c2f7c17",
     "grade": true,
     "grade_id": "test-is-palindrome",
     "locked": true,
     "points": 1,
     "schema_version": 2,
     "solution": false
    }
   },
   "outputs": [],
   "source": [
    "assert clean(\"ER 131-lab section 102\") == \"er 131 lab section 102\"\n",
    "assert clean(\" 08/28/2019 \") == \"08 28 2019\"\n",
    "assert clean(\"$1500 DOLLARS \") == \"1500 dollars\""
   ]
  },
  {
   "cell_type": "markdown",
   "metadata": {
    "Xeditable": false,
    "deletable": false,
    "nbgrader": {
     "cell_type": "markdown",
     "checksum": "41f2f563094755fd6516c659af09cd84",
     "grade": false,
     "grade_id": "cell-eb403641adc12b74",
     "locked": true,
     "schema_version": 2,
     "solution": false
    }
   },
   "source": [
    "## Part C\n",
    "\n",
    "Run the following code to see a pretty plot."
   ]
  },
  {
   "cell_type": "code",
   "execution_count": 20,
   "metadata": {},
   "outputs": [
    {
     "data": {
      "image/png": "[encoded data removed]",
      "text/plain": [
       "<Figure size 432x288 with 1 Axes>"
      ]
     },
     "metadata": {
      "needs_background": "light"
     },
     "output_type": "display_data"
    }
   ],
   "source": [
    "from mpl_toolkits.mplot3d import axes3d\n",
    "import matplotlib.pyplot as plt\n",
    "\n",
    "\n",
    "# Create a plot\n",
    "u = np.linspace(1.5*np.pi, -1.5*np.pi, 100)\n",
    "[x,y] = np.meshgrid(u, u)\n",
    "z = np.cos( np.sqrt(x.flatten()**2 + y.flatten()**2) ).reshape(x.shape)\n",
    "\n",
    "\n",
    "fig = plt.figure()\n",
    "ax = fig.add_subplot(111, projection='3d')\n",
    "# Plot a basic wireframe.\n",
    "ax.plot_wireframe(x, y, z, rstride=10, cstride=10)\n",
    "ax.view_init(elev=50., azim=30)\n",
    "plt.savefig(\"figure1.pdf\")"
   ]
  },
  {
   "cell_type": "code",
   "execution_count": null,
   "metadata": {},
   "outputs": [],
   "source": []
  }
 ],
 "metadata": {
  "celltoolbar": "Edit Metadata",
  "kernelspec": {
   "display_name": "Python 3",
   "language": "python",
   "name": "python3"
  },
  "language_info": {
   "codemirror_mode": {
    "name": "ipython",
    "version": 3
   },
   "file_extension": ".py",
   "mimetype": "text/x-python",
   "name": "python",
   "nbconvert_exporter": "python",
   "pygments_lexer": "ipython3",
   "version": "3.6.8"
  },
  "toc": {
   "colors": {
    "hover_highlight": "#DAA520",
    "running_highlight": "#FF0000",
    "selected_highlight": "#FFD700"
   },
   "moveMenuLeft": true,
   "nav_menu": {
    "height": "156px",
    "width": "252px"
   },
   "navigate_menu": true,
   "number_sections": true,
   "sideBar": true,
   "threshold": 4,
   "toc_cell": true,
   "toc_section_display": "block",
   "toc_window_display": true
  }
 },
 "nbformat": 4,
 "nbformat_minor": 2
}
