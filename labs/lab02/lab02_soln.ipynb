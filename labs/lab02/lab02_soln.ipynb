{
 "cells": [
  {
   "cell_type": "markdown",
   "metadata": {},
   "source": [
    "Before you turn this problem in, make sure everything runs as expected. First, **restart the kernel** (in the menubar, select Kernel$\\rightarrow$Restart) and then **run all cells** (in the menubar, select Cell$\\rightarrow$Run All).\n",
    "\n",
    "Make sure you fill in any place that says `YOUR CODE HERE` or \"YOUR ANSWER HERE\", as well as your name and collaborators below:"
   ]
  },
  {
   "cell_type": "code",
   "execution_count": 1,
   "metadata": {},
   "outputs": [],
   "source": [
    "NAME = \"\"\n",
    "COLLABORATORS = \"\""
   ]
  },
  {
   "cell_type": "markdown",
   "metadata": {},
   "source": [
    "---"
   ]
  },
  {
   "cell_type": "markdown",
   "metadata": {
    "Xeditable": false,
    "deletable": false,
    "nbgrader": {
     "cell_type": "markdown",
     "checksum": "49eb322f771860195bb0faf8163a7a6e",
     "grade": false,
     "grade_id": "title-cell",
     "locked": true,
     "schema_version": 2,
     "solution": false
    }
   },
   "source": [
    "# Lab 2: Pandas Overview\n",
    "\n",
    "**This lab was distributed Monday 9/9/2019 and should be completed by Friday 9/13/2019 at 11:59PM.**"
   ]
  },
  {
   "cell_type": "markdown",
   "metadata": {
    "Xeditable": false,
    "deletable": false,
    "nbgrader": {
     "cell_type": "markdown",
     "checksum": "98afce7d3ed4007dca3f175818f15c4a",
     "grade": false,
     "grade_id": "outline-cell",
     "locked": true,
     "schema_version": 2,
     "solution": false
    }
   },
   "source": [
    "[Pandas](https://pandas.pydata.org/) is one of the most widely used Python libraries in data science. In this lab, you will learn commonly used data wrangling operations/tools in Pandas. We aim to give you familiarity with:\n",
    "\n",
    "* Creating dataframes\n",
    "* Slicing data frames (ie. selecting rows and columns)\n",
    "* Filtering data (using boolean arrays)\n",
    "* Data Aggregation/Grouping dataframes\n",
    "\n",
    "In this lab, you are going to use several pandas methods like `drop()`, `loc()`, `groupby()`. You may press `shift+tab` on the method parameters to see the documentation for that method."
   ]
  },
  {
   "cell_type": "markdown",
   "metadata": {
    "Xeditable": false,
    "deletable": false,
    "nbgrader": {
     "cell_type": "markdown",
     "checksum": "a266ecf3eb83da155374e1ec4e5963b1",
     "grade": false,
     "grade_id": "setup-cell",
     "locked": true,
     "schema_version": 2,
     "solution": false
    }
   },
   "source": [
    "## Setup"
   ]
  },
  {
   "cell_type": "code",
   "execution_count": 2,
   "metadata": {
    "Xeditable": false,
    "deletable": false,
    "nbgrader": {
     "cell_type": "code",
     "checksum": "1485c1b3d30a3abedd44f883e3734e95",
     "grade": false,
     "grade_id": "imports",
     "locked": true,
     "schema_version": 2,
     "solution": false
    }
   },
   "outputs": [],
   "source": [
    "import numpy as np\n",
    "import matplotlib.pyplot as plt\n",
    "import pandas as pd\n",
    "%matplotlib inline"
   ]
  },
  {
   "cell_type": "markdown",
   "metadata": {
    "Xeditable": false,
    "deletable": false,
    "nbgrader": {
     "cell_type": "markdown",
     "checksum": "b6636c3978a25629290021a8145552dd",
     "grade": false,
     "grade_id": "basic_intro",
     "locked": true,
     "schema_version": 2,
     "solution": false
    }
   },
   "source": [
    "## Creating DataFrames & Basic Manipulations\n",
    "\n",
    "A [dataframe](http://pandas.pydata.org/pandas-docs/stable/dsintro.html#dataframe) is a two-dimensional labeled data structure with columns of potentially different types."
   ]
  },
  {
   "cell_type": "markdown",
   "metadata": {
    "Xeditable": false,
    "deletable": false,
    "nbgrader": {
     "cell_type": "markdown",
     "checksum": "13ea38efec7a58c7719932a710fffd30",
     "grade": false,
     "grade_id": "basic_method1",
     "locked": true,
     "schema_version": 2,
     "solution": false
    }
   },
   "source": [
    "**Method 1: ** You can create a data frame by specifying the columns and values as shown below.\n",
    "\n",
    "Notice the syntax: you're passing a dictionary into the DataFrame.  The keys become the column names (e.g. `'fruit'`), and the values are lists (`['apple',....`)"
   ]
  },
  {
   "cell_type": "code",
   "execution_count": 3,
   "metadata": {
    "Xeditable": false,
    "deletable": false,
    "nbgrader": {
     "cell_type": "code",
     "checksum": "f65c7d4e1e0536b784c02e3e013e1e83",
     "grade": false,
     "grade_id": "basic_method1_code",
     "locked": true,
     "schema_version": 2,
     "solution": false
    }
   },
   "outputs": [
    {
     "data": {
      "text/html": [
       "<div>\n",
       "<style scoped>\n",
       "    .dataframe tbody tr th:only-of-type {\n",
       "        vertical-align: middle;\n",
       "    }\n",
       "\n",
       "    .dataframe tbody tr th {\n",
       "        vertical-align: top;\n",
       "    }\n",
       "\n",
       "    .dataframe thead th {\n",
       "        text-align: right;\n",
       "    }\n",
       "</style>\n",
       "<table border=\"1\" class=\"dataframe\">\n",
       "  <thead>\n",
       "    <tr style=\"text-align: right;\">\n",
       "      <th></th>\n",
       "      <th>fruit</th>\n",
       "      <th>color</th>\n",
       "    </tr>\n",
       "  </thead>\n",
       "  <tbody>\n",
       "    <tr>\n",
       "      <th>0</th>\n",
       "      <td>apple</td>\n",
       "      <td>red</td>\n",
       "    </tr>\n",
       "    <tr>\n",
       "      <th>1</th>\n",
       "      <td>orange</td>\n",
       "      <td>orange</td>\n",
       "    </tr>\n",
       "    <tr>\n",
       "      <th>2</th>\n",
       "      <td>banana</td>\n",
       "      <td>yellow</td>\n",
       "    </tr>\n",
       "    <tr>\n",
       "      <th>3</th>\n",
       "      <td>raspberry</td>\n",
       "      <td>pink</td>\n",
       "    </tr>\n",
       "  </tbody>\n",
       "</table>\n",
       "</div>"
      ],
      "text/plain": [
       "       fruit   color\n",
       "0      apple     red\n",
       "1     orange  orange\n",
       "2     banana  yellow\n",
       "3  raspberry    pink"
      ]
     },
     "execution_count": 3,
     "metadata": {},
     "output_type": "execute_result"
    }
   ],
   "source": [
    "fruit_info = pd.DataFrame(\n",
    "    data={'fruit': ['apple', 'orange', 'banana', 'raspberry'],\n",
    "          'color': ['red', 'orange', 'yellow', 'pink']\n",
    "          })\n",
    "fruit_info"
   ]
  },
  {
   "cell_type": "markdown",
   "metadata": {
    "Xeditable": false,
    "deletable": false,
    "nbgrader": {
     "cell_type": "markdown",
     "checksum": "e46895183a888dacb5cf5bff4a24418d",
     "grade": false,
     "grade_id": "basic_method2",
     "locked": true,
     "schema_version": 2,
     "solution": false
    }
   },
   "source": [
    "**Method 2: ** You can also define a dataframe by specifying the rows like below.\n",
    "\n",
    "Here, you're passing in tuples for each row of data (e.g. `(\"red\", \"apple\")`) and specifying the column names separately."
   ]
  },
  {
   "cell_type": "code",
   "execution_count": 4,
   "metadata": {
    "Xeditable": false,
    "deletable": false,
    "nbgrader": {
     "cell_type": "code",
     "checksum": "27ea228471e9d83115cf64203a680c5f",
     "grade": false,
     "grade_id": "basic_method2_code",
     "locked": true,
     "schema_version": 2,
     "solution": false
    }
   },
   "outputs": [
    {
     "data": {
      "text/html": [
       "<div>\n",
       "<style scoped>\n",
       "    .dataframe tbody tr th:only-of-type {\n",
       "        vertical-align: middle;\n",
       "    }\n",
       "\n",
       "    .dataframe tbody tr th {\n",
       "        vertical-align: top;\n",
       "    }\n",
       "\n",
       "    .dataframe thead th {\n",
       "        text-align: right;\n",
       "    }\n",
       "</style>\n",
       "<table border=\"1\" class=\"dataframe\">\n",
       "  <thead>\n",
       "    <tr style=\"text-align: right;\">\n",
       "      <th></th>\n",
       "      <th>color</th>\n",
       "      <th>fruit</th>\n",
       "    </tr>\n",
       "  </thead>\n",
       "  <tbody>\n",
       "    <tr>\n",
       "      <th>0</th>\n",
       "      <td>red</td>\n",
       "      <td>apple</td>\n",
       "    </tr>\n",
       "    <tr>\n",
       "      <th>1</th>\n",
       "      <td>orange</td>\n",
       "      <td>orange</td>\n",
       "    </tr>\n",
       "    <tr>\n",
       "      <th>2</th>\n",
       "      <td>yellow</td>\n",
       "      <td>banana</td>\n",
       "    </tr>\n",
       "    <tr>\n",
       "      <th>3</th>\n",
       "      <td>pink</td>\n",
       "      <td>raspberry</td>\n",
       "    </tr>\n",
       "  </tbody>\n",
       "</table>\n",
       "</div>"
      ],
      "text/plain": [
       "    color      fruit\n",
       "0     red      apple\n",
       "1  orange     orange\n",
       "2  yellow     banana\n",
       "3    pink  raspberry"
      ]
     },
     "execution_count": 4,
     "metadata": {},
     "output_type": "execute_result"
    }
   ],
   "source": [
    "fruit_info2 = pd.DataFrame(\n",
    "    [(\"red\", \"apple\"), (\"orange\", \"orange\"), (\"yellow\", \"banana\"),\n",
    "     (\"pink\", \"raspberry\")], \n",
    "    columns = [\"color\", \"fruit\"])\n",
    "fruit_info2"
   ]
  },
  {
   "cell_type": "markdown",
   "metadata": {},
   "source": [
    "**Other methods**: Usually you won't be creating data frames in such a manual way.  You'll often be loading dataframes in from other file types -- for example comma separated (csv) files.  More on that later."
   ]
  },
  {
   "cell_type": "markdown",
   "metadata": {
    "Xeditable": false,
    "deletable": false,
    "nbgrader": {
     "cell_type": "markdown",
     "checksum": "6f6f9b46eab31b8e03349dd0a901e27e",
     "grade": false,
     "grade_id": "basic_shape",
     "locked": true,
     "schema_version": 2,
     "solution": false
    }
   },
   "source": [
    "You can obtain the dimensions of a matrix by using the shape attribute dataframe.shape"
   ]
  },
  {
   "cell_type": "code",
   "execution_count": 5,
   "metadata": {
    "Xeditable": false,
    "deletable": false,
    "nbgrader": {
     "cell_type": "code",
     "checksum": "ed75b53df21d95cd5d9dcc5bc246a703",
     "grade": false,
     "grade_id": "basic_shape_code",
     "locked": true,
     "schema_version": 2,
     "solution": false
    }
   },
   "outputs": [
    {
     "data": {
      "text/plain": [
       "(4, 2)"
      ]
     },
     "execution_count": 5,
     "metadata": {},
     "output_type": "execute_result"
    }
   ],
   "source": [
    "(num_rows, num_columns) = fruit_info.shape\n",
    "num_rows, num_columns"
   ]
  },
  {
   "cell_type": "markdown",
   "metadata": {
    "Xeditable": false,
    "deletable": false,
    "nbgrader": {
     "cell_type": "markdown",
     "checksum": "d6ed6d869060c5b898557c15e357400e",
     "grade": false,
     "grade_id": "q1",
     "locked": true,
     "schema_version": 2,
     "solution": false
    }
   },
   "source": [
    "### Question 1\n",
    "\n",
    "You can add a column by `dataframe['new column name'] = [data]`. Add a column called `rank` to the `fruit_info` table which contains a 1,2,3, or 4 based on your personal preference ordering for each fruit. \n",
    "\n",
    "(note you'll need to comment out or delete the `NotImplementedError()`)"
   ]
  },
  {
   "cell_type": "code",
   "execution_count": 6,
   "metadata": {
    "deletable": false,
    "nbgrader": {
     "cell_type": "code",
     "checksum": "1403f7c30fd46ec51a13b8139c438032",
     "grade": false,
     "grade_id": "q1_answer",
     "locked": false,
     "schema_version": 2,
     "solution": true
    },
    "tags": [
     "solution"
    ]
   },
   "outputs": [],
   "source": [
    "# YOUR CODE HERE\n",
    "fruit_info['rank'] = [3,2,4,1]\n",
    "# raise NotImplementedError()"
   ]
  },
  {
   "cell_type": "code",
   "execution_count": 7,
   "metadata": {
    "Xeditable": false,
    "deletable": false,
    "nbgrader": {
     "cell_type": "code",
     "checksum": "770aa3b01c83fa90747490e467a87a4b",
     "grade": false,
     "grade_id": "q1_display",
     "locked": true,
     "schema_version": 2,
     "solution": false
    }
   },
   "outputs": [
    {
     "data": {
      "text/html": [
       "<div>\n",
       "<style scoped>\n",
       "    .dataframe tbody tr th:only-of-type {\n",
       "        vertical-align: middle;\n",
       "    }\n",
       "\n",
       "    .dataframe tbody tr th {\n",
       "        vertical-align: top;\n",
       "    }\n",
       "\n",
       "    .dataframe thead th {\n",
       "        text-align: right;\n",
       "    }\n",
       "</style>\n",
       "<table border=\"1\" class=\"dataframe\">\n",
       "  <thead>\n",
       "    <tr style=\"text-align: right;\">\n",
       "      <th></th>\n",
       "      <th>fruit</th>\n",
       "      <th>color</th>\n",
       "      <th>rank</th>\n",
       "    </tr>\n",
       "  </thead>\n",
       "  <tbody>\n",
       "    <tr>\n",
       "      <th>0</th>\n",
       "      <td>apple</td>\n",
       "      <td>red</td>\n",
       "      <td>3</td>\n",
       "    </tr>\n",
       "    <tr>\n",
       "      <th>1</th>\n",
       "      <td>orange</td>\n",
       "      <td>orange</td>\n",
       "      <td>2</td>\n",
       "    </tr>\n",
       "    <tr>\n",
       "      <th>2</th>\n",
       "      <td>banana</td>\n",
       "      <td>yellow</td>\n",
       "      <td>4</td>\n",
       "    </tr>\n",
       "    <tr>\n",
       "      <th>3</th>\n",
       "      <td>raspberry</td>\n",
       "      <td>pink</td>\n",
       "      <td>1</td>\n",
       "    </tr>\n",
       "  </tbody>\n",
       "</table>\n",
       "</div>"
      ],
      "text/plain": [
       "       fruit   color  rank\n",
       "0      apple     red     3\n",
       "1     orange  orange     2\n",
       "2     banana  yellow     4\n",
       "3  raspberry    pink     1"
      ]
     },
     "execution_count": 7,
     "metadata": {},
     "output_type": "execute_result"
    }
   ],
   "source": [
    "fruit_info"
   ]
  },
  {
   "cell_type": "code",
   "execution_count": 8,
   "metadata": {
    "Xeditable": false,
    "deletable": false,
    "nbgrader": {
     "cell_type": "code",
     "checksum": "5b443f71a3b72b84997d8e2426280014",
     "grade": true,
     "grade_id": "q1_test",
     "locked": true,
     "points": 1,
     "schema_version": 2,
     "solution": false
    }
   },
   "outputs": [],
   "source": [
    "assert fruit_info[\"rank\"].dtype == np.dtype('int64')"
   ]
  },
  {
   "cell_type": "markdown",
   "metadata": {
    "Xeditable": false,
    "deletable": false,
    "nbgrader": {
     "cell_type": "markdown",
     "checksum": "e8493837fea7832f4263d93075e6ee4f",
     "grade": false,
     "grade_id": "q2",
     "locked": true,
     "schema_version": 2,
     "solution": false
    }
   },
   "source": [
    "### Question 2\n",
    "\n",
    "Use the `.drop()` method to [drop](https://pandas.pydata.org/pandas-docs/stable/generated/pandas.DataFrame.drop.html) the `rank` column you created, and save the new dataframe (without the `rank` column) to `fruit_info_original`. Some notes:\n",
    "\n",
    "* You'll need to look up `drop` to figure out the right syntax.\n",
    "* Make sure to use the `axis` parameter correctly"
   ]
  },
  {
   "cell_type": "code",
   "execution_count": 9,
   "metadata": {
    "deletable": false,
    "nbgrader": {
     "cell_type": "code",
     "checksum": "ea711accb5e5c4a980d472b2353fc35f",
     "grade": false,
     "grade_id": "q2_answer",
     "locked": false,
     "schema_version": 2,
     "solution": true
    },
    "tags": [
     "solution"
    ]
   },
   "outputs": [],
   "source": [
    "fruit_info_original = fruit_info.drop(['rank'], axis=1)\n",
    "#raise NotImplementedError()"
   ]
  },
  {
   "cell_type": "code",
   "execution_count": 10,
   "metadata": {
    "Xeditable": false,
    "deletable": false,
    "nbgrader": {
     "cell_type": "code",
     "checksum": "d6c0d7ca4843fb9efde8b5ec59cd064d",
     "grade": false,
     "grade_id": "q2_display",
     "locked": true,
     "schema_version": 2,
     "solution": false
    }
   },
   "outputs": [
    {
     "data": {
      "text/html": [
       "<div>\n",
       "<style scoped>\n",
       "    .dataframe tbody tr th:only-of-type {\n",
       "        vertical-align: middle;\n",
       "    }\n",
       "\n",
       "    .dataframe tbody tr th {\n",
       "        vertical-align: top;\n",
       "    }\n",
       "\n",
       "    .dataframe thead th {\n",
       "        text-align: right;\n",
       "    }\n",
       "</style>\n",
       "<table border=\"1\" class=\"dataframe\">\n",
       "  <thead>\n",
       "    <tr style=\"text-align: right;\">\n",
       "      <th></th>\n",
       "      <th>fruit</th>\n",
       "      <th>color</th>\n",
       "    </tr>\n",
       "  </thead>\n",
       "  <tbody>\n",
       "    <tr>\n",
       "      <th>0</th>\n",
       "      <td>apple</td>\n",
       "      <td>red</td>\n",
       "    </tr>\n",
       "    <tr>\n",
       "      <th>1</th>\n",
       "      <td>orange</td>\n",
       "      <td>orange</td>\n",
       "    </tr>\n",
       "    <tr>\n",
       "      <th>2</th>\n",
       "      <td>banana</td>\n",
       "      <td>yellow</td>\n",
       "    </tr>\n",
       "    <tr>\n",
       "      <th>3</th>\n",
       "      <td>raspberry</td>\n",
       "      <td>pink</td>\n",
       "    </tr>\n",
       "  </tbody>\n",
       "</table>\n",
       "</div>"
      ],
      "text/plain": [
       "       fruit   color\n",
       "0      apple     red\n",
       "1     orange  orange\n",
       "2     banana  yellow\n",
       "3  raspberry    pink"
      ]
     },
     "execution_count": 10,
     "metadata": {},
     "output_type": "execute_result"
    }
   ],
   "source": [
    "fruit_info_original"
   ]
  },
  {
   "cell_type": "code",
   "execution_count": 11,
   "metadata": {
    "Xeditable": false,
    "deletable": false,
    "nbgrader": {
     "cell_type": "code",
     "checksum": "7460fd9bb70a53cec8418de04284ec52",
     "grade": true,
     "grade_id": "q2_test",
     "locked": true,
     "points": 1,
     "schema_version": 2,
     "solution": false
    }
   },
   "outputs": [],
   "source": [
    "assert fruit_info_original.shape[1] == 2"
   ]
  },
  {
   "cell_type": "markdown",
   "metadata": {
    "Xeditable": false,
    "deletable": false,
    "nbgrader": {
     "cell_type": "markdown",
     "checksum": "2873d2408689c996e91ca7427bfa0021",
     "grade": false,
     "grade_id": "q3",
     "locked": true,
     "schema_version": 2,
     "solution": false
    }
   },
   "source": [
    "### Question 3\n",
    "\n",
    "Use the `.rename()` method to [rename](https://pandas.pydata.org/pandas-docs/stable/generated/pandas.DataFrame.rename.html) the columns of `fruit_info_original` so they begin with a capital letter. Set the `inplace` parameter correctly to change the `fruit_info_original` dataframe. (hint: in Question 2, `drop` creates and returns a new dataframe instead of changing `fruit_info` because `inplace` by default is `False`)"
   ]
  },
  {
   "cell_type": "code",
   "execution_count": 12,
   "metadata": {
    "deletable": false,
    "nbgrader": {
     "cell_type": "code",
     "checksum": "24bc0613aa2f3ed4507a21d4bde36b69",
     "grade": false,
     "grade_id": "q3_answer",
     "locked": false,
     "schema_version": 2,
     "solution": true
    },
    "tags": [
     "solution"
    ]
   },
   "outputs": [],
   "source": [
    "fruit_info_original.rename(columns = {\"fruit\": \"Fruit\", \"color\":\"Color\"}, inplace = True)\n",
    "# raise NotImplementedError()"
   ]
  },
  {
   "cell_type": "code",
   "execution_count": 13,
   "metadata": {
    "Xeditable": false,
    "deletable": false,
    "nbgrader": {
     "cell_type": "code",
     "checksum": "c8f0d8b55eac47e1241c5ccdbe284dd9",
     "grade": false,
     "grade_id": "q3_display",
     "locked": true,
     "schema_version": 2,
     "solution": false
    }
   },
   "outputs": [
    {
     "data": {
      "text/html": [
       "<div>\n",
       "<style scoped>\n",
       "    .dataframe tbody tr th:only-of-type {\n",
       "        vertical-align: middle;\n",
       "    }\n",
       "\n",
       "    .dataframe tbody tr th {\n",
       "        vertical-align: top;\n",
       "    }\n",
       "\n",
       "    .dataframe thead th {\n",
       "        text-align: right;\n",
       "    }\n",
       "</style>\n",
       "<table border=\"1\" class=\"dataframe\">\n",
       "  <thead>\n",
       "    <tr style=\"text-align: right;\">\n",
       "      <th></th>\n",
       "      <th>Fruit</th>\n",
       "      <th>Color</th>\n",
       "    </tr>\n",
       "  </thead>\n",
       "  <tbody>\n",
       "    <tr>\n",
       "      <th>0</th>\n",
       "      <td>apple</td>\n",
       "      <td>red</td>\n",
       "    </tr>\n",
       "    <tr>\n",
       "      <th>1</th>\n",
       "      <td>orange</td>\n",
       "      <td>orange</td>\n",
       "    </tr>\n",
       "    <tr>\n",
       "      <th>2</th>\n",
       "      <td>banana</td>\n",
       "      <td>yellow</td>\n",
       "    </tr>\n",
       "    <tr>\n",
       "      <th>3</th>\n",
       "      <td>raspberry</td>\n",
       "      <td>pink</td>\n",
       "    </tr>\n",
       "  </tbody>\n",
       "</table>\n",
       "</div>"
      ],
      "text/plain": [
       "       Fruit   Color\n",
       "0      apple     red\n",
       "1     orange  orange\n",
       "2     banana  yellow\n",
       "3  raspberry    pink"
      ]
     },
     "execution_count": 13,
     "metadata": {},
     "output_type": "execute_result"
    }
   ],
   "source": [
    "fruit_info_original"
   ]
  },
  {
   "cell_type": "code",
   "execution_count": 14,
   "metadata": {
    "Xeditable": false,
    "deletable": false,
    "nbgrader": {
     "cell_type": "code",
     "checksum": "a386f208c326cc4ec0f74d73b0b5435b",
     "grade": true,
     "grade_id": "q3_test",
     "locked": true,
     "points": 1,
     "schema_version": 2,
     "solution": false
    }
   },
   "outputs": [],
   "source": [
    "assert fruit_info_original.columns[1] == 'Color' # the column number might be different for you"
   ]
  },
  {
   "cell_type": "markdown",
   "metadata": {
    "Xeditable": false,
    "deletable": false,
    "nbgrader": {
     "cell_type": "markdown",
     "checksum": "7f41cdad4fcd0115be1e855349421fef",
     "grade": false,
     "grade_id": "babyname_dataset",
     "locked": true,
     "schema_version": 2,
     "solution": false
    }
   },
   "source": [
    "## Babyname datasets\n",
    "Now that we have learned the basics, we'll spend some time working with the babynames dataset. Let's clean and wrangle the following data frames for the remainder of the lab.\n",
    "\n",
    "First let's run the following shell to build the dataframe.\n",
    "It'll download the data from the web for baby names with more than 5 occurences from 1880-2018. There should be 1957046 records."
   ]
  },
  {
   "cell_type": "markdown",
   "metadata": {
    "Xeditable": false,
    "deletable": false,
    "nbgrader": {
     "cell_type": "markdown",
     "checksum": "1e52d8264a97a93e08074857e90b3d68",
     "grade": false,
     "grade_id": "fetch_and_cache",
     "locked": true,
     "schema_version": 2,
     "solution": false
    }
   },
   "source": [
    "### `fetch_and_cache` Helper\n",
    "\n",
    "The following function downloads and caches data in the `data/` directory and returns the `Path` to the downloaded file"
   ]
  },
  {
   "cell_type": "code",
   "execution_count": 15,
   "metadata": {
    "Xeditable": false,
    "deletable": false,
    "nbgrader": {
     "cell_type": "code",
     "checksum": "5cc372972452b6986341114bfc2c930f",
     "grade": false,
     "grade_id": "fetch_and_cache_code",
     "locked": true,
     "schema_version": 2,
     "solution": false
    }
   },
   "outputs": [],
   "source": [
    "def fetch_and_cache(data_url, file, data_dir=\"data\", force=False):\n",
    "    \"\"\"\n",
    "    Download and cache a url and return the file object.\n",
    "    \n",
    "    data_url: the web address to download\n",
    "    file: the file in which to save the results.\n",
    "    data_dir: (default=\"data\") the location to save the data\n",
    "    force: if true the file is always re-downloaded \n",
    "    \n",
    "    return: The pathlib.Path object representing the file.\n",
    "    \"\"\"\n",
    "    import requests\n",
    "    from pathlib import Path\n",
    "    data_dir = Path(data_dir)\n",
    "    data_dir.mkdir(exist_ok=True)\n",
    "    file_path = data_dir/Path(file)\n",
    "    if force and file_path.exists():\n",
    "        file_path.unlink()\n",
    "    if force or not file_path.exists():\n",
    "        print('Downloading...', end=' ')\n",
    "        resp = requests.get(data_url, stream = True)\n",
    "        with file_path.open('wb') as f:\n",
    "            f.write(resp.content)\n",
    "        f.close()\n",
    "        print('Done!')\n",
    "    else:\n",
    "        import time \n",
    "        birth_time = time.ctime(file_path.stat().st_ctime)\n",
    "        print(\"Using cached version downloaded:\", birth_time)\n",
    "    return file_path"
   ]
  },
  {
   "cell_type": "markdown",
   "metadata": {
    "Xeditable": false,
    "deletable": false,
    "nbgrader": {
     "cell_type": "markdown",
     "checksum": "1bcc0de7c0e0b80626240b3bcc410b71",
     "grade": false,
     "grade_id": "download_data",
     "locked": true,
     "schema_version": 2,
     "solution": false
    }
   },
   "source": [
    "Below we use fetch and cache to download the `names.zip` zip file. \n",
    "\n",
    "**This might take a little while! Consider stretching.**"
   ]
  },
  {
   "cell_type": "code",
   "execution_count": 16,
   "metadata": {
    "Xeditable": false,
    "deletable": false,
    "nbgrader": {
     "cell_type": "code",
     "checksum": "f431dd2589cf724830a687cdb4e2ac74",
     "grade": false,
     "grade_id": "download_data_code",
     "locked": true,
     "schema_version": 2,
     "solution": false
    }
   },
   "outputs": [
    {
     "name": "stdout",
     "output_type": "stream",
     "text": [
      "Downloading... Done!\n"
     ]
    }
   ],
   "source": [
    "data_url = 'https://www.ssa.gov/oact/babynames/names.zip'\n",
    "names_path = fetch_and_cache(data_url, 'names.zip')"
   ]
  },
  {
   "cell_type": "markdown",
   "metadata": {
    "Xeditable": false,
    "deletable": false,
    "nbgrader": {
     "cell_type": "markdown",
     "checksum": "6da7af7ef3e91f24fbc253ff9eee73a5",
     "grade": false,
     "grade_id": "build_df",
     "locked": true,
     "schema_version": 2,
     "solution": false
    }
   },
   "source": [
    "The following cell builds the final full `baby_names` DataFrame. "
   ]
  },
  {
   "cell_type": "code",
   "execution_count": 17,
   "metadata": {
    "Xeditable": false,
    "deletable": false,
    "nbgrader": {
     "cell_type": "code",
     "checksum": "20122ff1d7a2a350a7db5c39719674ab",
     "grade": false,
     "grade_id": "build_df_code",
     "locked": true,
     "schema_version": 2,
     "solution": false
    }
   },
   "outputs": [],
   "source": [
    "import zipfile\n",
    "zf = zipfile.ZipFile(names_path, 'r')\n",
    "\n",
    "field_names = ['Name', 'Sex', 'Count']\n",
    "\n",
    "def load_dataframe_from_zip(zf, f):\n",
    "    with zf.open(f) as fh: \n",
    "        year = int(f.filename[3:7])\n",
    "        names = pd.read_csv(fh, header=None, names=field_names)\n",
    "        names[\"Year\"] = year\n",
    "        return names\n",
    "    \n",
    "# List comprehension\n",
    "states = [\n",
    "    load_dataframe_from_zip(zf, f)\n",
    "    for f in sorted(zf.filelist, key=lambda x:x.filename) \n",
    "    if f.filename.endswith('.txt')\n",
    "]\n",
    "\n",
    "baby_names = pd.concat(states).reset_index(drop=True)"
   ]
  },
  {
   "cell_type": "code",
   "execution_count": 18,
   "metadata": {
    "Xeditable": false,
    "deletable": false,
    "nbgrader": {
     "cell_type": "code",
     "checksum": "2d39e1dbb34acb291272b6fe9037dedd",
     "grade": false,
     "grade_id": "build_df_display",
     "locked": true,
     "schema_version": 2,
     "solution": false
    }
   },
   "outputs": [
    {
     "data": {
      "text/html": [
       "<div>\n",
       "<style scoped>\n",
       "    .dataframe tbody tr th:only-of-type {\n",
       "        vertical-align: middle;\n",
       "    }\n",
       "\n",
       "    .dataframe tbody tr th {\n",
       "        vertical-align: top;\n",
       "    }\n",
       "\n",
       "    .dataframe thead th {\n",
       "        text-align: right;\n",
       "    }\n",
       "</style>\n",
       "<table border=\"1\" class=\"dataframe\">\n",
       "  <thead>\n",
       "    <tr style=\"text-align: right;\">\n",
       "      <th></th>\n",
       "      <th>Name</th>\n",
       "      <th>Sex</th>\n",
       "      <th>Count</th>\n",
       "      <th>Year</th>\n",
       "    </tr>\n",
       "  </thead>\n",
       "  <tbody>\n",
       "    <tr>\n",
       "      <th>0</th>\n",
       "      <td>Mary</td>\n",
       "      <td>F</td>\n",
       "      <td>7065</td>\n",
       "      <td>1880</td>\n",
       "    </tr>\n",
       "    <tr>\n",
       "      <th>1</th>\n",
       "      <td>Anna</td>\n",
       "      <td>F</td>\n",
       "      <td>2604</td>\n",
       "      <td>1880</td>\n",
       "    </tr>\n",
       "    <tr>\n",
       "      <th>2</th>\n",
       "      <td>Emma</td>\n",
       "      <td>F</td>\n",
       "      <td>2003</td>\n",
       "      <td>1880</td>\n",
       "    </tr>\n",
       "    <tr>\n",
       "      <th>3</th>\n",
       "      <td>Elizabeth</td>\n",
       "      <td>F</td>\n",
       "      <td>1939</td>\n",
       "      <td>1880</td>\n",
       "    </tr>\n",
       "    <tr>\n",
       "      <th>4</th>\n",
       "      <td>Minnie</td>\n",
       "      <td>F</td>\n",
       "      <td>1746</td>\n",
       "      <td>1880</td>\n",
       "    </tr>\n",
       "  </tbody>\n",
       "</table>\n",
       "</div>"
      ],
      "text/plain": [
       "        Name Sex  Count  Year\n",
       "0       Mary   F   7065  1880\n",
       "1       Anna   F   2604  1880\n",
       "2       Emma   F   2003  1880\n",
       "3  Elizabeth   F   1939  1880\n",
       "4     Minnie   F   1746  1880"
      ]
     },
     "execution_count": 18,
     "metadata": {},
     "output_type": "execute_result"
    }
   ],
   "source": [
    "baby_names.head()"
   ]
  },
  {
   "cell_type": "code",
   "execution_count": 19,
   "metadata": {
    "Xeditable": false,
    "deletable": false,
    "nbgrader": {
     "cell_type": "code",
     "checksum": "942f1c76357a1055969d3e8ff4dbe419",
     "grade": false,
     "grade_id": "build_df_check_len",
     "locked": true,
     "schema_version": 2,
     "solution": false
    }
   },
   "outputs": [
    {
     "data": {
      "text/plain": [
       "1957046"
      ]
     },
     "execution_count": 19,
     "metadata": {},
     "output_type": "execute_result"
    }
   ],
   "source": [
    "len(baby_names)"
   ]
  },
  {
   "cell_type": "markdown",
   "metadata": {
    "Xeditable": false,
    "deletable": false,
    "nbgrader": {
     "cell_type": "markdown",
     "checksum": "b1049b08ee5b7ea48afdd7dcfa27e2d7",
     "grade": false,
     "grade_id": "slicing",
     "locked": true,
     "schema_version": 2,
     "solution": false
    }
   },
   "source": [
    "## Slicing Data Frames - selecting rows and columns\n"
   ]
  },
  {
   "cell_type": "markdown",
   "metadata": {
    "Xeditable": false,
    "deletable": false,
    "nbgrader": {
     "cell_type": "markdown",
     "checksum": "5b0f0e30ee61059eb9cb3c6dc1be4505",
     "grade": false,
     "grade_id": "slicing_text",
     "locked": true,
     "schema_version": 2,
     "solution": false
    }
   },
   "source": [
    "### Selection Using Label\n",
    "\n",
    "**Column Selection** \n",
    "To select a column of a `DataFrame` by column label, the safest and fastest way is to use the `.loc` [method](https://pandas.pydata.org/pandas-docs/stable/generated/pandas.DataFrame.loc.html). General usage looks like `frame.loc[rowname,colname]`. (Reminder that the colon `:` means \"everything\").\n",
    "\n",
    "- You can also slice across columns. For example, `baby_names.loc[:, 'Name':]` would give select the columns `Name` and the columns after.\n",
    "\n",
    "- *Alternative:* While `.loc` is invaluable when writing production code, it may be a little too verbose for interactive use. One recommended alternative is the `[]` method, which takes on the form `frame['colname']`.\n",
    "\n",
    "**Row Selection**\n",
    "Similarly, if we want to select a row by its label, we can use the same `.loc` method. In this case, the \"label\" of each row refers to the index (ie. primary key) of the dataframe."
   ]
  },
  {
   "cell_type": "code",
   "execution_count": 20,
   "metadata": {
    "Xeditable": false,
    "deletable": false,
    "nbgrader": {
     "cell_type": "code",
     "checksum": "8143966048f8deaf26b30cb5e4c1c930",
     "grade": false,
     "grade_id": "slicing_e1",
     "locked": true,
     "schema_version": 2,
     "solution": false
    }
   },
   "outputs": [
    {
     "data": {
      "text/plain": [
       "2         Emma\n",
       "3    Elizabeth\n",
       "4       Minnie\n",
       "5     Margaret\n",
       "Name: Name, dtype: object"
      ]
     },
     "execution_count": 20,
     "metadata": {},
     "output_type": "execute_result"
    }
   ],
   "source": [
    "#Example:\n",
    "baby_names.loc[2:5, 'Name']"
   ]
  },
  {
   "cell_type": "code",
   "execution_count": 21,
   "metadata": {
    "Xeditable": false,
    "deletable": false,
    "nbgrader": {
     "cell_type": "code",
     "checksum": "349ade649bf5192507005b620bedb086",
     "grade": false,
     "grade_id": "slicing_e2",
     "locked": true,
     "schema_version": 2,
     "solution": false
    }
   },
   "outputs": [
    {
     "data": {
      "text/html": [
       "<div>\n",
       "<style scoped>\n",
       "    .dataframe tbody tr th:only-of-type {\n",
       "        vertical-align: middle;\n",
       "    }\n",
       "\n",
       "    .dataframe tbody tr th {\n",
       "        vertical-align: top;\n",
       "    }\n",
       "\n",
       "    .dataframe thead th {\n",
       "        text-align: right;\n",
       "    }\n",
       "</style>\n",
       "<table border=\"1\" class=\"dataframe\">\n",
       "  <thead>\n",
       "    <tr style=\"text-align: right;\">\n",
       "      <th></th>\n",
       "      <th>Name</th>\n",
       "    </tr>\n",
       "  </thead>\n",
       "  <tbody>\n",
       "    <tr>\n",
       "      <th>2</th>\n",
       "      <td>Emma</td>\n",
       "    </tr>\n",
       "    <tr>\n",
       "      <th>3</th>\n",
       "      <td>Elizabeth</td>\n",
       "    </tr>\n",
       "    <tr>\n",
       "      <th>4</th>\n",
       "      <td>Minnie</td>\n",
       "    </tr>\n",
       "    <tr>\n",
       "      <th>5</th>\n",
       "      <td>Margaret</td>\n",
       "    </tr>\n",
       "  </tbody>\n",
       "</table>\n",
       "</div>"
      ],
      "text/plain": [
       "        Name\n",
       "2       Emma\n",
       "3  Elizabeth\n",
       "4     Minnie\n",
       "5   Margaret"
      ]
     },
     "execution_count": 21,
     "metadata": {},
     "output_type": "execute_result"
    }
   ],
   "source": [
    "#Example:  Notice the difference between these two methods\n",
    "baby_names.loc[2:5, ['Name']]"
   ]
  },
  {
   "cell_type": "markdown",
   "metadata": {
    "Xeditable": false,
    "deletable": false,
    "nbgrader": {
     "cell_type": "markdown",
     "checksum": "57aeef5dfda01fc9d97c5a6166b10a95",
     "grade": false,
     "grade_id": "slicing_loc_iloc",
     "locked": true,
     "schema_version": 2,
     "solution": false
    }
   },
   "source": [
    "The `.loc` actually uses the index (the bolded, leftmost series in the dataframe) rather than the row location to perform the selection. The previous example is just a coincidence that it matches the array slicing syntax - the index and row location aren't always the same value. For example, you could set your index to a non-numeric code, like a serial number or other unique ID, if that's how you want to identify your records.\n",
    "\n",
    "But we can always uses [`.iloc`](http://pandas.pydata.org/pandas-docs/version/0.17.0/generated/pandas.DataFrame.iloc.html) to slicing the dataframe using row location and column location.\n",
    "\n",
    "See the following example:"
   ]
  },
  {
   "cell_type": "code",
   "execution_count": 22,
   "metadata": {
    "Xeditable": false,
    "deletable": false,
    "nbgrader": {
     "cell_type": "code",
     "checksum": "eb38bd97b35cddff127a530fe08d0091",
     "grade": false,
     "grade_id": "slicing_e3",
     "locked": true,
     "schema_version": 2,
     "solution": false
    }
   },
   "outputs": [
    {
     "data": {
      "text/html": [
       "<div>\n",
       "<style scoped>\n",
       "    .dataframe tbody tr th:only-of-type {\n",
       "        vertical-align: middle;\n",
       "    }\n",
       "\n",
       "    .dataframe tbody tr th {\n",
       "        vertical-align: top;\n",
       "    }\n",
       "\n",
       "    .dataframe thead th {\n",
       "        text-align: right;\n",
       "    }\n",
       "</style>\n",
       "<table border=\"1\" class=\"dataframe\">\n",
       "  <thead>\n",
       "    <tr style=\"text-align: right;\">\n",
       "      <th></th>\n",
       "      <th>Sex</th>\n",
       "      <th>Count</th>\n",
       "      <th>Year</th>\n",
       "    </tr>\n",
       "    <tr>\n",
       "      <th>Name</th>\n",
       "      <th></th>\n",
       "      <th></th>\n",
       "      <th></th>\n",
       "    </tr>\n",
       "  </thead>\n",
       "  <tbody>\n",
       "    <tr>\n",
       "      <th>Mary</th>\n",
       "      <td>F</td>\n",
       "      <td>7065</td>\n",
       "      <td>1880</td>\n",
       "    </tr>\n",
       "    <tr>\n",
       "      <th>Anna</th>\n",
       "      <td>F</td>\n",
       "      <td>2604</td>\n",
       "      <td>1880</td>\n",
       "    </tr>\n",
       "    <tr>\n",
       "      <th>Emma</th>\n",
       "      <td>F</td>\n",
       "      <td>2003</td>\n",
       "      <td>1880</td>\n",
       "    </tr>\n",
       "    <tr>\n",
       "      <th>Elizabeth</th>\n",
       "      <td>F</td>\n",
       "      <td>1939</td>\n",
       "      <td>1880</td>\n",
       "    </tr>\n",
       "    <tr>\n",
       "      <th>Minnie</th>\n",
       "      <td>F</td>\n",
       "      <td>1746</td>\n",
       "      <td>1880</td>\n",
       "    </tr>\n",
       "  </tbody>\n",
       "</table>\n",
       "</div>"
      ],
      "text/plain": [
       "          Sex  Count  Year\n",
       "Name                      \n",
       "Mary        F   7065  1880\n",
       "Anna        F   2604  1880\n",
       "Emma        F   2003  1880\n",
       "Elizabeth   F   1939  1880\n",
       "Minnie      F   1746  1880"
      ]
     },
     "execution_count": 22,
     "metadata": {},
     "output_type": "execute_result"
    }
   ],
   "source": [
    "#Example: We change the index from 0,1,2... to the Name column\n",
    "df = baby_names[:5].set_index(\"Name\") \n",
    "df"
   ]
  },
  {
   "cell_type": "markdown",
   "metadata": {
    "Xeditable": false,
    "deletable": false,
    "nbgrader": {
     "cell_type": "markdown",
     "checksum": "47a832a1eaeefea0bcab41a2a18e7ced",
     "grade": false,
     "grade_id": "slicing_loc_index",
     "locked": true,
     "schema_version": 2,
     "solution": false
    }
   },
   "source": [
    "We can now lookup rows by name directly:"
   ]
  },
  {
   "cell_type": "code",
   "execution_count": 23,
   "metadata": {
    "Xeditable": false,
    "deletable": false,
    "nbgrader": {
     "cell_type": "code",
     "checksum": "f781f00da455dc281cc32b7cad134910",
     "grade": false,
     "grade_id": "slicing_loc_index_code",
     "locked": true,
     "schema_version": 2,
     "solution": false
    }
   },
   "outputs": [
    {
     "data": {
      "text/html": [
       "<div>\n",
       "<style scoped>\n",
       "    .dataframe tbody tr th:only-of-type {\n",
       "        vertical-align: middle;\n",
       "    }\n",
       "\n",
       "    .dataframe tbody tr th {\n",
       "        vertical-align: top;\n",
       "    }\n",
       "\n",
       "    .dataframe thead th {\n",
       "        text-align: right;\n",
       "    }\n",
       "</style>\n",
       "<table border=\"1\" class=\"dataframe\">\n",
       "  <thead>\n",
       "    <tr style=\"text-align: right;\">\n",
       "      <th></th>\n",
       "      <th>Sex</th>\n",
       "      <th>Count</th>\n",
       "      <th>Year</th>\n",
       "    </tr>\n",
       "    <tr>\n",
       "      <th>Name</th>\n",
       "      <th></th>\n",
       "      <th></th>\n",
       "      <th></th>\n",
       "    </tr>\n",
       "  </thead>\n",
       "  <tbody>\n",
       "    <tr>\n",
       "      <th>Mary</th>\n",
       "      <td>F</td>\n",
       "      <td>7065</td>\n",
       "      <td>1880</td>\n",
       "    </tr>\n",
       "    <tr>\n",
       "      <th>Anna</th>\n",
       "      <td>F</td>\n",
       "      <td>2604</td>\n",
       "      <td>1880</td>\n",
       "    </tr>\n",
       "  </tbody>\n",
       "</table>\n",
       "</div>"
      ],
      "text/plain": [
       "     Sex  Count  Year\n",
       "Name                 \n",
       "Mary   F   7065  1880\n",
       "Anna   F   2604  1880"
      ]
     },
     "execution_count": 23,
     "metadata": {},
     "output_type": "execute_result"
    }
   ],
   "source": [
    "df.loc[['Mary', 'Anna'], :]"
   ]
  },
  {
   "cell_type": "markdown",
   "metadata": {
    "Xeditable": false,
    "deletable": false,
    "nbgrader": {
     "cell_type": "markdown",
     "checksum": "11555cb1a308ac2e5e49b55406dd213a",
     "grade": false,
     "grade_id": "slicing_iloc",
     "locked": true,
     "schema_version": 2,
     "solution": false
    }
   },
   "source": [
    "However, if we want to access rows by location we will need to use the integer loc (`iloc`) accessor:"
   ]
  },
  {
   "cell_type": "code",
   "execution_count": 24,
   "metadata": {
    "Xeditable": false,
    "deletable": false,
    "nbgrader": {
     "cell_type": "code",
     "checksum": "eb461e9222a567c1b53de823b9a8e28b",
     "grade": false,
     "grade_id": "slicing_iloc_code",
     "locked": true,
     "schema_version": 2,
     "solution": false
    }
   },
   "outputs": [
    {
     "data": {
      "text/html": [
       "<div>\n",
       "<style scoped>\n",
       "    .dataframe tbody tr th:only-of-type {\n",
       "        vertical-align: middle;\n",
       "    }\n",
       "\n",
       "    .dataframe tbody tr th {\n",
       "        vertical-align: top;\n",
       "    }\n",
       "\n",
       "    .dataframe thead th {\n",
       "        text-align: right;\n",
       "    }\n",
       "</style>\n",
       "<table border=\"1\" class=\"dataframe\">\n",
       "  <thead>\n",
       "    <tr style=\"text-align: right;\">\n",
       "      <th></th>\n",
       "      <th>Count</th>\n",
       "      <th>Year</th>\n",
       "    </tr>\n",
       "    <tr>\n",
       "      <th>Name</th>\n",
       "      <th></th>\n",
       "      <th></th>\n",
       "    </tr>\n",
       "  </thead>\n",
       "  <tbody>\n",
       "    <tr>\n",
       "      <th>Anna</th>\n",
       "      <td>2604</td>\n",
       "      <td>1880</td>\n",
       "    </tr>\n",
       "    <tr>\n",
       "      <th>Emma</th>\n",
       "      <td>2003</td>\n",
       "      <td>1880</td>\n",
       "    </tr>\n",
       "    <tr>\n",
       "      <th>Elizabeth</th>\n",
       "      <td>1939</td>\n",
       "      <td>1880</td>\n",
       "    </tr>\n",
       "  </tbody>\n",
       "</table>\n",
       "</div>"
      ],
      "text/plain": [
       "           Count  Year\n",
       "Name                  \n",
       "Anna        2604  1880\n",
       "Emma        2003  1880\n",
       "Elizabeth   1939  1880"
      ]
     },
     "execution_count": 24,
     "metadata": {},
     "output_type": "execute_result"
    }
   ],
   "source": [
    "#Example: \n",
    "#df.loc[2:5,\"Year\"] You can't do this\n",
    "df.iloc[1:4,1:3]"
   ]
  },
  {
   "cell_type": "markdown",
   "metadata": {
    "Xeditable": false,
    "deletable": false,
    "nbgrader": {
     "cell_type": "markdown",
     "checksum": "1af23729c0ab6ed859782d980b106817",
     "grade": false,
     "grade_id": "q4",
     "locked": true,
     "schema_version": 2,
     "solution": false
    }
   },
   "source": [
    "### Question 4\n",
    "\n",
    "Selecting multiple columns is easy.  You just need to supply a list of column names.  Select the `Year` and `Name` **in that order** from the `baby_names` table."
   ]
  },
  {
   "cell_type": "code",
   "execution_count": 25,
   "metadata": {
    "deletable": false,
    "nbgrader": {
     "cell_type": "code",
     "checksum": "51ca684cce2b29a60a4d527bd9e48d0b",
     "grade": false,
     "grade_id": "q4_answer",
     "locked": false,
     "schema_version": 2,
     "solution": true
    }
   },
   "outputs": [],
   "source": [
    "year_and_name = baby_names.loc[:, [\"Year\", \"Name\"]]\n",
    "# YOUR CODE HERE\n",
    "#raise NotImplementedError()"
   ]
  },
  {
   "cell_type": "code",
   "execution_count": 26,
   "metadata": {
    "Xeditable": false,
    "deletable": false,
    "nbgrader": {
     "cell_type": "code",
     "checksum": "91e52e7017af70c6b15a35cb45b34b43",
     "grade": false,
     "grade_id": "q4_display",
     "locked": true,
     "schema_version": 2,
     "solution": false
    }
   },
   "outputs": [
    {
     "data": {
      "text/html": [
       "<div>\n",
       "<style scoped>\n",
       "    .dataframe tbody tr th:only-of-type {\n",
       "        vertical-align: middle;\n",
       "    }\n",
       "\n",
       "    .dataframe tbody tr th {\n",
       "        vertical-align: top;\n",
       "    }\n",
       "\n",
       "    .dataframe thead th {\n",
       "        text-align: right;\n",
       "    }\n",
       "</style>\n",
       "<table border=\"1\" class=\"dataframe\">\n",
       "  <thead>\n",
       "    <tr style=\"text-align: right;\">\n",
       "      <th></th>\n",
       "      <th>Year</th>\n",
       "      <th>Name</th>\n",
       "    </tr>\n",
       "  </thead>\n",
       "  <tbody>\n",
       "    <tr>\n",
       "      <th>0</th>\n",
       "      <td>1880</td>\n",
       "      <td>Mary</td>\n",
       "    </tr>\n",
       "    <tr>\n",
       "      <th>1</th>\n",
       "      <td>1880</td>\n",
       "      <td>Anna</td>\n",
       "    </tr>\n",
       "    <tr>\n",
       "      <th>2</th>\n",
       "      <td>1880</td>\n",
       "      <td>Emma</td>\n",
       "    </tr>\n",
       "    <tr>\n",
       "      <th>3</th>\n",
       "      <td>1880</td>\n",
       "      <td>Elizabeth</td>\n",
       "    </tr>\n",
       "    <tr>\n",
       "      <th>4</th>\n",
       "      <td>1880</td>\n",
       "      <td>Minnie</td>\n",
       "    </tr>\n",
       "  </tbody>\n",
       "</table>\n",
       "</div>"
      ],
      "text/plain": [
       "   Year       Name\n",
       "0  1880       Mary\n",
       "1  1880       Anna\n",
       "2  1880       Emma\n",
       "3  1880  Elizabeth\n",
       "4  1880     Minnie"
      ]
     },
     "execution_count": 26,
     "metadata": {},
     "output_type": "execute_result"
    }
   ],
   "source": [
    "year_and_name[:5]"
   ]
  },
  {
   "cell_type": "code",
   "execution_count": 27,
   "metadata": {
    "Xeditable": false,
    "deletable": false,
    "nbgrader": {
     "cell_type": "code",
     "checksum": "75728e1f0fc86c18ee7db935525b29cd",
     "grade": true,
     "grade_id": "q4_test",
     "locked": true,
     "points": 1,
     "schema_version": 2,
     "solution": false
    },
    "tags": [
     "solution"
    ]
   },
   "outputs": [],
   "source": [
    "assert year_and_name.shape == (1957046, 2)\n",
    "assert year_and_name.columns[0] == \"Year\""
   ]
  },
  {
   "cell_type": "markdown",
   "metadata": {
    "Xeditable": false,
    "deletable": false,
    "nbgrader": {
     "cell_type": "markdown",
     "checksum": "6779a891e75e0ef03369773442df36ca",
     "grade": false,
     "grade_id": "q4_hint",
     "locked": true,
     "schema_version": 2,
     "solution": false
    }
   },
   "source": [
    "As you may have noticed above, the .loc() method is a way to re-order the columns within a dataframe."
   ]
  },
  {
   "cell_type": "markdown",
   "metadata": {
    "Xeditable": false,
    "deletable": false,
    "nbgrader": {
     "cell_type": "markdown",
     "checksum": "2f923f7997e8a6ee25df11e73fd2f9f5",
     "grade": false,
     "grade_id": "filter_data",
     "locked": true,
     "schema_version": 2,
     "solution": false
    }
   },
   "source": [
    "## Filtering Data"
   ]
  },
  {
   "cell_type": "markdown",
   "metadata": {
    "Xeditable": false,
    "deletable": false,
    "nbgrader": {
     "cell_type": "markdown",
     "checksum": "fbd36d05d9f82b923a5659964ebfde08",
     "grade": false,
     "grade_id": "filter_data_op",
     "locked": true,
     "schema_version": 2,
     "solution": false
    }
   },
   "source": [
    "### Filtering with boolean arrays\n",
    "\n",
    "Filtering is the process of removing unwanted material.  In your quest for cleaner data, you will undoubtedly filter your data at some point: whether it be for clearing up cases with missing values, culling out fishy outliers, or analyzing subgroups of your data set.  Note that compound expressions have to be grouped with brackets. Example usage looks like `df[df[column name] < 5]]`.\n",
    "\n",
    "For your reference, some commonly used comparison operators are given below.\n",
    "\n",
    "Symbol | Usage      | Meaning \n",
    "------ | ---------- | -------------------------------------\n",
    "==   | a == b   | Does a equal b?\n",
    "<=   | a <= b   | Is a less than or equal to b?\n",
    ">=   | a >= b   | Is a greater than or equal to b?\n",
    "<    | a < b    | Is a less than b?\n",
    "&#62;    | a &#62; b    | Is a greater than b?\n",
    "~    | ~p       | Returns negation of p\n",
    "&#124; | p &#124; q | p OR q\n",
    "&    | p & q    | p AND q\n",
    "^  | p ^ q | p XOR q (exclusive or)"
   ]
  },
  {
   "cell_type": "markdown",
   "metadata": {
    "Xeditable": false,
    "deletable": false,
    "nbgrader": {
     "cell_type": "markdown",
     "checksum": "df6c3d35afee1eafa87bcf3c709f42d8",
     "grade": false,
     "grade_id": "filter_ca",
     "locked": true,
     "schema_version": 2,
     "solution": false
    }
   },
   "source": [
    "In the following we construct the DataFrame containing only babies born in the year 2000."
   ]
  },
  {
   "cell_type": "code",
   "execution_count": 28,
   "metadata": {
    "Xeditable": false,
    "deletable": false,
    "nbgrader": {
     "cell_type": "code",
     "checksum": "b6da965b246b8732dea8ecc8f07f804d",
     "grade": false,
     "grade_id": "filter_ca_code",
     "locked": true,
     "schema_version": 2,
     "solution": false
    }
   },
   "outputs": [],
   "source": [
    "baby_2000 = baby_names[baby_names['Year'] == 2000]"
   ]
  },
  {
   "cell_type": "markdown",
   "metadata": {
    "Xeditable": false,
    "deletable": false,
    "nbgrader": {
     "cell_type": "markdown",
     "checksum": "1564c1e7d130742c61dc667f6fa05776",
     "grade": false,
     "grade_id": "q5a",
     "locked": true,
     "schema_version": 2,
     "solution": false
    }
   },
   "source": [
    "### Question 5\n",
    "Select the female names in Year 2000 (for all baby_names) that have larger than 3000 counts.\n",
    "\n",
    "(If you use condition `p` & condition `q` to filter the dataframe, make sure to use `df[(df[p]) & (df[q])]`)"
   ]
  },
  {
   "cell_type": "code",
   "execution_count": 29,
   "metadata": {
    "deletable": false,
    "nbgrader": {
     "cell_type": "code",
     "checksum": "623970e65ce96d751866ee6093e81de3",
     "grade": false,
     "grade_id": "q5a_answer",
     "locked": false,
     "schema_version": 2,
     "solution": true
    }
   },
   "outputs": [],
   "source": [
    "baby_2000_f = baby_2000[(baby_2000[\"Sex\"] == \"F\") & (baby_2000[\"Count\"] > 3000)]\n",
    "# YOUR CODE HERE\n",
    "#raise NotImplementedError()"
   ]
  },
  {
   "cell_type": "code",
   "execution_count": 30,
   "metadata": {
    "Xeditable": false,
    "deletable": false,
    "nbgrader": {
     "cell_type": "code",
     "checksum": "206a5191d3b958cf3133dbd18216159b",
     "grade": false,
     "grade_id": "q5a_display",
     "locked": true,
     "schema_version": 2,
     "solution": false
    }
   },
   "outputs": [
    {
     "data": {
      "text/html": [
       "<div>\n",
       "<style scoped>\n",
       "    .dataframe tbody tr th:only-of-type {\n",
       "        vertical-align: middle;\n",
       "    }\n",
       "\n",
       "    .dataframe tbody tr th {\n",
       "        vertical-align: top;\n",
       "    }\n",
       "\n",
       "    .dataframe thead th {\n",
       "        text-align: right;\n",
       "    }\n",
       "</style>\n",
       "<table border=\"1\" class=\"dataframe\">\n",
       "  <thead>\n",
       "    <tr style=\"text-align: right;\">\n",
       "      <th></th>\n",
       "      <th>Name</th>\n",
       "      <th>Sex</th>\n",
       "      <th>Count</th>\n",
       "      <th>Year</th>\n",
       "    </tr>\n",
       "  </thead>\n",
       "  <tbody>\n",
       "    <tr>\n",
       "      <th>1332810</th>\n",
       "      <td>Emily</td>\n",
       "      <td>F</td>\n",
       "      <td>25956</td>\n",
       "      <td>2000</td>\n",
       "    </tr>\n",
       "    <tr>\n",
       "      <th>1332811</th>\n",
       "      <td>Hannah</td>\n",
       "      <td>F</td>\n",
       "      <td>23082</td>\n",
       "      <td>2000</td>\n",
       "    </tr>\n",
       "    <tr>\n",
       "      <th>1332812</th>\n",
       "      <td>Madison</td>\n",
       "      <td>F</td>\n",
       "      <td>19968</td>\n",
       "      <td>2000</td>\n",
       "    </tr>\n",
       "    <tr>\n",
       "      <th>1332813</th>\n",
       "      <td>Ashley</td>\n",
       "      <td>F</td>\n",
       "      <td>17997</td>\n",
       "      <td>2000</td>\n",
       "    </tr>\n",
       "    <tr>\n",
       "      <th>1332814</th>\n",
       "      <td>Sarah</td>\n",
       "      <td>F</td>\n",
       "      <td>17702</td>\n",
       "      <td>2000</td>\n",
       "    </tr>\n",
       "  </tbody>\n",
       "</table>\n",
       "</div>"
      ],
      "text/plain": [
       "            Name Sex  Count  Year\n",
       "1332810    Emily   F  25956  2000\n",
       "1332811   Hannah   F  23082  2000\n",
       "1332812  Madison   F  19968  2000\n",
       "1332813   Ashley   F  17997  2000\n",
       "1332814    Sarah   F  17702  2000"
      ]
     },
     "execution_count": 30,
     "metadata": {},
     "output_type": "execute_result"
    }
   ],
   "source": [
    "baby_2000_f.head()"
   ]
  },
  {
   "cell_type": "code",
   "execution_count": 31,
   "metadata": {
    "Xeditable": false,
    "deletable": false,
    "nbgrader": {
     "cell_type": "code",
     "checksum": "6c09b858b6e955e60a57ad31840de09c",
     "grade": true,
     "grade_id": "q5a_test",
     "locked": true,
     "points": 1,
     "schema_version": 2,
     "solution": false
    }
   },
   "outputs": [],
   "source": [
    "assert len(baby_2000_f) == 113\n",
    "assert baby_2000_f[\"Count\"].sum() == 803955"
   ]
  },
  {
   "cell_type": "markdown",
   "metadata": {
    "Xeditable": false,
    "deletable": false,
    "nbgrader": {
     "cell_type": "markdown",
     "checksum": "9aa01b4bf71595659886a147c89f09d6",
     "grade": false,
     "grade_id": "q6a",
     "locked": true,
     "schema_version": 2,
     "solution": false
    }
   },
   "source": [
    "## Data Aggregration (Grouping Data Frames)\n",
    "\n",
    "### Question 6\n",
    "To count the number of instances of a value in a `Series`, we can use the `value_counts()` [method](https://pandas.pydata.org/pandas-docs/stable/generated/pandas.Series.value_counts.html) as `df[\"col_name\"].value_counts()`. \n",
    "\n",
    "Count the number of different names for each sex in the year 2000. (You may use the `baby_2000` DataFrame created above.)\n",
    "\n",
    "**Note:** *We are not computing the number of babies but instead the number of names (rows in the table) for each year.*"
   ]
  },
  {
   "cell_type": "code",
   "execution_count": 32,
   "metadata": {
    "deletable": false,
    "nbgrader": {
     "cell_type": "code",
     "checksum": "9ba2752561377b7eab972d2df224115d",
     "grade": false,
     "grade_id": "q6a_answer",
     "locked": false,
     "schema_version": 2,
     "solution": true
    }
   },
   "outputs": [],
   "source": [
    "num_of_names_mf = baby_2000[\"Sex\"].value_counts()\n",
    "# YOUR CODE HERE\n",
    "#raise NotImplementedError()"
   ]
  },
  {
   "cell_type": "code",
   "execution_count": 33,
   "metadata": {
    "Xeditable": false,
    "deletable": false,
    "nbgrader": {
     "cell_type": "code",
     "checksum": "386ddc7e67118d05d38f3d27afc608f7",
     "grade": false,
     "grade_id": "q6a_display",
     "locked": true,
     "schema_version": 2,
     "solution": false
    }
   },
   "outputs": [
    {
     "data": {
      "text/plain": [
       "F    17655\n",
       "M    12117\n",
       "Name: Sex, dtype: int64"
      ]
     },
     "execution_count": 33,
     "metadata": {},
     "output_type": "execute_result"
    }
   ],
   "source": [
    "num_of_names_mf"
   ]
  },
  {
   "cell_type": "code",
   "execution_count": 34,
   "metadata": {
    "Xeditable": false,
    "deletable": false,
    "nbgrader": {
     "cell_type": "code",
     "checksum": "4d05f5b293b285577bd895985ad620e9",
     "grade": true,
     "grade_id": "q6a_test",
     "locked": true,
     "points": 1,
     "schema_version": 2,
     "solution": false
    }
   },
   "outputs": [],
   "source": [
    "assert num_of_names_mf[\"M\"] == 12117\n",
    "assert num_of_names_mf.sum() == len(baby_2000)"
   ]
  },
  {
   "cell_type": "markdown",
   "metadata": {
    "Xeditable": false,
    "deletable": false,
    "nbgrader": {
     "cell_type": "markdown",
     "checksum": "71f10843becd64d91cc3caf0dc913254",
     "grade": false,
     "grade_id": "q7a",
     "locked": true,
     "schema_version": 2,
     "solution": false
    }
   },
   "source": [
    "### Question 7a\n",
    "\n",
    "A more versatile way to aggregate data is to use the `.groupby()` [function](https://pandas.pydata.org/pandas-docs/stable/generated/pandas.DataFrame.groupby.html). Find the sum of `Count` for each `Name` in the `baby_names` table (the dataframe with baby names for all years). You should use `df.groupby(\"col_name\").sum()`. Your result should be a Pandas Series.\n",
    "\n",
    "**Note:** *In this question we are now computing the total number of registered babies from 1880-2018 with a given name.*"
   ]
  },
  {
   "cell_type": "code",
   "execution_count": 35,
   "metadata": {
    "deletable": false,
    "nbgrader": {
     "cell_type": "code",
     "checksum": "28183c9de04d02850f72fabe013776c1",
     "grade": false,
     "grade_id": "q7a_answer",
     "locked": false,
     "schema_version": 2,
     "solution": true
    }
   },
   "outputs": [],
   "source": [
    "count_for_names = baby_names.groupby(\"Name\").sum()\n",
    "# YOUR CODE HERE\n",
    "# raise NotImplementedError()"
   ]
  },
  {
   "cell_type": "code",
   "execution_count": 36,
   "metadata": {
    "Xeditable": false,
    "deletable": false,
    "nbgrader": {
     "cell_type": "code",
     "checksum": "d7b63c16d9e3b4db64e1ce1800b35f74",
     "grade": false,
     "grade_id": "q7a_display",
     "locked": true,
     "schema_version": 2,
     "solution": false
    }
   },
   "outputs": [
    {
     "data": {
      "text/html": [
       "<div>\n",
       "<style scoped>\n",
       "    .dataframe tbody tr th:only-of-type {\n",
       "        vertical-align: middle;\n",
       "    }\n",
       "\n",
       "    .dataframe tbody tr th {\n",
       "        vertical-align: top;\n",
       "    }\n",
       "\n",
       "    .dataframe thead th {\n",
       "        text-align: right;\n",
       "    }\n",
       "</style>\n",
       "<table border=\"1\" class=\"dataframe\">\n",
       "  <thead>\n",
       "    <tr style=\"text-align: right;\">\n",
       "      <th></th>\n",
       "      <th>Count</th>\n",
       "      <th>Year</th>\n",
       "    </tr>\n",
       "    <tr>\n",
       "      <th>Name</th>\n",
       "      <th></th>\n",
       "      <th></th>\n",
       "    </tr>\n",
       "  </thead>\n",
       "  <tbody>\n",
       "    <tr>\n",
       "      <th>James</th>\n",
       "      <td>5187679</td>\n",
       "      <td>541822</td>\n",
       "    </tr>\n",
       "    <tr>\n",
       "      <th>John</th>\n",
       "      <td>5146508</td>\n",
       "      <td>541822</td>\n",
       "    </tr>\n",
       "    <tr>\n",
       "      <th>Robert</th>\n",
       "      <td>4840228</td>\n",
       "      <td>535771</td>\n",
       "    </tr>\n",
       "    <tr>\n",
       "      <th>Michael</th>\n",
       "      <td>4384463</td>\n",
       "      <td>490699</td>\n",
       "    </tr>\n",
       "    <tr>\n",
       "      <th>Mary</th>\n",
       "      <td>4140840</td>\n",
       "      <td>525715</td>\n",
       "    </tr>\n",
       "  </tbody>\n",
       "</table>\n",
       "</div>"
      ],
      "text/plain": [
       "           Count    Year\n",
       "Name                    \n",
       "James    5187679  541822\n",
       "John     5146508  541822\n",
       "Robert   4840228  535771\n",
       "Michael  4384463  490699\n",
       "Mary     4140840  525715"
      ]
     },
     "execution_count": 36,
     "metadata": {},
     "output_type": "execute_result"
    }
   ],
   "source": [
    "count_for_names.sort_values(by = \"Count\", ascending=False)[:5]"
   ]
  },
  {
   "cell_type": "code",
   "execution_count": 37,
   "metadata": {
    "Xeditable": false,
    "deletable": false,
    "nbgrader": {
     "cell_type": "code",
     "checksum": "ca8e4813c4e1b0b23e0392a86e3e59aa",
     "grade": true,
     "grade_id": "q7a_test",
     "locked": true,
     "points": 1,
     "schema_version": 2,
     "solution": false
    }
   },
   "outputs": [],
   "source": [
    "assert count_for_names.loc[\"Michael\", \"Count\"] == 4384463\n",
    "assert count_for_names.sort_values(by = \"Count\", ascending=False).index[0] == \"James\""
   ]
  },
  {
   "cell_type": "markdown",
   "metadata": {},
   "source": [
    "### Question 7b\n",
    "\n",
    "What do the values in `Year` represent in the dataframe `count_for_names`? How come the column `Sex` is no longer present in the dataframe?"
   ]
  },
  {
   "cell_type": "markdown",
   "metadata": {},
   "source": [
    "`Year` is the sum of all years where a given name appears. Although this isn't particularly meaningful to us, it's how Python interprets the `.sum()` method of `groupby()` - it takes the sum of all numeric values in the dataframe, grouped by the specified column (`Name`).\n",
    "\n",
    "`Sex` is no longer present in the dataframe because it's not a numeric value. Python isn't able to sum it, so it drops it. We could keep sex by grouping by both `Name` and `Sex` in the groupby - that way, we would get a dataframe that has the total number of registered babies by both name and sex (for example, male Taylors and female Taylors would have two separate rows in such a dataframe, while they share one row in this dataframe)."
   ]
  },
  {
   "cell_type": "markdown",
   "metadata": {
    "Xeditable": false,
    "deletable": false,
    "nbgrader": {
     "cell_type": "markdown",
     "checksum": "c5d5d1184dc1c9a5114301ea2f8b6d4c",
     "grade": false,
     "grade_id": "q7b",
     "locked": true,
     "schema_version": 2,
     "solution": false
    }
   },
   "source": [
    "### Question 7c\n",
    "\n",
    "Find the sum of `Count` for each female name after year 1999 (`>1999`).\n"
   ]
  },
  {
   "cell_type": "code",
   "execution_count": 38,
   "metadata": {
    "deletable": false,
    "nbgrader": {
     "cell_type": "code",
     "checksum": "2cb5a6d5cb19db2cf859484ed9fb4a42",
     "grade": false,
     "grade_id": "q7b_answer",
     "locked": false,
     "schema_version": 2,
     "solution": true
    }
   },
   "outputs": [],
   "source": [
    "female_name_count = baby_names[(baby_names[\"Sex\"] == \"F\") & (baby_names[\"Year\"] > 1999)].groupby(\"Name\").sum()\n",
    "# YOUR CODE HERE\n",
    "# raise NotImplementedError()"
   ]
  },
  {
   "cell_type": "code",
   "execution_count": 39,
   "metadata": {
    "Xeditable": false,
    "deletable": false,
    "nbgrader": {
     "cell_type": "code",
     "checksum": "c9f8ed9c2f02ae22d45917a271057b8a",
     "grade": false,
     "grade_id": "q7b_display",
     "locked": true,
     "schema_version": 2,
     "solution": false
    }
   },
   "outputs": [
    {
     "data": {
      "text/html": [
       "<div>\n",
       "<style scoped>\n",
       "    .dataframe tbody tr th:only-of-type {\n",
       "        vertical-align: middle;\n",
       "    }\n",
       "\n",
       "    .dataframe tbody tr th {\n",
       "        vertical-align: top;\n",
       "    }\n",
       "\n",
       "    .dataframe thead th {\n",
       "        text-align: right;\n",
       "    }\n",
       "</style>\n",
       "<table border=\"1\" class=\"dataframe\">\n",
       "  <thead>\n",
       "    <tr style=\"text-align: right;\">\n",
       "      <th></th>\n",
       "      <th>Count</th>\n",
       "      <th>Year</th>\n",
       "    </tr>\n",
       "    <tr>\n",
       "      <th>Name</th>\n",
       "      <th></th>\n",
       "      <th></th>\n",
       "    </tr>\n",
       "  </thead>\n",
       "  <tbody>\n",
       "    <tr>\n",
       "      <th>Emma</th>\n",
       "      <td>358667</td>\n",
       "      <td>38171</td>\n",
       "    </tr>\n",
       "    <tr>\n",
       "      <th>Emily</th>\n",
       "      <td>332839</td>\n",
       "      <td>38171</td>\n",
       "    </tr>\n",
       "    <tr>\n",
       "      <th>Olivia</th>\n",
       "      <td>321581</td>\n",
       "      <td>38171</td>\n",
       "    </tr>\n",
       "    <tr>\n",
       "      <th>Isabella</th>\n",
       "      <td>306218</td>\n",
       "      <td>38171</td>\n",
       "    </tr>\n",
       "    <tr>\n",
       "      <th>Sophia</th>\n",
       "      <td>286197</td>\n",
       "      <td>38171</td>\n",
       "    </tr>\n",
       "  </tbody>\n",
       "</table>\n",
       "</div>"
      ],
      "text/plain": [
       "           Count   Year\n",
       "Name                   \n",
       "Emma      358667  38171\n",
       "Emily     332839  38171\n",
       "Olivia    321581  38171\n",
       "Isabella  306218  38171\n",
       "Sophia    286197  38171"
      ]
     },
     "execution_count": 39,
     "metadata": {},
     "output_type": "execute_result"
    }
   ],
   "source": [
    "female_name_count.sort_values(by = \"Count\", ascending=False)[:5]"
   ]
  },
  {
   "cell_type": "code",
   "execution_count": 40,
   "metadata": {
    "Xeditable": false,
    "deletable": false,
    "nbgrader": {
     "cell_type": "code",
     "checksum": "8df1afa05ce38d3a6d035b86256a535c",
     "grade": true,
     "grade_id": "q7b_test",
     "locked": true,
     "points": 1,
     "schema_version": 2,
     "solution": false
    }
   },
   "outputs": [],
   "source": [
    "assert female_name_count.loc[\"Emily\", \"Count\"] == 332839\n",
    "assert female_name_count[:100].sum()[\"Count\"] == 90759"
   ]
  },
  {
   "cell_type": "markdown",
   "metadata": {},
   "source": [
    "## Thinking about sampling\n",
    "\n",
    "### Question 8a\n",
    "The data we used in the questions above is pulled from [here](https://www.ssa.gov/oact/babynames/limits.html) (we're using the link \"National\"). From your exploration of the data and the details provided by the Social Security Administration, is the data contained in the .zip file that we downloaded a sample? What population is it a sample of? How was it sampled?"
   ]
  },
  {
   "cell_type": "markdown",
   "metadata": {},
   "source": [
    "*Your answer here*"
   ]
  },
  {
   "cell_type": "markdown",
   "metadata": {},
   "source": [
    "### Question 8b\n",
    "The [Baby Name Uniqueness Analyzer](https://datayze.com/name-uniqueness-analyzer.php), which was built using SSA data, tells you how likely a person with a given name is to meet someone else with the same name. Try it out, with your name, your friends' names, your parents' names, etc, and answer the following questions:<br>\n",
    "1. In a couple sentences, describe how this tool was built. You don't have to talk about specific functions or coding approaches, but you should describe how you think the data was manipulated or subset to show the result.\n",
    "1. Is the question that the tool aims to answer an example of a conditional probability question?\n",
    "1. How might the results of some of your queries change if the SSA had provided data that was sampled differently?<br>"
   ]
  },
  {
   "cell_type": "markdown",
   "metadata": {},
   "source": [
    "*Your answer here*"
   ]
  },
  {
   "cell_type": "markdown",
   "metadata": {
    "Xeditable": false,
    "deletable": false,
    "nbgrader": {
     "cell_type": "markdown",
     "checksum": "d7f9b3770892f5af659332546a93a094",
     "grade": false,
     "grade_id": "done",
     "locked": true,
     "schema_version": 2,
     "solution": false
    }
   },
   "source": [
    "#### You are done! Remember to submit this lab on bCourses in both html and ipynb formats after clicking Kernel -> Restart & Run All."
   ]
  }
 ],
 "metadata": {
  "anaconda-cloud": {},
  "celltoolbar": "Edit Metadata",
  "kernelspec": {
   "display_name": "Python 3",
   "language": "python",
   "name": "python3"
  },
  "language_info": {
   "codemirror_mode": {
    "name": "ipython",
    "version": 3
   },
   "file_extension": ".py",
   "mimetype": "text/x-python",
   "name": "python",
   "nbconvert_exporter": "python",
   "pygments_lexer": "ipython3",
   "version": "3.6.8"
  }
 },
 "nbformat": 4,
 "nbformat_minor": 2
}
