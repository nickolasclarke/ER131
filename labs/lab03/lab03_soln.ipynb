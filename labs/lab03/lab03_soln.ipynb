{
 "cells": [
  {
   "cell_type": "markdown",
   "metadata": {},
   "source": [
    "Before you turn this problem in, make sure everything runs as expected. First, **restart the kernel** (in the menubar, select Kernel$\\rightarrow$Restart) and then **run all cells** (in the menubar, select Cell$\\rightarrow$Run All).\n",
    "\n",
    "Make sure you fill in any place that says `YOUR CODE HERE` or \"YOUR ANSWER HERE\", as well as your name and collaborators below:"
   ]
  },
  {
   "cell_type": "code",
   "execution_count": 1,
   "metadata": {},
   "outputs": [],
   "source": [
    "NAME = \"\" # put your full name here\n",
    "COLLABORATORS = [] # list anyone you collaborated with on this workbook"
   ]
  },
  {
   "cell_type": "markdown",
   "metadata": {},
   "source": [
    "---"
   ]
  },
  {
   "cell_type": "markdown",
   "metadata": {},
   "source": [
    "## Lab 3: Exploratory Data Analysis\n",
    "**This lab was distributed Monday 9/16/2019 and should be completed by Monday 9/23/2019 at 11:59PM.**"
   ]
  },
  {
   "cell_type": "markdown",
   "metadata": {},
   "source": [
    "-------------------------------------------"
   ]
  },
  {
   "cell_type": "markdown",
   "metadata": {},
   "source": [
    "Welcome to your third lab of the semester!<br>\n",
    "\n",
    "This lab aims to get you started with exploratory data analysis, including using `.count`, `.groupby`, understanding different file types, and performing basic plotting.\n",
    "\n",
    "The data for this lab comes from the State of California's [domestic well groundwater monitoring program](https://data.ca.gov/dataset/ground-water-water-quality-results). In California, up to [2 million people get their water from a private domestic well](https://www.waterboards.ca.gov/gama/docs/wellowner_guide.pdf) as opposed to a public water system. For this lab, we've taken the water monitoring dataset and made some modifications for educational purposes, including splitting the dataset to merge later."
   ]
  },
  {
   "cell_type": "markdown",
   "metadata": {},
   "source": [
    "## Setup"
   ]
  },
  {
   "cell_type": "code",
   "execution_count": 2,
   "metadata": {},
   "outputs": [],
   "source": [
    "import numpy as np\n",
    "import matplotlib.pyplot as plt\n",
    "import pandas as pd\n",
    "%matplotlib inline"
   ]
  },
  {
   "cell_type": "markdown",
   "metadata": {},
   "source": [
    "## Question 1: Understanding the data\n",
    "### Question 1.1\n",
    "What sort of files are `gama_wells.txt`, `gama_measurements.csv`? Describe the difference between these two files. You can inspect the files in a text editor to answer this question."
   ]
  },
  {
   "cell_type": "markdown",
   "metadata": {},
   "source": [
    "gama_wells is a tab-separated file (each new entry in a given row is separated by a tab), while gama_measurements is a comma-separated file (each new entry in a given row is separated by a comma)."
   ]
  },
  {
   "cell_type": "markdown",
   "metadata": {},
   "source": [
    "### Question 1.2\n",
    "Load gama_wells.txt into dataframe `wells`, and gama_measurements.csv into dataframe `measurements`. You should use the pandas functions for [reading .csv files](https://pandas.pydata.org/pandas-docs/stable/reference/api/pandas.read_csv.html) and [reading .txt files](https://pandas.pydata.org/pandas-docs/stable/reference/api/pandas.read_table.html)."
   ]
  },
  {
   "cell_type": "code",
   "execution_count": 3,
   "metadata": {},
   "outputs": [],
   "source": [
    "wells = pd.read_table('data/gama_wells.txt', sep = '\\t')\n",
    "measurements = pd.read_csv('data/gama_measurements.csv')"
   ]
  },
  {
   "cell_type": "code",
   "execution_count": 4,
   "metadata": {},
   "outputs": [
    {
     "data": {
      "text/html": [
       "<div>\n",
       "<style scoped>\n",
       "    .dataframe tbody tr th:only-of-type {\n",
       "        vertical-align: middle;\n",
       "    }\n",
       "\n",
       "    .dataframe tbody tr th {\n",
       "        vertical-align: top;\n",
       "    }\n",
       "\n",
       "    .dataframe thead th {\n",
       "        text-align: right;\n",
       "    }\n",
       "</style>\n",
       "<table border=\"1\" class=\"dataframe\">\n",
       "  <thead>\n",
       "    <tr style=\"text-align: right;\">\n",
       "      <th></th>\n",
       "      <th>WELL_ID</th>\n",
       "      <th>WELL_TYPE</th>\n",
       "      <th>WELL_DEPTH_FT</th>\n",
       "      <th>APPROXIMATE_LATITUDE</th>\n",
       "      <th>APPROXIMATE_LONGITUDE</th>\n",
       "      <th>TOP_OF_SCREEN_FT</th>\n",
       "      <th>SCREEN_LENGTH_FT</th>\n",
       "      <th>SOURCE</th>\n",
       "      <th>SOURCE_NAME</th>\n",
       "      <th>OTHER_NAMES</th>\n",
       "    </tr>\n",
       "  </thead>\n",
       "  <tbody>\n",
       "    <tr>\n",
       "      <th>0</th>\n",
       "      <td>ANT-07</td>\n",
       "      <td>MUNICIPAL</td>\n",
       "      <td>527.0</td>\n",
       "      <td>34.835000</td>\n",
       "      <td>-118.215833</td>\n",
       "      <td>0.0</td>\n",
       "      <td>0.0</td>\n",
       "      <td>USGS</td>\n",
       "      <td>ANT-07</td>\n",
       "      <td>ANT-07</td>\n",
       "    </tr>\n",
       "    <tr>\n",
       "      <th>1</th>\n",
       "      <td>ANT-U</td>\n",
       "      <td>MUNICIPAL</td>\n",
       "      <td>700.0</td>\n",
       "      <td>34.690131</td>\n",
       "      <td>-118.133694</td>\n",
       "      <td>235.0</td>\n",
       "      <td>458.0</td>\n",
       "      <td>USGS</td>\n",
       "      <td>ANT-U</td>\n",
       "      <td>ANT-U</td>\n",
       "    </tr>\n",
       "    <tr>\n",
       "      <th>2</th>\n",
       "      <td>ANT-08</td>\n",
       "      <td>MUNICIPAL</td>\n",
       "      <td>500.0</td>\n",
       "      <td>34.719417</td>\n",
       "      <td>-118.292500</td>\n",
       "      <td>0.0</td>\n",
       "      <td>0.0</td>\n",
       "      <td>USGS</td>\n",
       "      <td>ANT-08</td>\n",
       "      <td>ANT-08</td>\n",
       "    </tr>\n",
       "    <tr>\n",
       "      <th>3</th>\n",
       "      <td>ANT-12</td>\n",
       "      <td>MUNICIPAL</td>\n",
       "      <td>1200.0</td>\n",
       "      <td>34.664500</td>\n",
       "      <td>-118.072806</td>\n",
       "      <td>0.0</td>\n",
       "      <td>0.0</td>\n",
       "      <td>USGS</td>\n",
       "      <td>ANT-12</td>\n",
       "      <td>ANT-12</td>\n",
       "    </tr>\n",
       "    <tr>\n",
       "      <th>4</th>\n",
       "      <td>ANT-17</td>\n",
       "      <td>MUNICIPAL</td>\n",
       "      <td>552.0</td>\n",
       "      <td>34.688872</td>\n",
       "      <td>-118.137139</td>\n",
       "      <td>0.0</td>\n",
       "      <td>0.0</td>\n",
       "      <td>USGS</td>\n",
       "      <td>ANT-17</td>\n",
       "      <td>ANT-17</td>\n",
       "    </tr>\n",
       "  </tbody>\n",
       "</table>\n",
       "</div>"
      ],
      "text/plain": [
       "  WELL_ID  WELL_TYPE  WELL_DEPTH_FT  APPROXIMATE_LATITUDE  \\\n",
       "0  ANT-07  MUNICIPAL          527.0             34.835000   \n",
       "1   ANT-U  MUNICIPAL          700.0             34.690131   \n",
       "2  ANT-08  MUNICIPAL          500.0             34.719417   \n",
       "3  ANT-12  MUNICIPAL         1200.0             34.664500   \n",
       "4  ANT-17  MUNICIPAL          552.0             34.688872   \n",
       "\n",
       "   APPROXIMATE_LONGITUDE  TOP_OF_SCREEN_FT  SCREEN_LENGTH_FT SOURCE  \\\n",
       "0            -118.215833               0.0               0.0   USGS   \n",
       "1            -118.133694             235.0             458.0   USGS   \n",
       "2            -118.292500               0.0               0.0   USGS   \n",
       "3            -118.072806               0.0               0.0   USGS   \n",
       "4            -118.137139               0.0               0.0   USGS   \n",
       "\n",
       "  SOURCE_NAME OTHER_NAMES  \n",
       "0      ANT-07      ANT-07  \n",
       "1       ANT-U       ANT-U  \n",
       "2      ANT-08      ANT-08  \n",
       "3      ANT-12      ANT-12  \n",
       "4      ANT-17      ANT-17  "
      ]
     },
     "execution_count": 4,
     "metadata": {},
     "output_type": "execute_result"
    }
   ],
   "source": [
    "wells.head()"
   ]
  },
  {
   "cell_type": "code",
   "execution_count": 5,
   "metadata": {},
   "outputs": [
    {
     "data": {
      "text/html": [
       "<div>\n",
       "<style scoped>\n",
       "    .dataframe tbody tr th:only-of-type {\n",
       "        vertical-align: middle;\n",
       "    }\n",
       "\n",
       "    .dataframe tbody tr th {\n",
       "        vertical-align: top;\n",
       "    }\n",
       "\n",
       "    .dataframe thead th {\n",
       "        text-align: right;\n",
       "    }\n",
       "</style>\n",
       "<table border=\"1\" class=\"dataframe\">\n",
       "  <thead>\n",
       "    <tr style=\"text-align: right;\">\n",
       "      <th></th>\n",
       "      <th>WELL_ID</th>\n",
       "      <th>RESULTS</th>\n",
       "      <th>CHEMICAL</th>\n",
       "      <th>DATE</th>\n",
       "      <th>UNITS</th>\n",
       "      <th>QUALIFER</th>\n",
       "      <th>RL</th>\n",
       "    </tr>\n",
       "  </thead>\n",
       "  <tbody>\n",
       "    <tr>\n",
       "      <th>0</th>\n",
       "      <td>ANT-07</td>\n",
       "      <td>0.073</td>\n",
       "      <td>BR</td>\n",
       "      <td>1/29/2008</td>\n",
       "      <td>MG/L</td>\n",
       "      <td>NaN</td>\n",
       "      <td>0.02</td>\n",
       "    </tr>\n",
       "    <tr>\n",
       "      <th>1</th>\n",
       "      <td>ANT-07</td>\n",
       "      <td>0.100</td>\n",
       "      <td>CDS</td>\n",
       "      <td>1/29/2008</td>\n",
       "      <td>UG/L</td>\n",
       "      <td>&lt;</td>\n",
       "      <td>0.06</td>\n",
       "    </tr>\n",
       "    <tr>\n",
       "      <th>2</th>\n",
       "      <td>ANT-07</td>\n",
       "      <td>0.060</td>\n",
       "      <td>DCA12</td>\n",
       "      <td>1/29/2008</td>\n",
       "      <td>UG/L</td>\n",
       "      <td>&lt;</td>\n",
       "      <td>0.06</td>\n",
       "    </tr>\n",
       "    <tr>\n",
       "      <th>3</th>\n",
       "      <td>ANT-07</td>\n",
       "      <td>2.000</td>\n",
       "      <td>I</td>\n",
       "      <td>1/29/2008</td>\n",
       "      <td>UG/L</td>\n",
       "      <td>&lt;</td>\n",
       "      <td>0.002</td>\n",
       "    </tr>\n",
       "    <tr>\n",
       "      <th>4</th>\n",
       "      <td>ANT-07</td>\n",
       "      <td>6.790</td>\n",
       "      <td>MO</td>\n",
       "      <td>1/29/2008</td>\n",
       "      <td>UG/L</td>\n",
       "      <td>NaN</td>\n",
       "      <td>0.2</td>\n",
       "    </tr>\n",
       "  </tbody>\n",
       "</table>\n",
       "</div>"
      ],
      "text/plain": [
       "  WELL_ID  RESULTS CHEMICAL       DATE UNITS QUALIFER     RL\n",
       "0  ANT-07    0.073       BR  1/29/2008  MG/L      NaN   0.02\n",
       "1  ANT-07    0.100      CDS  1/29/2008  UG/L        <   0.06\n",
       "2  ANT-07    0.060    DCA12  1/29/2008  UG/L        <   0.06\n",
       "3  ANT-07    2.000        I  1/29/2008  UG/L        <  0.002\n",
       "4  ANT-07    6.790       MO  1/29/2008  UG/L      NaN    0.2"
      ]
     },
     "execution_count": 5,
     "metadata": {},
     "output_type": "execute_result"
    }
   ],
   "source": [
    "measurements.head()"
   ]
  },
  {
   "cell_type": "markdown",
   "metadata": {},
   "source": [
    "### Question 1.3\n",
    "How many rows are in `wells`? How about `measurements`?"
   ]
  },
  {
   "cell_type": "code",
   "execution_count": 6,
   "metadata": {},
   "outputs": [
    {
     "data": {
      "text/plain": [
       "(4034, 10)"
      ]
     },
     "execution_count": 6,
     "metadata": {},
     "output_type": "execute_result"
    }
   ],
   "source": [
    "wells.shape # 4034 rows"
   ]
  },
  {
   "cell_type": "code",
   "execution_count": 7,
   "metadata": {},
   "outputs": [
    {
     "data": {
      "text/plain": [
       "(522615, 7)"
      ]
     },
     "execution_count": 7,
     "metadata": {},
     "output_type": "execute_result"
    }
   ],
   "source": [
    "measurements.shape # 522615 rows"
   ]
  },
  {
   "cell_type": "markdown",
   "metadata": {},
   "source": [
    "### Question 1.4\n",
    "\n",
    "What does each row of `wells` represent? How about each row of `measurements`?"
   ]
  },
  {
   "cell_type": "markdown",
   "metadata": {
    "scrolled": true
   },
   "source": [
    "Each row of `wells` represents an individual well and its associated characteristics. Each row of `measurements` represents a well testing measurement that's specific to a well, date, and chemical substance."
   ]
  },
  {
   "cell_type": "markdown",
   "metadata": {},
   "source": [
    "### Question 1.5\n",
    "Check out the documentation for this dataset provided by the [California Data Portal](https://data.ca.gov/dataset/ground-water-water-quality-results) by clicking on \"Data Dictionary\". Are there any fields in either `wells` or `measurements` that are not documented or easily understandable from looking at the data dictionary?"
   ]
  },
  {
   "cell_type": "markdown",
   "metadata": {},
   "source": [
    "The field \"RL\" in `measurements` doesn't appear in the data dictionary, although some additional googling shows that it stands for \"reporting limit\", or the lowest detectable concentration for that chemical and sensor. Some other fields, like \"SCREEN_LENGTH_FT\", also don't appear, although those are slightly more self-explanatory."
   ]
  },
  {
   "cell_type": "markdown",
   "metadata": {},
   "source": [
    "## Question 2: Merging data\n",
    "For this question, we want to use the method [`.merge()`](https://pandas.pydata.org/pandas-docs/stable/reference/api/pandas.DataFrame.merge.html) to merge `wells` and `measurements`.<br>\n",
    "When you use `.merge()`, there are a few fields that you'll have to populate. The `DataFrame` in `DataFrame.merge()` is considered your left dataframe, or the set of data that will show up on the left side of your merged dataframe. The `right` field will contain your right dataframe (the set of data that will show up on the right side of your merged dataframe).<br>\n",
    "Two of the key fields that you'll have to fill out are `on = ` (the common field that both tables should be matched on when  you merge) and ` how = ` (the type of merge that you want to perform).<br>\n",
    "A visual of the different types of merges is shown below ([source](http://www.datasciencemadesimple.com/join-merge-data-frames-pandas-python/)).<br>\n",
    "<img src=\"images/joins.png\"><br>\n",
    "An inner merge retains only the records that both tables have in common, an outer merge keeps all records from both tables and fills in `NaN` values for non-overlapping records, and a right merge and a left merge keep all the records from the right or left table, respectively, filling in `NaN` if a particular record is not found in the other table."
   ]
  },
  {
   "cell_type": "markdown",
   "metadata": {},
   "source": [
    "### Question 2.1\n",
    "If we want to link the well measurements in `measurement` to the well characteristics in `wells`, what field do we want to use for `on = `?"
   ]
  },
  {
   "cell_type": "markdown",
   "metadata": {},
   "source": [
    "We want to merge on \"WELL_ID\", which will allow us to link measurements to well characteristics."
   ]
  },
  {
   "cell_type": "markdown",
   "metadata": {},
   "source": [
    "### Question 2.2\n",
    "Will using an inner, outer, right, or left merge change the number of records or number of missing values in our final merged dataset? Feel free to try the different options to see what results. Why or why not? Under what conditions would your choice of merge type (inner, outer, right, or left) matter? "
   ]
  },
  {
   "cell_type": "code",
   "execution_count": 8,
   "metadata": {},
   "outputs": [],
   "source": [
    "# use this cell for scratch work"
   ]
  },
  {
   "cell_type": "markdown",
   "metadata": {},
   "source": [
    "No - no matter what, we still get 522,615 records. That's because there's perfect overlap between `measurements` and `wells`. If there wasn't - eg. some of the records in `measurements` were associated with wells that weren't found in `wells` - then our choice of merge type would matter. For instance, the example I just mentioned would lead to less records using an inner merge than an outer merge."
   ]
  },
  {
   "cell_type": "markdown",
   "metadata": {},
   "source": [
    "### Question 2.3\n",
    "Merge `measurements` and `wells`, keeping `measurements` as the left dataframe. Save the merged dataframe to `measurements_wells`."
   ]
  },
  {
   "cell_type": "code",
   "execution_count": 9,
   "metadata": {},
   "outputs": [],
   "source": [
    "measurements_wells = measurements.merge(wells, on = \"WELL_ID\", how = \"inner\")"
   ]
  },
  {
   "cell_type": "code",
   "execution_count": 10,
   "metadata": {},
   "outputs": [
    {
     "data": {
      "text/html": [
       "<div>\n",
       "<style scoped>\n",
       "    .dataframe tbody tr th:only-of-type {\n",
       "        vertical-align: middle;\n",
       "    }\n",
       "\n",
       "    .dataframe tbody tr th {\n",
       "        vertical-align: top;\n",
       "    }\n",
       "\n",
       "    .dataframe thead th {\n",
       "        text-align: right;\n",
       "    }\n",
       "</style>\n",
       "<table border=\"1\" class=\"dataframe\">\n",
       "  <thead>\n",
       "    <tr style=\"text-align: right;\">\n",
       "      <th></th>\n",
       "      <th>WELL_ID</th>\n",
       "      <th>RESULTS</th>\n",
       "      <th>CHEMICAL</th>\n",
       "      <th>DATE</th>\n",
       "      <th>UNITS</th>\n",
       "      <th>QUALIFER</th>\n",
       "      <th>RL</th>\n",
       "      <th>WELL_TYPE</th>\n",
       "      <th>WELL_DEPTH_FT</th>\n",
       "      <th>APPROXIMATE_LATITUDE</th>\n",
       "      <th>APPROXIMATE_LONGITUDE</th>\n",
       "      <th>TOP_OF_SCREEN_FT</th>\n",
       "      <th>SCREEN_LENGTH_FT</th>\n",
       "      <th>SOURCE</th>\n",
       "      <th>SOURCE_NAME</th>\n",
       "      <th>OTHER_NAMES</th>\n",
       "    </tr>\n",
       "  </thead>\n",
       "  <tbody>\n",
       "    <tr>\n",
       "      <th>0</th>\n",
       "      <td>ANT-07</td>\n",
       "      <td>0.073</td>\n",
       "      <td>BR</td>\n",
       "      <td>1/29/2008</td>\n",
       "      <td>MG/L</td>\n",
       "      <td>NaN</td>\n",
       "      <td>0.02</td>\n",
       "      <td>MUNICIPAL</td>\n",
       "      <td>527.0</td>\n",
       "      <td>34.835</td>\n",
       "      <td>-118.215833</td>\n",
       "      <td>0.0</td>\n",
       "      <td>0.0</td>\n",
       "      <td>USGS</td>\n",
       "      <td>ANT-07</td>\n",
       "      <td>ANT-07</td>\n",
       "    </tr>\n",
       "    <tr>\n",
       "      <th>1</th>\n",
       "      <td>ANT-07</td>\n",
       "      <td>0.100</td>\n",
       "      <td>CDS</td>\n",
       "      <td>1/29/2008</td>\n",
       "      <td>UG/L</td>\n",
       "      <td>&lt;</td>\n",
       "      <td>0.06</td>\n",
       "      <td>MUNICIPAL</td>\n",
       "      <td>527.0</td>\n",
       "      <td>34.835</td>\n",
       "      <td>-118.215833</td>\n",
       "      <td>0.0</td>\n",
       "      <td>0.0</td>\n",
       "      <td>USGS</td>\n",
       "      <td>ANT-07</td>\n",
       "      <td>ANT-07</td>\n",
       "    </tr>\n",
       "    <tr>\n",
       "      <th>2</th>\n",
       "      <td>ANT-07</td>\n",
       "      <td>0.060</td>\n",
       "      <td>DCA12</td>\n",
       "      <td>1/29/2008</td>\n",
       "      <td>UG/L</td>\n",
       "      <td>&lt;</td>\n",
       "      <td>0.06</td>\n",
       "      <td>MUNICIPAL</td>\n",
       "      <td>527.0</td>\n",
       "      <td>34.835</td>\n",
       "      <td>-118.215833</td>\n",
       "      <td>0.0</td>\n",
       "      <td>0.0</td>\n",
       "      <td>USGS</td>\n",
       "      <td>ANT-07</td>\n",
       "      <td>ANT-07</td>\n",
       "    </tr>\n",
       "    <tr>\n",
       "      <th>3</th>\n",
       "      <td>ANT-07</td>\n",
       "      <td>2.000</td>\n",
       "      <td>I</td>\n",
       "      <td>1/29/2008</td>\n",
       "      <td>UG/L</td>\n",
       "      <td>&lt;</td>\n",
       "      <td>0.002</td>\n",
       "      <td>MUNICIPAL</td>\n",
       "      <td>527.0</td>\n",
       "      <td>34.835</td>\n",
       "      <td>-118.215833</td>\n",
       "      <td>0.0</td>\n",
       "      <td>0.0</td>\n",
       "      <td>USGS</td>\n",
       "      <td>ANT-07</td>\n",
       "      <td>ANT-07</td>\n",
       "    </tr>\n",
       "    <tr>\n",
       "      <th>4</th>\n",
       "      <td>ANT-07</td>\n",
       "      <td>6.790</td>\n",
       "      <td>MO</td>\n",
       "      <td>1/29/2008</td>\n",
       "      <td>UG/L</td>\n",
       "      <td>NaN</td>\n",
       "      <td>0.2</td>\n",
       "      <td>MUNICIPAL</td>\n",
       "      <td>527.0</td>\n",
       "      <td>34.835</td>\n",
       "      <td>-118.215833</td>\n",
       "      <td>0.0</td>\n",
       "      <td>0.0</td>\n",
       "      <td>USGS</td>\n",
       "      <td>ANT-07</td>\n",
       "      <td>ANT-07</td>\n",
       "    </tr>\n",
       "  </tbody>\n",
       "</table>\n",
       "</div>"
      ],
      "text/plain": [
       "  WELL_ID  RESULTS CHEMICAL       DATE UNITS QUALIFER     RL  WELL_TYPE  \\\n",
       "0  ANT-07    0.073       BR  1/29/2008  MG/L      NaN   0.02  MUNICIPAL   \n",
       "1  ANT-07    0.100      CDS  1/29/2008  UG/L        <   0.06  MUNICIPAL   \n",
       "2  ANT-07    0.060    DCA12  1/29/2008  UG/L        <   0.06  MUNICIPAL   \n",
       "3  ANT-07    2.000        I  1/29/2008  UG/L        <  0.002  MUNICIPAL   \n",
       "4  ANT-07    6.790       MO  1/29/2008  UG/L      NaN    0.2  MUNICIPAL   \n",
       "\n",
       "   WELL_DEPTH_FT  APPROXIMATE_LATITUDE  APPROXIMATE_LONGITUDE  \\\n",
       "0          527.0                34.835            -118.215833   \n",
       "1          527.0                34.835            -118.215833   \n",
       "2          527.0                34.835            -118.215833   \n",
       "3          527.0                34.835            -118.215833   \n",
       "4          527.0                34.835            -118.215833   \n",
       "\n",
       "   TOP_OF_SCREEN_FT  SCREEN_LENGTH_FT SOURCE SOURCE_NAME OTHER_NAMES  \n",
       "0               0.0               0.0   USGS      ANT-07      ANT-07  \n",
       "1               0.0               0.0   USGS      ANT-07      ANT-07  \n",
       "2               0.0               0.0   USGS      ANT-07      ANT-07  \n",
       "3               0.0               0.0   USGS      ANT-07      ANT-07  \n",
       "4               0.0               0.0   USGS      ANT-07      ANT-07  "
      ]
     },
     "execution_count": 10,
     "metadata": {},
     "output_type": "execute_result"
    }
   ],
   "source": [
    "measurements_wells.head()"
   ]
  },
  {
   "cell_type": "markdown",
   "metadata": {},
   "source": [
    "## Question 3: Groupby"
   ]
  },
  {
   "cell_type": "markdown",
   "metadata": {},
   "source": [
    "### Question 3.1 \n",
    "Group `measurements_wells` by \"WELL_TYPE\", outputting a table that shows the counts of the variables \"RESULTS\" and \"QUALIFER\" grouped by \"WELL_TYPE\". Here, you'll want to use [`.groupby`](https://pandas.pydata.org/pandas-docs/stable/reference/api/pandas.DataFrame.groupby.html) and `.count()`."
   ]
  },
  {
   "cell_type": "code",
   "execution_count": 11,
   "metadata": {},
   "outputs": [
    {
     "data": {
      "text/html": [
       "<div>\n",
       "<style scoped>\n",
       "    .dataframe tbody tr th:only-of-type {\n",
       "        vertical-align: middle;\n",
       "    }\n",
       "\n",
       "    .dataframe tbody tr th {\n",
       "        vertical-align: top;\n",
       "    }\n",
       "\n",
       "    .dataframe thead th {\n",
       "        text-align: right;\n",
       "    }\n",
       "</style>\n",
       "<table border=\"1\" class=\"dataframe\">\n",
       "  <thead>\n",
       "    <tr style=\"text-align: right;\">\n",
       "      <th></th>\n",
       "      <th>RESULTS</th>\n",
       "      <th>QUALIFER</th>\n",
       "    </tr>\n",
       "    <tr>\n",
       "      <th>WELL_TYPE</th>\n",
       "      <th></th>\n",
       "      <th></th>\n",
       "    </tr>\n",
       "  </thead>\n",
       "  <tbody>\n",
       "    <tr>\n",
       "      <th>DOMESTIC</th>\n",
       "      <td>98752</td>\n",
       "      <td>100647</td>\n",
       "    </tr>\n",
       "    <tr>\n",
       "      <th>MUNICIPAL</th>\n",
       "      <td>420886</td>\n",
       "      <td>311508</td>\n",
       "    </tr>\n",
       "  </tbody>\n",
       "</table>\n",
       "</div>"
      ],
      "text/plain": [
       "           RESULTS  QUALIFER\n",
       "WELL_TYPE                   \n",
       "DOMESTIC     98752    100647\n",
       "MUNICIPAL   420886    311508"
      ]
     },
     "execution_count": 11,
     "metadata": {},
     "output_type": "execute_result"
    }
   ],
   "source": [
    "measurements_wells[[\"RESULTS\", \"QUALIFER\"]].groupby(measurements_wells['WELL_TYPE']).count()"
   ]
  },
  {
   "cell_type": "markdown",
   "metadata": {},
   "source": [
    "### Question 3.2\n",
    "Does groupby count NaNs? You can check by using the methods [`.isna()`](https://pandas.pydata.org/pandas-docs/stable/reference/api/pandas.DataFrame.isna.html) and `.sum`."
   ]
  },
  {
   "cell_type": "code",
   "execution_count": 12,
   "metadata": {},
   "outputs": [
    {
     "data": {
      "text/plain": [
       "110460"
      ]
     },
     "execution_count": 12,
     "metadata": {},
     "output_type": "execute_result"
    }
   ],
   "source": [
    "measurements_wells[\"QUALIFER\"].isna().sum()"
   ]
  },
  {
   "cell_type": "markdown",
   "metadata": {},
   "source": [
    "There are about 411,000 counted values in the groupby result in question 3.1, and 110,460 NAs in \"QUALIFER\" according to the code above. We know that there are 522, 615 records in total, which means that groupby does **not** count NAs."
   ]
  },
  {
   "cell_type": "markdown",
   "metadata": {},
   "source": [
    "### Question 3.3\n",
    "Find the average \"RESULTS\" value for arsenic (AS) measurements, grouped by \"WELL_TYPE\"."
   ]
  },
  {
   "cell_type": "code",
   "execution_count": 13,
   "metadata": {},
   "outputs": [
    {
     "data": {
      "text/plain": [
       "WELL_TYPE\n",
       "DOMESTIC     2.852685\n",
       "MUNICIPAL    5.345434\n",
       "Name: RESULTS, dtype: float64"
      ]
     },
     "execution_count": 13,
     "metadata": {},
     "output_type": "execute_result"
    }
   ],
   "source": [
    "arsenic = measurements_wells[measurements_wells[\"CHEMICAL\"] == \"AS\"]\n",
    "arsenic[\"RESULTS\"].groupby(arsenic[\"WELL_TYPE\"]).mean()"
   ]
  },
  {
   "cell_type": "markdown",
   "metadata": {},
   "source": [
    "## Question 4: Plotting\n",
    "Now, lets do some basic plotting. According to the [Center for Disease Control and Prevention, shallower wells are more vulnerable to nitrate contamination from fertilizer, waste, or other sources](https://www.cdc.gov/healthywater/drinking/private/wells/disease/nitrate.html). Let's explore this relationship by first creating a dataframe called `nitrate` that contains only the records that measure nitrate concentrations (NO3N). Then, use [`plt.scatter()`](https://matplotlib.org/3.1.1/api/_as_gen/matplotlib.pyplot.scatter.html) to create a scatter plot. You only need to fill in the x and y values by referencing the corresponding column in `nitrate`. Fill in the rest of the functions in the cell below to give the plot an appropriate title and x and y axis labels. Make sure to include units in your axis labels (you can inspect `nitrate` to find the appropriate units)."
   ]
  },
  {
   "cell_type": "code",
   "execution_count": 14,
   "metadata": {},
   "outputs": [],
   "source": [
    "import matplotlib.pyplot as plt"
   ]
  },
  {
   "cell_type": "code",
   "execution_count": 15,
   "metadata": {},
   "outputs": [
    {
     "data": {
      "text/plain": [
       "Text(0, 0.5, 'Nitrate concentration (MG/L)')"
      ]
     },
     "execution_count": 15,
     "metadata": {},
     "output_type": "execute_result"
    },
    {
     "data": {
      "image/png": "[encoded data removed]",
      "text/plain": [
       "<Figure size 432x288 with 1 Axes>"
      ]
     },
     "metadata": {
      "needs_background": "light"
     },
     "output_type": "display_data"
    }
   ],
   "source": [
    "nitrate = measurements_wells[measurements_wells[\"CHEMICAL\"] == \"NO3N\"]\n",
    "\n",
    "plt.scatter(nitrate[\"WELL_DEPTH_FT\"], nitrate[\"RESULTS\"], marker = '.')\n",
    "plt.title(\"Measured nitrate concentrations by well depth\")\n",
    "plt.xlabel(\"Well depth (ft)\")\n",
    "plt.ylabel(\"Nitrate concentration (MG/L)\")"
   ]
  },
  {
   "cell_type": "markdown",
   "metadata": {},
   "source": [
    "# Hooray, you're done! \n",
    "\n",
    "Please remember to submit your lab work, after running all cells, in .html and .ipynb format on bCourses."
   ]
  }
 ],
 "metadata": {
  "kernelspec": {
   "display_name": "Python 3",
   "language": "python",
   "name": "python3"
  },
  "language_info": {
   "codemirror_mode": {
    "name": "ipython",
    "version": 3
   },
   "file_extension": ".py",
   "mimetype": "text/x-python",
   "name": "python",
   "nbconvert_exporter": "python",
   "pygments_lexer": "ipython3",
   "version": "3.6.8"
  }
 },
 "nbformat": 4,
 "nbformat_minor": 2
}
