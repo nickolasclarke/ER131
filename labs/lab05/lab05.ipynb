{
 "cells": [
  {
   "cell_type": "markdown",
   "metadata": {},
   "source": [
    "Before you turn this problem in, make sure everything runs as expected. First, **restart the kernel** (in the menubar, select Kernel$\\rightarrow$Restart) and then **run all cells** (in the menubar, select Cell$\\rightarrow$Run All).\n",
    "\n",
    "Make sure you fill in any place that says `YOUR CODE HERE` or \"YOUR ANSWER HERE\", as well as your name and collaborators below:"
   ]
  },
  {
   "cell_type": "code",
   "execution_count": null,
   "metadata": {},
   "outputs": [],
   "source": [
    "NAME = \"\" # put your full name here\n",
    "COLLABORATORS = [] # list anyone you collaborated with on this workbook"
   ]
  },
  {
   "cell_type": "markdown",
   "metadata": {},
   "source": [
    "---"
   ]
  },
  {
   "cell_type": "markdown",
   "metadata": {},
   "source": [
    "## Lab 5: Regression\n",
    "**This lab was distributed Monday 9/30/2019 and should be completed by Monday 10/7/2019 at 11:59PM.**\n"
   ]
  },
  {
   "cell_type": "markdown",
   "metadata": {},
   "source": [
    "Welcome to your fifth lab of the semester!<br>\n",
    "\n",
    "This lab aims to get you started with linear algebra operations and linear regression in Python."
   ]
  },
  {
   "cell_type": "markdown",
   "metadata": {},
   "source": [
    "### Setup"
   ]
  },
  {
   "cell_type": "code",
   "execution_count": null,
   "metadata": {},
   "outputs": [],
   "source": [
    "import numpy as np\n",
    "import matplotlib.pyplot as plt\n",
    "import seaborn as sns\n",
    "import pandas as pd"
   ]
  },
  {
   "cell_type": "markdown",
   "metadata": {},
   "source": [
    "### Section 1: Linear algebra with Numpy\n",
    "The purpose of this section is to give you a chance to do a little more work with numpy before tackling the homework."
   ]
  },
  {
   "cell_type": "markdown",
   "metadata": {},
   "source": [
    "**Question 1.1** Create a 100x1 numpy array with normally distributed random entries, centered around 0.\n",
    "Call the array $a$. If you can't remember the numpy syntax, [this might help](https://docs.scipy.org/doc/numpy-1.14.0/reference/routines.random.html)."
   ]
  },
  {
   "cell_type": "code",
   "execution_count": null,
   "metadata": {},
   "outputs": [],
   "source": [
    "a = ...\n",
    "print(a)"
   ]
  },
  {
   "cell_type": "markdown",
   "metadata": {},
   "source": [
    "**Question 1.2** Print the first 5 entries and the last 5 entries of the array (you might want to look up [slicing and indexing in numpy](https://docs.scipy.org/doc/numpy/reference/arrays.indexing.html) as a refresher)."
   ]
  },
  {
   "cell_type": "code",
   "execution_count": null,
   "metadata": {},
   "outputs": [],
   "source": [
    "# YOUR CODE HERE"
   ]
  },
  {
   "cell_type": "markdown",
   "metadata": {},
   "source": [
    "**Question 1.3** Plot the distribution of $a$ to give a visual verification that it's normal.  "
   ]
  },
  {
   "cell_type": "code",
   "execution_count": null,
   "metadata": {},
   "outputs": [],
   "source": [
    "# YOUR CODE HERE"
   ]
  },
  {
   "cell_type": "markdown",
   "metadata": {},
   "source": [
    "**Question 1.4** Now make a matrix of random entries that you can multiply by the vector you just created.\n",
    "We'll call the matrix $X$, and after this we're going to find the product $Xa$. Make sure to choose the dimensions of $X$ so that it's possible to perform the matrix multiplication $Xa$."
   ]
  },
  {
   "cell_type": "code",
   "execution_count": null,
   "metadata": {},
   "outputs": [],
   "source": [
    "# YOUR CODE HERE"
   ]
  },
  {
   "cell_type": "markdown",
   "metadata": {},
   "source": [
    "**Question 1.5** Now multiply $a$ by $X$, that is, compute $Xa$.  \n",
    "If numpy gives you an error, diagnose and fix it, and write comments on what happened in the markdown cell below your solution."
   ]
  },
  {
   "cell_type": "code",
   "execution_count": null,
   "metadata": {},
   "outputs": [],
   "source": [
    "# YOUR CODE HERE"
   ]
  },
  {
   "cell_type": "markdown",
   "metadata": {},
   "source": [
    "(enter comments here on any problems you encountered and how you fixed them)"
   ]
  },
  {
   "cell_type": "markdown",
   "metadata": {},
   "source": [
    "**Question 1.6** Preparing to invert a matrix: Here, you'll define a matrix that you'll later invert. Remember that the inverse of a matrix $B$ is written as $B^{-1}$, and it satisfies the formula:<br>\n",
    "$BB^{-1} = I$<br>\n",
    "\n",
    "$I$ is the identity matrix, which is a matrix where the diagonal is all 1s and the rest of the elements are 0. For example, if you try to perform the following matrix multiplication, you'll find that you get this result:<br>\n",
    "\n",
    "$\\begin{bmatrix}\n",
    " 1&2\\\\\n",
    " 3&4\\\\\n",
    " \\end{bmatrix}\n",
    " \\begin{bmatrix}\n",
    " -2&1\\\\\n",
    " 1.5&-0.5\\\\\n",
    " \\end{bmatrix} = \n",
    " \\begin{bmatrix}\n",
    " 1&0\\\\\n",
    " 0&1\\\\\n",
    " \\end{bmatrix}$<br>\n",
    " \n",
    "The two matrices above are inverses of each other. The identity matrix $I$ is important because if you multiply it by *any* matrix with the same dimensions, you'll get that same matrix (try it!).<br>\n",
    " \n",
    "A matrix inverse only exists for square matrices that are invertible. To avoid non-invertible matrices, you need to be careful that you don't create a \"singular matrix\". This happens when you can write down one row as a linear transformation of one or more other rows.  For example\n",
    "\n",
    "$\\begin{bmatrix}\n",
    " x&y\\\\\n",
    " 2x&2y\\\\\n",
    " \\end{bmatrix}$\n",
    " \n",
    "is singular because the second row is just two times the first.  But \n",
    "\n",
    "$\\begin{bmatrix}\n",
    " x&y&z\\\\\n",
    " 2x&2y&0\\\\\n",
    " 0&0&z\\\\\n",
    " \\end{bmatrix}$\n",
    " \n",
    "is also singular because the first row equals half of the second plus the third.<br>\n",
    "\n",
    "In the cell below, define a square matrix $B$ (that is different from the example matrix provided above). You can choose its size and the value of each element."
   ]
  },
  {
   "cell_type": "code",
   "execution_count": null,
   "metadata": {},
   "outputs": [],
   "source": [
    "B = ...\n",
    "print(B)"
   ]
  },
  {
   "cell_type": "markdown",
   "metadata": {},
   "source": [
    "Here is a function to check if the matrix is singular. "
   ]
  },
  {
   "cell_type": "code",
   "execution_count": null,
   "metadata": {},
   "outputs": [],
   "source": [
    "### Run this cell; don't change it\n",
    "def is_invertible(a):\n",
    "    return a.shape[0] == a.shape[1] and np.linalg.matrix_rank(a) == a.shape[0]"
   ]
  },
  {
   "cell_type": "markdown",
   "metadata": {},
   "source": [
    "**Question 1.7** What two things is the function `is_invertible` checking?"
   ]
  },
  {
   "cell_type": "markdown",
   "metadata": {},
   "source": [
    "*Your answer here*"
   ]
  },
  {
   "cell_type": "markdown",
   "metadata": {},
   "source": [
    "**Question 1.8** Is your matrix invertible?\n",
    "Use `is_invertible` from the cell above to verify invertibility.  If your matrix isn't invertible, make adjustments until it is."
   ]
  },
  {
   "cell_type": "code",
   "execution_count": null,
   "metadata": {},
   "outputs": [],
   "source": [
    "# YOUR CODE HERE"
   ]
  },
  {
   "cell_type": "markdown",
   "metadata": {},
   "source": [
    "**Question 1.9** Use numpy to invert your matrix"
   ]
  },
  {
   "cell_type": "code",
   "execution_count": null,
   "metadata": {},
   "outputs": [],
   "source": [
    "Binv = ...\n",
    "print(Binv)"
   ]
  },
  {
   "cell_type": "markdown",
   "metadata": {},
   "source": [
    "**Question 1.10** Verify that $Binv$ is the inverse of $B$, using the definition of an inverse matrix."
   ]
  },
  {
   "cell_type": "code",
   "execution_count": null,
   "metadata": {},
   "outputs": [],
   "source": [
    "# YOUR CODE EHRE"
   ]
  },
  {
   "cell_type": "markdown",
   "metadata": {},
   "source": [
    "**Question 1.11** Time taken to invert matrices: the next cell will report the time numpy takes to invert matrices of different sizes.  Run the cell and watch the output.  In the following markdown cell, discuss what you see happening to the time to compute the inverse as the matrix grows.<br>\n",
    "\n",
    "From lecture 9, you'll recall that when we do multiple regression we need to calculate an inverse matrix to find the coefficients. What do these results tell you about computing coefficients for a multiple regression with a large number of predictors?"
   ]
  },
  {
   "cell_type": "code",
   "execution_count": null,
   "metadata": {},
   "outputs": [],
   "source": [
    "### Don't modify this cell, just run it.\n",
    "A_small = np.random.randn(100).reshape([10,10])\n",
    "print('Inverting small matrix')\n",
    "%timeit np.linalg.inv(A_small)\n",
    "\n",
    "A_med = np.random.randn(10000).reshape([100,100])\n",
    "print('Inverting medium matrix')\n",
    "%timeit np.linalg.inv(A_med)\n",
    "\n",
    "A_realbig = np.random.randn(1000000).reshape([1000,1000])\n",
    "print('Inverting real big matrix')\n",
    "%timeit np.linalg.inv(A_realbig)"
   ]
  },
  {
   "cell_type": "markdown",
   "metadata": {},
   "source": [
    "*Your answer here*"
   ]
  },
  {
   "cell_type": "markdown",
   "metadata": {},
   "source": [
    "### Section 2: Solving least squares regression.\n",
    "In lecture we went over formulas to solve for the coefficients $\\beta_0$ and $\\beta_1$ in a single-variable least squares regression problem:\n",
    "\n",
    "$y_i = \\beta_0 + \\beta_1 x_i + e_i$.\n",
    "\n",
    "Those formulas are:\n",
    "\n",
    "$\n",
    "\\hat{\\beta}_0  =\\bar{y} - \\hat{\\beta}_1\\bar{x}\\\\\n",
    "\\hat{\\beta}_1 = \\frac{ \\sum_{i=1}^n(x_i-\\bar{x})(y_i-\\bar{y})}{\\sum_{i=1}^n (x_i-\\bar{x})^2}\n",
    "$"
   ]
  },
  {
   "cell_type": "markdown",
   "metadata": {},
   "source": [
    "**Question 2.1** In this section, we'll be working with data from the [California Department of Transportation (CalTrans)](https://data.ca.gov/dataset/caltrans-annual-vehicle-delay). \n",
    "\n",
    "Load in the .csv file in the \"data\" folder and save it to a dataframe `df`."
   ]
  },
  {
   "cell_type": "code",
   "execution_count": null,
   "metadata": {},
   "outputs": [],
   "source": [
    "df = ...\n",
    "df.head()"
   ]
  },
  {
   "cell_type": "markdown",
   "metadata": {},
   "source": [
    "**Question 2.2** This dataset reports freeway congestion in California, organized by county and route. For this exercise, we'll be looking specifically at the Annual Vehicle Miles Traveled (VMT) field, which represents the total number of miles that a vehicle traveled on that route in that county, and the Incidents/ Day field, which represents the average number of traffic incidents per day for that route and county in 2017.\n",
    "\n",
    "To start off with, create a scatter plot of Annual VMT on the x-axis and Incidents/Day on the y-axis. What can you say about the general relationship between these two variables?\n",
    "\n",
    "*Note*: instead of typing out a long column name everytime you need to use it, you can create a variable that contains that column name as a string. For instance, rather than typing out `df[\"Annual Vehicle Miles Traveled (VMT)\"]`, you can define a variable `vmt`:\n",
    "```python\n",
    "vmt = \"Annual Vehicle Miles Traveled (VMT)\"\n",
    "df[vmt]\n",
    "```\n",
    "You can also just re-name the column nanmes."
   ]
  },
  {
   "cell_type": "code",
   "execution_count": null,
   "metadata": {},
   "outputs": [],
   "source": [
    "# YOUR CODE HERE"
   ]
  },
  {
   "cell_type": "markdown",
   "metadata": {},
   "source": [
    "*Your observations here*"
   ]
  },
  {
   "cell_type": "markdown",
   "metadata": {},
   "source": [
    "**Question 2.3** Write a function that returns $\\beta_0$ and $\\beta_1$ using the summation formulas from class (i.e., the formulas above in the lab notebook), taking the $x$ and $y$ observations as input. Note that you can return two values from a function using the syntax `return (value1,value2)`."
   ]
  },
  {
   "cell_type": "code",
   "execution_count": null,
   "metadata": {},
   "outputs": [],
   "source": [
    "def get_betas(x,y):\n",
    "    # YOUR CODE HERE\n",
    "    return ..."
   ]
  },
  {
   "cell_type": "markdown",
   "metadata": {},
   "source": [
    "**Question 2.4** Use your function to compute $\\beta_0$ and $\\beta_1$ for two variables of interest in the Caltrans data you loaded.  "
   ]
  },
  {
   "cell_type": "code",
   "execution_count": null,
   "metadata": {},
   "outputs": [],
   "source": [
    "# YOUR CODE HERE\n",
    "print('Beta values are', b0, 'and', b1)"
   ]
  },
  {
   "cell_type": "markdown",
   "metadata": {},
   "source": [
    "**Question 2.5** Output a plot that overlays your regression line on a scatterplot of VMT vs. incidents per day. To get started, you'll need to calculate your predicted value `y_hat` for each of your $x$ values."
   ]
  },
  {
   "cell_type": "code",
   "execution_count": null,
   "metadata": {},
   "outputs": [],
   "source": [
    "y_hat = ...\n",
    "# YOUR CODE HERE"
   ]
  },
  {
   "cell_type": "markdown",
   "metadata": {},
   "source": [
    "**Question 2.5** In this section, we'll calculate our error term $e$ as well as our mean squared error (MSE). Below, calculate $e$ for each pair of predictions and observations, and then calculate the MSE. The result for $e$ should be a 1-dimensional array that has the same length as our number of observations; for the MSE it will be a single, non-negative value."
   ]
  },
  {
   "cell_type": "code",
   "execution_count": null,
   "metadata": {},
   "outputs": [],
   "source": [
    "error = ...\n",
    "MSE = ...\n",
    "print(MSE)"
   ]
  },
  {
   "cell_type": "markdown",
   "metadata": {},
   "source": [
    "**Question 2.6** In the previous few questions, we didn't divide our data into training and testing sets - we fit the regression line to the full dataset, and tested its performance on that same full dataset. In this section we'll build a loop that randomly selects the training data from the full dataset, finds the beta values using the function you've defined, and then tests its performance against the testing data. For each iteration, we'll save the beta values, the error array, and the MSE. The skeleton code below will get you started."
   ]
  },
  {
   "cell_type": "code",
   "execution_count": null,
   "metadata": {},
   "outputs": [],
   "source": [
    "n_iter = 100 # number of iterations\n",
    "n_test = int(np.round(len(df[vmt])*0.7)) # number of test data points is equal to 70% of the observations, rounded to the nearest integer\n",
    "n_train = int(len(df[vmt]) - n_test) # number of training data points\n",
    "\n",
    "betas = np.zeros((n_iter,2)) # initialize empty array that will hold beta values, where each row is the beta value for a different iteration\n",
    "error = np.zeros((n_iter, n_train)) # each row has the error values of the training dataset for a different iteration\n",
    "MSE = np.zeros(n_iter) # each value is mean squared error for a different iteration\n",
    "\n",
    "for i in range(n_iter):\n",
    "    test_indx = np.random.choice(len(df[vmt]), size = n_test, replace = False) # index values for test data\n",
    "    train_indx = np.setdiff1d(np.arange(len(df[vmt])),test_indx) # index values for training data\n",
    " \n",
    "    # YOUR CODE BELOW\n",
    "    betas[i,:] = ...\n",
    "    y_hat = ...\n",
    "    error[i,:] = ...\n",
    "    MSE[i] = ..."
   ]
  },
  {
   "cell_type": "markdown",
   "metadata": {},
   "source": [
    "**Question 2.7** Plot a distribution of your mean squared error using `sns.kdeplot()`. What do you notice about the distribution? Can you explain its shape, based on what you've observed about the dataset?"
   ]
  },
  {
   "cell_type": "code",
   "execution_count": null,
   "metadata": {},
   "outputs": [],
   "source": [
    "# YOUR CODE HERE"
   ]
  },
  {
   "cell_type": "markdown",
   "metadata": {},
   "source": [
    "*Your observations here*"
   ]
  },
  {
   "cell_type": "markdown",
   "metadata": {},
   "source": [
    "**Question 2.8** Plot a scatter plot of all observations, overlayed with all 100 linear regression lines. We can plot the regression lines by using the array `betas` to calculate their value at two points, 0 and the maximum $x$ value (`df[vmt].max()`) - the skeleton code below gets you started by defining those two $x$ values. Play around with the linestyles, scatter plot marker sizes, and linewidths to get a legible plot."
   ]
  },
  {
   "cell_type": "code",
   "execution_count": null,
   "metadata": {},
   "outputs": [],
   "source": [
    "x = np.array([0, df[vmt].max()]) # two x values, at which y_hat can be calculated\n",
    "\n",
    "plt.figure(figsize = (10,5))\n",
    "\n",
    "plt.scatter(...)\n",
    "\n",
    "for i in range(n_iter):\n",
    "    y_hat = ...\n",
    "    plt.plot(...)\n",
    "    \n",
    "plt.title(...)\n",
    "plt.xlabel(...)\n",
    "plt.ylabel(...)\n",
    "plt.show()"
   ]
  },
  {
   "cell_type": "markdown",
   "metadata": {},
   "source": [
    "# Hooray, you're done! \n",
    "\n",
    "Please remember to submit your lab work, after clicking Kernel -> Restart & Run All, in .html and .ipynb format on bCourses."
   ]
  }
 ],
 "metadata": {
  "kernelspec": {
   "display_name": "Python 3",
   "language": "python",
   "name": "python3"
  },
  "language_info": {
   "codemirror_mode": {
    "name": "ipython",
    "version": 3
   },
   "file_extension": ".py",
   "mimetype": "text/x-python",
   "name": "python",
   "nbconvert_exporter": "python",
   "pygments_lexer": "ipython3",
   "version": "3.6.8"
  }
 },
 "nbformat": 4,
 "nbformat_minor": 2
}
